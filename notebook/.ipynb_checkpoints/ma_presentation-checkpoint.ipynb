{
 "cells": [
  {
   "cell_type": "markdown",
   "metadata": {},
   "source": [
    "Julia is a relatively new programming language."
   ]
  },
  {
   "cell_type": "code",
   "execution_count": 1,
   "metadata": {},
   "outputs": [
    {
     "data": {
      "text/plain": [
       "2"
      ]
     },
     "execution_count": 1,
     "metadata": {},
     "output_type": "execute_result"
    }
   ],
   "source": [
    "a = 1 + 1"
   ]
  },
  {
   "cell_type": "code",
   "execution_count": 2,
   "metadata": {},
   "outputs": [
    {
     "data": {
      "text/plain": [
       "3×3 Array{Int64,2}:\n",
       " 1  0  1\n",
       " 1  1  0\n",
       " 0  1  0"
      ]
     },
     "execution_count": 2,
     "metadata": {},
     "output_type": "execute_result"
    }
   ],
   "source": [
    "A = [\n",
    "1 0 1\n",
    "1 1 0\n",
    "0 1 0]"
   ]
  },
  {
   "cell_type": "code",
   "execution_count": 3,
   "metadata": {},
   "outputs": [
    {
     "data": {
      "text/plain": [
       "3×4 Array{Int64,2}:\n",
       " 0  0  1  1\n",
       " 1  1  0  0\n",
       " 1  0  1  0"
      ]
     },
     "execution_count": 3,
     "metadata": {},
     "output_type": "execute_result"
    }
   ],
   "source": [
    "B = [\n",
    "0 0 1 1\n",
    "1 1 0 0\n",
    "1 0 1 0]"
   ]
  },
  {
   "cell_type": "code",
   "execution_count": 4,
   "metadata": {},
   "outputs": [
    {
     "data": {
      "text/plain": [
       "3×4 Array{Int64,2}:\n",
       " 1  0  2  1\n",
       " 1  1  1  1\n",
       " 1  1  0  0"
      ]
     },
     "execution_count": 4,
     "metadata": {},
     "output_type": "execute_result"
    }
   ],
   "source": [
    "C = A * B"
   ]
  },
  {
   "cell_type": "markdown",
   "metadata": {},
   "source": [
    "Suppose we had a small corpus with four words. \\\n",
    "\"walk\", \"walks\", \"walked\"(past tense) and \"walked\" (past participle)"
   ]
  },
  {
   "cell_type": "code",
   "execution_count": 5,
   "metadata": {},
   "outputs": [],
   "source": [
    "# #wa wal alk lk# lks ks# lke ked ed#\n",
    "C = [\n",
    "1 1 1 1 0 0 0 0 0 # walk\n",
    "1 1 1 0 1 1 0 0 0 # walks\n",
    "1 1 1 0 0 0 1 1 1 # walked_past\n",
    "1 1 1 0 0 0 1 1 1 # walked_part\n",
    "];"
   ]
  },
  {
   "cell_type": "code",
   "execution_count": 6,
   "metadata": {},
   "outputs": [],
   "source": [
    "# WALK PRESENT PAST SINGULAR PARTICIPLE\n",
    "S_feature = [\n",
    "1 1 0 0 0\n",
    "1 1 0 1 0\n",
    "1 0 0 0 0\n",
    "1 0 1 0 0\n",
    "1 0 1 0 1\n",
    "];"
   ]
  },
  {
   "cell_type": "code",
   "execution_count": 7,
   "metadata": {},
   "outputs": [],
   "source": [
    "L = [\n",
    "-1.52  -0.69   0.05  -0.31   1.60   0.23 # WALK\n",
    "-0.92  -0.86   1.30   0.01   0.22  -0.58 # PRESENT\n",
    "-0.69   0.98   2.94  -0.06   1.10   2.10 # PAST\n",
    "-0.01   0.69  -0.26  -0.56  -0.89  -1.09 # SINGULAR\n",
    "-1.37  -0.98   0.81   0.01   0.56   0.31 # PARTICIPLE\n",
    "];"
   ]
  },
  {
   "cell_type": "code",
   "execution_count": 8,
   "metadata": {},
   "outputs": [
    {
     "data": {
      "text/plain": [
       "4×6 Array{Float64,2}:\n",
       " -2.44  -1.55  1.35  -0.3   1.82  -0.35\n",
       " -2.45  -0.86  1.09  -0.86  0.93  -1.44\n",
       " -2.21   0.29  2.99  -0.37  2.7    2.33\n",
       " -3.58  -0.69  3.8   -0.36  3.26   2.64"
      ]
     },
     "execution_count": 8,
     "metadata": {},
     "output_type": "execute_result"
    }
   ],
   "source": [
    "S1 = L[1:1,:] + L[2:2,:]                  # walk\n",
    "S2 = L[1:1,:] + L[2:2,:] + L[4:4,:]       # walks\n",
    "S3 = L[1:1,:] + L[3:3,:]                  # walked_past\n",
    "S4 = L[1:1,:] + L[3:3,:] + L[5:5,:]       # walked_part\n",
    "\n",
    "S = vcat(S1, S2, S3, S4)"
   ]
  },
  {
   "cell_type": "code",
   "execution_count": 9,
   "metadata": {},
   "outputs": [
    {
     "data": {
      "text/plain": [
       "9×6 Array{Float64,2}:\n",
       " -0.712308  -0.314872    0.465641   -0.131026     0.504359  -0.0371795\n",
       " -0.712308  -0.314872    0.465641   -0.131026     0.504359  -0.0371795\n",
       " -0.712308  -0.314872    0.465641   -0.131026     0.504359  -0.0371795\n",
       " -0.303077  -0.605385   -0.0469231   0.0930769    0.306923  -0.238462\n",
       " -0.156538   0.0423077  -0.153462   -0.233462    -0.291538  -0.664231\n",
       " -0.156538   0.0423077  -0.153462   -0.233462    -0.291538  -0.664231\n",
       " -0.252692   0.248205    0.666026    0.00935897   0.488974   0.865513\n",
       " -0.252692   0.248205    0.666026    0.00935897   0.488974   0.865513\n",
       " -0.252692   0.248205    0.666026    0.00935897   0.488974   0.865513"
      ]
     },
     "execution_count": 9,
     "metadata": {},
     "output_type": "execute_result"
    }
   ],
   "source": [
    "using LinearAlgebra\n",
    "F = pinv(C)*S"
   ]
  },
  {
   "cell_type": "code",
   "execution_count": 10,
   "metadata": {
    "scrolled": true
   },
   "outputs": [
    {
     "data": {
      "text/plain": [
       "6×9 Array{Float64,2}:\n",
       "  0.0735187   0.0735187   0.0735187  …  -0.0265705  -0.0265705  -0.0265705\n",
       "  0.186802    0.186802    0.186802       0.225962    0.225962    0.225962\n",
       "  0.0125078   0.0125078   0.0125078      0.153566    0.153566    0.153566\n",
       " -0.156934   -0.156934   -0.156934      -0.0817396  -0.0817396  -0.0817396\n",
       "  0.699641    0.699641    0.699641       0.0501479   0.0501479   0.0501479\n",
       " -0.376047   -0.376047   -0.376047   …   0.107702    0.107702    0.107702"
      ]
     },
     "execution_count": 10,
     "metadata": {},
     "output_type": "execute_result"
    }
   ],
   "source": [
    "G = pinv(S)*C"
   ]
  },
  {
   "cell_type": "code",
   "execution_count": 11,
   "metadata": {},
   "outputs": [
    {
     "data": {
      "text/plain": [
       "1×9 Array{Int64,2}:\n",
       " 1  1  1  1  0  0  0  0  0"
      ]
     },
     "execution_count": 11,
     "metadata": {},
     "output_type": "execute_result"
    }
   ],
   "source": [
    "# comprehension model\n",
    "# take \"WALK\"\n",
    "C_val = [1 1 1 1 0 0 0 0 0]"
   ]
  },
  {
   "cell_type": "code",
   "execution_count": 12,
   "metadata": {},
   "outputs": [
    {
     "data": {
      "text/plain": [
       "1×6 Array{Float64,2}:\n",
       " -2.44  -1.55  1.35  -0.3  1.82  -0.35"
      ]
     },
     "execution_count": 12,
     "metadata": {},
     "output_type": "execute_result"
    }
   ],
   "source": [
    "Shat_val = C_val * F"
   ]
  },
  {
   "cell_type": "code",
   "execution_count": 13,
   "metadata": {},
   "outputs": [
    {
     "data": {
      "text/plain": [
       "4×1 Array{Float64,2}:\n",
       " 1.0\n",
       " 0.9218760403270171\n",
       " 0.8657589393769567\n",
       " 0.9084650742003979"
      ]
     },
     "execution_count": 13,
     "metadata": {},
     "output_type": "execute_result"
    }
   ],
   "source": [
    "using Statistics\n",
    "# evaluation\n",
    "rS = cor(S, Shat_val, dims=2)"
   ]
  },
  {
   "cell_type": "code",
   "execution_count": 14,
   "metadata": {},
   "outputs": [
    {
     "data": {
      "text/plain": [
       "1×6 Array{Float64,2}:\n",
       " -2.44  -1.55  1.35  -0.3  1.82  -0.35"
      ]
     },
     "execution_count": 14,
     "metadata": {},
     "output_type": "execute_result"
    }
   ],
   "source": [
    "# production evaluation\n",
    "# take \"WALK\" again\n",
    "S_val = L[1:1,:] + L[2:2,:]"
   ]
  },
  {
   "cell_type": "code",
   "execution_count": 15,
   "metadata": {},
   "outputs": [
    {
     "data": {
      "text/plain": [
       "1×9 Array{Float64,2}:\n",
       " 1.0  1.0  1.0  1.0  -2.40912e-16  …  -5.24964e-16  -5.24964e-16"
      ]
     },
     "execution_count": 15,
     "metadata": {},
     "output_type": "execute_result"
    }
   ],
   "source": [
    "Chat_val = S_val * G"
   ]
  },
  {
   "cell_type": "code",
   "execution_count": 16,
   "metadata": {},
   "outputs": [
    {
     "data": {
      "text/plain": [
       "1×9 Array{Float64,2}:\n",
       " 1.0  1.0  1.0  1.0  -0.0  -0.0  -0.0  -0.0  -0.0"
      ]
     },
     "execution_count": 16,
     "metadata": {},
     "output_type": "execute_result"
    }
   ],
   "source": [
    "round.(Chat_val, digits=2)"
   ]
  },
  {
   "cell_type": "markdown",
   "metadata": {},
   "source": [
    "Basic numeric operations comparison "
   ]
  },
  {
   "cell_type": "code",
   "execution_count": 77,
   "metadata": {},
   "outputs": [
    {
     "name": "stdout",
     "output_type": "stream",
     "text": [
      "  3.826465 seconds (2.48 k allocations: 305.317 MiB, 5.46% gc time)\n"
     ]
    }
   ],
   "source": [
    "# matrix multiplication\n",
    "A = randn(20000, 2000)\n",
    "B = randn(2000, 2000)\n",
    "@time C = A * B;\n",
    "\n",
    "# 3.826465 seconds (2.48 k allocations: 305.317 MiB, 5.46% gc time)"
   ]
  },
  {
   "cell_type": "code",
   "execution_count": 78,
   "metadata": {},
   "outputs": [
    {
     "data": {
      "text/plain": [
       "\"R\\nstart.time <- Sys.time()\\nC = A %*% B\\nend.time <- Sys.time()\\ntime.taken <- end.time - start.time\\nprint(time.taken)\\n\""
      ]
     },
     "execution_count": 78,
     "metadata": {},
     "output_type": "execute_result"
    }
   ],
   "source": [
    "using RCall\n",
    "@rput A\n",
    "@rput B\n",
    "\n",
    "\"\"\"R\n",
    "start.time <- Sys.time()\n",
    "C = A %*% B\n",
    "end.time <- Sys.time()\n",
    "time.taken <- end.time - start.time\n",
    "print(time.taken)\n",
    "\"\"\"\n",
    "\n",
    "# Time difference of 1.190011 mins"
   ]
  },
  {
   "cell_type": "code",
   "execution_count": 18,
   "metadata": {},
   "outputs": [
    {
     "name": "stdout",
     "output_type": "stream",
     "text": [
      " 41.738563 seconds (42 allocations: 3.577 GiB, 0.13% gc time)\n"
     ]
    }
   ],
   "source": [
    "# pair-wise correlation\n",
    "A = randn(20000, 2000)\n",
    "B = randn(20000, 2000)\n",
    "\n",
    "@time C = cor(A, B, dims=2);\n",
    "\n",
    "# 41.738563 seconds (42 allocations: 3.577 GiB, 0.13% gc time)"
   ]
  },
  {
   "cell_type": "code",
   "execution_count": null,
   "metadata": {},
   "outputs": [],
   "source": [
    "@rput A\n",
    "@rput B\n",
    "\n",
    "\"\"\"R\n",
    "start.time <- Sys.time()\n",
    "C = cor(A,B)\n",
    "end.time <- Sys.time()\n",
    "time.taken <- end.time - start.time\n",
    "print(time.taken)\n",
    "\"\"\"\n",
    "\n",
    "# Time difference of 1.780524 mins"
   ]
  },
  {
   "cell_type": "code",
   "execution_count": 19,
   "metadata": {},
   "outputs": [
    {
     "name": "stdout",
     "output_type": "stream",
     "text": [
      "(length(A.nzval) / A.m) / A.n = 0.000299975\n",
      "  0.285078 seconds (51.98 k allocations: 307.915 MiB)\n",
      "  3.257053 seconds (2 allocations: 305.176 MiB, 0.42% gc time)\n",
      "(length(A.nzval) / A.m) / A.n = 0.02955635\n",
      "  3.632603 seconds (2 allocations: 305.176 MiB, 0.33% gc time)\n",
      "  3.314192 seconds (2 allocations: 305.176 MiB, 0.02% gc time)\n"
     ]
    }
   ],
   "source": [
    "# sparse matrix multiplication\n",
    "using SparseArrays\n",
    "\n",
    "function sparseN(N, n)\n",
    "  sparse(\n",
    "    rand(1:N*10, n),\n",
    "    rand(1:N, n),\n",
    "    randn(Float64, n),\n",
    "    N*10,\n",
    "    N)\n",
    "end\n",
    "\n",
    "A = sparseN(2000, 12000)\n",
    "\n",
    "@show length(A.nzval) / A.m / A.n\n",
    "B = randn(2000, 2000)\n",
    "@time C = A * B\n",
    "\n",
    "A = Array(A)\n",
    "@time C = A * B\n",
    "\n",
    "A = sparseN(2000, 1200000)\n",
    "\n",
    "@show length(A.nzval) / A.m / A.n\n",
    "B = randn(2000, 2000)\n",
    "@time C = A * B\n",
    "\n",
    "A = Array(A)\n",
    "@time C = A * B;"
   ]
  },
  {
   "cell_type": "code",
   "execution_count": 79,
   "metadata": {},
   "outputs": [
    {
     "ename": "LoadError",
     "evalue": "\u001b[91msyntax: missing comma or ) in argument list\u001b[39m",
     "output_type": "error",
     "traceback": [
      "\u001b[91msyntax: missing comma or ) in argument list\u001b[39m",
      "",
      "Stacktrace:",
      " [1] top-level scope at In[79]:2",
      " [2] include_string(::Function, ::Module, ::String, ::String) at ./loading.jl:1091"
     ]
    }
   ],
   "source": [
    "A = Array(sparseN(2000, 12000))\n",
    "B = randn(2000, 2000)\n",
    "@rput A\n",
    "@rput B\n",
    "\n",
    "\"\"\"R\n",
    "start.time <- Sys.time()\n",
    "C = A %*% B\n",
    "end.time <- Sys.time()\n",
    "time.taken <- end.time - start.time\n",
    "print(time.taken)\n",
    "\"\"\"\n",
    "\n",
    "# Time difference of 1.780524 mins"
   ]
  },
  {
   "cell_type": "code",
   "execution_count": 81,
   "metadata": {},
   "outputs": [],
   "source": [
    "# inverse matrix\n",
    "function sparseNBit(N, n)\n",
    "  sparse(\n",
    "    rand(1:N*10, n),\n",
    "    rand(1:N, n),\n",
    "    ones(Int64, n),\n",
    "    N*10,\n",
    "    N)\n",
    "end\n",
    "\n",
    "C = sparseNBit(2000, 1200000)\n",
    "S = randn(20000, 2000);"
   ]
  },
  {
   "cell_type": "code",
   "execution_count": 21,
   "metadata": {},
   "outputs": [
    {
     "name": "stdout",
     "output_type": "stream",
     "text": [
      " 25.938233 seconds (71.43 k allocations: 1.673 GiB, 1.04% gc time)\n"
     ]
    }
   ],
   "source": [
    "@time F = pinv(Array(C)) * S;\n",
    "\n",
    "# 25.934582 seconds (71.43 k allocations: 1.673 GiB, 1.05% gc time)"
   ]
  },
  {
   "cell_type": "code",
   "execution_count": null,
   "metadata": {},
   "outputs": [],
   "source": [
    "C1 = Array(C)\n",
    "@rput C1\n",
    "@rput S\n",
    "\n",
    "\"\"\"R\n",
    "library(MASS)\n",
    "start.time <- Sys.time()\n",
    "F = ginv(C1) %*% S\n",
    "end.time <- Sys.time()\n",
    "time.taken <- end.time - start.time\n",
    "print(time.taken)\n",
    "\"\"\"\n",
    "\n",
    "# Time difference of 12.42745 mins"
   ]
  },
  {
   "cell_type": "code",
   "execution_count": 22,
   "metadata": {},
   "outputs": [
    {
     "name": "stdout",
     "output_type": "stream",
     "text": [
      " 99.179693 seconds (35 allocations: 1.669 GiB, 0.10% gc time)\n"
     ]
    }
   ],
   "source": [
    "@time G = pinv(S) * Array(C);\n",
    "\n",
    "# 99.596274 seconds (35 allocations: 1.669 GiB, 0.12% gc time)"
   ]
  },
  {
   "cell_type": "code",
   "execution_count": null,
   "metadata": {},
   "outputs": [],
   "source": [
    "\"\"\"R\n",
    "start.time <- Sys.time()\n",
    "F = ginv(S) %*% C1\n",
    "end.time <- Sys.time()\n",
    "time.taken <- end.time - start.time\n",
    "print(time.taken)\n",
    "\"\"\"\n",
    "\n",
    "# Time difference of 6.146832 mins"
   ]
  },
  {
   "cell_type": "code",
   "execution_count": 23,
   "metadata": {},
   "outputs": [
    {
     "name": "stdout",
     "output_type": "stream",
     "text": [
      "143.626440 seconds (46.72 k allocations: 613.250 MiB, 0.03% gc time)\n"
     ]
    }
   ],
   "source": [
    "# C * F = S\n",
    "# (CtC)' * Ct * C * F = (CtC)' * Ct * S\n",
    "# F = (CtC)' * Ct * S\n",
    "\n",
    "Ca = Array(C)\n",
    "@time F = pinv(Ca'Ca) * Ca' * S;\n",
    "\n",
    "# 140.733578 seconds (46.72 k allocations: 613.250 MiB, 0.03% gc time)"
   ]
  },
  {
   "cell_type": "code",
   "execution_count": null,
   "metadata": {},
   "outputs": [],
   "source": [
    "\"\"\"R\n",
    "start.time <- Sys.time()\n",
    "F = ginv(t(C1) %*% C1) %*% t(C1) %*% S\n",
    "end.time <- Sys.time()\n",
    "time.taken <- end.time - start.time\n",
    "print(time.taken)\n",
    "\"\"\"\n",
    "\n",
    "# Time difference of 3.785988 mins"
   ]
  },
  {
   "cell_type": "code",
   "execution_count": 82,
   "metadata": {},
   "outputs": [
    {
     "name": "stdout",
     "output_type": "stream",
     "text": [
      " 29.918609 seconds (33 allocations: 610.652 MiB, 3.98% gc time)\n"
     ]
    }
   ],
   "source": [
    "@time G = pinv(S'S) * S' * C;\n",
    "\n",
    "# 29.918609 seconds (33 allocations: 610.652 MiB, 3.98% gc time)"
   ]
  },
  {
   "cell_type": "code",
   "execution_count": null,
   "metadata": {},
   "outputs": [],
   "source": [
    "\"\"\"R\n",
    "start.time <- Sys.time()\n",
    "F = ginv(t(S) %*% S) %*% t(S) %*% C1\n",
    "end.time <- Sys.time()\n",
    "time.taken <- end.time - start.time\n",
    "print(time.taken)\n",
    "\"\"\"\n",
    "\n",
    "# Time difference of 3.817232 mins"
   ]
  },
  {
   "cell_type": "code",
   "execution_count": 83,
   "metadata": {},
   "outputs": [
    {
     "name": "stdout",
     "output_type": "stream",
     "text": [
      "  4.695709 seconds (80 allocations: 650.193 MiB)\n",
      "  6.841995 seconds (19 allocations: 244.157 MiB, 0.75% gc time)\n"
     ]
    }
   ],
   "source": [
    "using JudiLing\n",
    "\n",
    "@time F = JudiLing.make_transform_matrix(C, S);\n",
    "@time G = JudiLing.make_transform_matrix(S, C);"
   ]
  },
  {
   "cell_type": "markdown",
   "metadata": {},
   "source": [
    "Path finding algorithms \\\n",
    "learn_paths"
   ]
  },
  {
   "cell_type": "code",
   "execution_count": 32,
   "metadata": {},
   "outputs": [],
   "source": [
    "# #wa wal alk lk# lks ks# lke ked ed#\n",
    "C = [\n",
    "1 1 1 1 0 0 0 0 0 # walk\n",
    "1 1 1 0 1 1 0 0 0 # walks\n",
    "1 1 1 0 0 0 1 1 1 # walked_past\n",
    "1 1 1 0 0 0 1 1 1 # walked_part\n",
    "];"
   ]
  },
  {
   "cell_type": "code",
   "execution_count": 33,
   "metadata": {},
   "outputs": [],
   "source": [
    "L = [\n",
    "-1.52  -0.69   0.05  -0.31   1.60   0.23 # WALK\n",
    "-0.92  -0.86   1.30   0.01   0.22  -0.58 # PRESENT\n",
    "-0.69   0.98   2.94  -0.06   1.10   2.10 # PAST\n",
    "-0.01   0.69  -0.26  -0.56  -0.89  -1.09 # SINGULAR\n",
    "-1.37  -0.98   0.81   0.01   0.56   0.31 # PARTICIPLE\n",
    "]\n",
    "\n",
    "S1 = L[1:1,:] + L[2:2,:]                  # walk\n",
    "S2 = L[1:1,:] + L[2:2,:] + L[4:4,:]       # walks\n",
    "S3 = L[1:1,:] + L[3:3,:]                  # walked_past\n",
    "S4 = L[1:1,:] + L[3:3,:] + L[5:5,:]       # walked_part\n",
    "\n",
    "S = vcat(S1, S2, S3, S4);"
   ]
  },
  {
   "cell_type": "code",
   "execution_count": 34,
   "metadata": {},
   "outputs": [
    {
     "data": {
      "text/plain": [
       "9×6 Array{Float64,2}:\n",
       " -0.712308  -0.314872    0.465641   -0.131026     0.504359  -0.0371795\n",
       " -0.712308  -0.314872    0.465641   -0.131026     0.504359  -0.0371795\n",
       " -0.712308  -0.314872    0.465641   -0.131026     0.504359  -0.0371795\n",
       " -0.303077  -0.605385   -0.0469231   0.0930769    0.306923  -0.238462\n",
       " -0.156538   0.0423077  -0.153462   -0.233462    -0.291538  -0.664231\n",
       " -0.156538   0.0423077  -0.153462   -0.233462    -0.291538  -0.664231\n",
       " -0.252692   0.248205    0.666026    0.00935897   0.488974   0.865513\n",
       " -0.252692   0.248205    0.666026    0.00935897   0.488974   0.865513\n",
       " -0.252692   0.248205    0.666026    0.00935897   0.488974   0.865513"
      ]
     },
     "execution_count": 34,
     "metadata": {},
     "output_type": "execute_result"
    }
   ],
   "source": [
    "F = pinv(C) * S"
   ]
  },
  {
   "cell_type": "code",
   "execution_count": 35,
   "metadata": {},
   "outputs": [
    {
     "data": {
      "text/plain": [
       "6×9 Array{Float64,2}:\n",
       "  0.0735187   0.0735187   0.0735187  …  -0.0265705  -0.0265705  -0.0265705\n",
       "  0.186802    0.186802    0.186802       0.225962    0.225962    0.225962\n",
       "  0.0125078   0.0125078   0.0125078      0.153566    0.153566    0.153566\n",
       " -0.156934   -0.156934   -0.156934      -0.0817396  -0.0817396  -0.0817396\n",
       "  0.699641    0.699641    0.699641       0.0501479   0.0501479   0.0501479\n",
       " -0.376047   -0.376047   -0.376047   …   0.107702    0.107702    0.107702"
      ]
     },
     "execution_count": 35,
     "metadata": {},
     "output_type": "execute_result"
    }
   ],
   "source": [
    "G = pinv(S) * C"
   ]
  },
  {
   "cell_type": "code",
   "execution_count": 36,
   "metadata": {},
   "outputs": [
    {
     "data": {
      "text/plain": [
       "9×9 Array{Float64,2}:\n",
       " 0.282051   0.0  0.0  0.0  0.0  0.0  0.0  0.0  0.0\n",
       " 0.282051   0.0  0.0  0.0  0.0  0.0  0.0  0.0  0.0\n",
       " 0.282051   0.0  0.0  0.0  0.0  0.0  0.0  0.0  0.0\n",
       " 0.153846   0.0  0.0  0.0  0.0  0.0  0.0  0.0  0.0\n",
       " 0.0769231  0.0  0.0  0.0  0.0  0.0  0.0  0.0  0.0\n",
       " 0.0769231  0.0  0.0  0.0  0.0  0.0  0.0  0.0  0.0\n",
       " 0.0512821  0.0  0.0  0.0  0.0  0.0  0.0  0.0  0.0\n",
       " 0.0512821  0.0  0.0  0.0  0.0  0.0  0.0  0.0  0.0\n",
       " 0.0512821  0.0  0.0  0.0  0.0  0.0  0.0  0.0  0.0"
      ]
     },
     "execution_count": 36,
     "metadata": {},
     "output_type": "execute_result"
    }
   ],
   "source": [
    "# t1\n",
    "Y1 = [\n",
    "1 0 0 0 0 0 0 0 0 # walk\n",
    "1 0 0 0 0 0 0 0 0 # walks\n",
    "1 0 0 0 0 0 0 0 0 # walked_past\n",
    "1 0 0 0 0 0 0 0 0 # walked_part\n",
    "]\n",
    "\n",
    "M1 = pinv(C) * Y1"
   ]
  },
  {
   "cell_type": "code",
   "execution_count": 37,
   "metadata": {},
   "outputs": [],
   "source": [
    "# t2-6\n",
    "Y2 = [\n",
    "0 1 0 0 0 0 0 0 0 # walk\n",
    "0 1 0 0 0 0 0 0 0 # walks\n",
    "0 1 0 0 0 0 0 0 0 # walked_past\n",
    "0 1 0 0 0 0 0 0 0 # walked_part\n",
    "]\n",
    "\n",
    "M2 = pinv(C) * Y2;\n",
    "\n",
    "Y3 = [\n",
    "0 0 1 0 0 0 0 0 0 # walk\n",
    "0 0 1 0 0 0 0 0 0 # walks\n",
    "0 0 1 0 0 0 0 0 0 # walked_past\n",
    "0 0 1 0 0 0 0 0 0 # walked_part\n",
    "]\n",
    "\n",
    "M3 = pinv(C) * Y3;\n",
    "\n",
    "Y4 = [\n",
    "0 0 0 1 0 0 0 0 0 # walk\n",
    "0 0 0 0 1 0 0 0 0 # walks\n",
    "0 0 0 0 0 0 1 0 0 # walked_past\n",
    "0 0 0 0 0 0 1 0 0 # walked_part\n",
    "]\n",
    "\n",
    "M4 = pinv(C) * Y4;\n",
    "\n",
    "Y5 = [\n",
    "0 0 0 0 0 0 0 0 0 # walk\n",
    "0 0 0 0 0 1 0 0 0 # walks\n",
    "0 0 0 0 0 0 0 1 0 # walked_past\n",
    "0 0 0 0 0 0 0 1 0 # walked_part\n",
    "]\n",
    "\n",
    "M5 = pinv(C) * Y5;\n",
    "\n",
    "Y6 = [\n",
    "0 0 0 0 0 0 0 0 0 # walk\n",
    "0 0 0 0 0 0 0 0 0 # walks\n",
    "0 0 0 0 0 0 0 0 1 # walked_past\n",
    "0 0 0 0 0 0 0 0 1 # walked_part\n",
    "]\n",
    "\n",
    "M6 = pinv(C) * Y6;"
   ]
  },
  {
   "cell_type": "code",
   "execution_count": 38,
   "metadata": {},
   "outputs": [
    {
     "data": {
      "text/plain": [
       "1×6 Array{Float64,2}:\n",
       " -2.22  0.98  2.73  -0.93  1.81  1.24"
      ]
     },
     "execution_count": 38,
     "metadata": {},
     "output_type": "execute_result"
    }
   ],
   "source": [
    "# WALK PAST SINGULAR\n",
    "S_val = L[1:1,:] + L[3:3,:] + L[4:4,:]"
   ]
  },
  {
   "cell_type": "code",
   "execution_count": 39,
   "metadata": {},
   "outputs": [
    {
     "data": {
      "text/plain": [
       "1×9 Array{Float64,2}:\n",
       " 1.0  1.0  1.0  -1.0  1.0  1.0  1.0  1.0  1.0"
      ]
     },
     "execution_count": 39,
     "metadata": {},
     "output_type": "execute_result"
    }
   ],
   "source": [
    "Chat = S_val * G"
   ]
  },
  {
   "cell_type": "code",
   "execution_count": 40,
   "metadata": {},
   "outputs": [
    {
     "data": {
      "text/plain": [
       "1×9 Array{Float64,2}:\n",
       " 1.0  0.0  0.0  0.0  0.0  0.0  0.0  0.0  0.0"
      ]
     },
     "execution_count": 40,
     "metadata": {},
     "output_type": "execute_result"
    }
   ],
   "source": [
    "Y1hat = Chat * M1\n",
    "# #wa\n",
    "\n",
    "## #wa"
   ]
  },
  {
   "cell_type": "code",
   "execution_count": 41,
   "metadata": {},
   "outputs": [
    {
     "data": {
      "text/plain": [
       "1×9 Array{Float64,2}:\n",
       " 0.0  1.0  0.0  0.0  0.0  0.0  0.0  0.0  0.0"
      ]
     },
     "execution_count": 41,
     "metadata": {},
     "output_type": "execute_result"
    }
   ],
   "source": [
    "Y2hat = Chat * M2\n",
    "# wal\n",
    "\n",
    "## #wa wal"
   ]
  },
  {
   "cell_type": "code",
   "execution_count": 42,
   "metadata": {},
   "outputs": [
    {
     "data": {
      "text/plain": [
       "1×9 Array{Float64,2}:\n",
       " 0.0  0.0  1.0  0.0  0.0  0.0  0.0  0.0  0.0"
      ]
     },
     "execution_count": 42,
     "metadata": {},
     "output_type": "execute_result"
    }
   ],
   "source": [
    "Y3hat = Chat * M3\n",
    "# alk\n",
    "\n",
    "## #wa wal alk"
   ]
  },
  {
   "cell_type": "code",
   "execution_count": 43,
   "metadata": {},
   "outputs": [
    {
     "data": {
      "text/plain": [
       "1×9 Array{Float64,2}:\n",
       " 0.0  0.0  0.0  -1.0  1.0  0.0  1.0  0.0  0.0"
      ]
     },
     "execution_count": 43,
     "metadata": {},
     "output_type": "execute_result"
    }
   ],
   "source": [
    "Y4hat = Chat * M4\n",
    "# lks lke\n",
    "\n",
    "## #wa wal alk lks\n",
    "## #wa wal alk lke"
   ]
  },
  {
   "cell_type": "code",
   "execution_count": 44,
   "metadata": {},
   "outputs": [
    {
     "data": {
      "text/plain": [
       "1×9 Array{Float64,2}:\n",
       " 0.0  0.0  0.0  0.0  0.0  1.0  0.0  1.0  0.0"
      ]
     },
     "execution_count": 44,
     "metadata": {},
     "output_type": "execute_result"
    }
   ],
   "source": [
    "Y5hat = Chat * M5\n",
    "# ks# ked\n",
    "\n",
    "## #wa wal alk lks lk#\n",
    "## #wa wal alk lke ked"
   ]
  },
  {
   "cell_type": "code",
   "execution_count": 45,
   "metadata": {},
   "outputs": [
    {
     "data": {
      "text/plain": [
       "1×9 Array{Float64,2}:\n",
       " 0.0  0.0  0.0  0.0  0.0  0.0  0.0  0.0  1.0"
      ]
     },
     "execution_count": 45,
     "metadata": {},
     "output_type": "execute_result"
    }
   ],
   "source": [
    "Y6hat = Chat * M6\n",
    "# ks# ked\n",
    "\n",
    "## #wa wal alk lks lk#\n",
    "## #wa wal alk lke ked ked#"
   ]
  },
  {
   "cell_type": "code",
   "execution_count": 46,
   "metadata": {},
   "outputs": [
    {
     "data": {
      "text/plain": [
       "1×9 Array{Int64,2}:\n",
       " 1  1  1  0  0  0  1  1  1"
      ]
     },
     "execution_count": 46,
     "metadata": {},
     "output_type": "execute_result"
    }
   ],
   "source": [
    "# synthesis-by-analysi\n",
    "chat_can1 = [1 1 1 0 1 1 0 0 0]\n",
    "chat_can2 = [1 1 1 0 0 0 1 1 1]"
   ]
  },
  {
   "cell_type": "code",
   "execution_count": 47,
   "metadata": {},
   "outputs": [
    {
     "data": {
      "text/plain": [
       "1×6 Array{Float64,2}:\n",
       " -2.45  -0.86  1.09  -0.86  0.93  -1.44"
      ]
     },
     "execution_count": 47,
     "metadata": {},
     "output_type": "execute_result"
    }
   ],
   "source": [
    "shat_can1 = chat_can1 * F"
   ]
  },
  {
   "cell_type": "code",
   "execution_count": 48,
   "metadata": {},
   "outputs": [
    {
     "data": {
      "text/plain": [
       "1×6 Array{Float64,2}:\n",
       " -2.895  -0.2  3.395  -0.365  2.98  2.485"
      ]
     },
     "execution_count": 48,
     "metadata": {},
     "output_type": "execute_result"
    }
   ],
   "source": [
    "shat_can2 = chat_can2 * F"
   ]
  },
  {
   "cell_type": "code",
   "execution_count": 49,
   "metadata": {},
   "outputs": [
    {
     "name": "stdout",
     "output_type": "stream",
     "text": [
      "cor(shat_can1, S_val, dims = 2) = [0.8260925961736686]\n",
      "cor(shat_can2, S_val, dims = 2) = [0.9326808118255102]\n"
     ]
    },
    {
     "data": {
      "text/plain": [
       "1×1 Array{Float64,2}:\n",
       " 0.9326808118255102"
      ]
     },
     "execution_count": 49,
     "metadata": {},
     "output_type": "execute_result"
    }
   ],
   "source": [
    "@show cor(shat_can1, S_val, dims=2)\n",
    "@show cor(shat_can2, S_val, dims=2)\n",
    "\n",
    "# walked win\n",
    "# correct"
   ]
  },
  {
   "cell_type": "code",
   "execution_count": null,
   "metadata": {},
   "outputs": [],
   "source": []
  },
  {
   "cell_type": "markdown",
   "metadata": {},
   "source": [
    "build_paths"
   ]
  },
  {
   "cell_type": "code",
   "execution_count": 50,
   "metadata": {},
   "outputs": [
    {
     "data": {
      "text/plain": [
       "1×9 Array{Float64,2}:\n",
       " 1.0  1.0  1.0  -1.0  1.0  1.0  1.0  1.0  1.0"
      ]
     },
     "execution_count": 50,
     "metadata": {},
     "output_type": "execute_result"
    }
   ],
   "source": [
    "Chat"
   ]
  },
  {
   "cell_type": "code",
   "execution_count": 51,
   "metadata": {},
   "outputs": [
    {
     "data": {
      "text/plain": [
       "1×4 Array{Float64,2}:\n",
       " -0.395285  0.395285  0.5  0.5"
      ]
     },
     "execution_count": 51,
     "metadata": {},
     "output_type": "execute_result"
    }
   ],
   "source": [
    "cor(Chat, C, dims=2)"
   ]
  },
  {
   "cell_type": "code",
   "execution_count": 52,
   "metadata": {},
   "outputs": [],
   "source": [
    "# walks walked walked_part\n",
    "\n",
    "# #wa wal alk lks ks# lke ked ed#"
   ]
  },
  {
   "cell_type": "code",
   "execution_count": 53,
   "metadata": {},
   "outputs": [],
   "source": [
    "# t1\n",
    "\n",
    "# #wa"
   ]
  },
  {
   "cell_type": "code",
   "execution_count": 54,
   "metadata": {},
   "outputs": [],
   "source": [
    "# t2\n",
    "\n",
    "# #wa wal"
   ]
  },
  {
   "cell_type": "code",
   "execution_count": 55,
   "metadata": {},
   "outputs": [],
   "source": [
    "# t3\n",
    "\n",
    "# #wa wal alk"
   ]
  },
  {
   "cell_type": "code",
   "execution_count": 56,
   "metadata": {},
   "outputs": [],
   "source": [
    "# t4\n",
    "\n",
    "# #wa wal alk lks\n",
    "# #wa wal alk lke"
   ]
  },
  {
   "cell_type": "code",
   "execution_count": 57,
   "metadata": {},
   "outputs": [],
   "source": [
    "# t5\n",
    "\n",
    "# #wa wal alk lks ks#\n",
    "# #wa wal alk lke ked"
   ]
  },
  {
   "cell_type": "code",
   "execution_count": 58,
   "metadata": {},
   "outputs": [],
   "source": [
    "# t6\n",
    "\n",
    "# #wa wal alk lks ks$\n",
    "# #wa wal alk lks ked ed#"
   ]
  },
  {
   "cell_type": "code",
   "execution_count": 59,
   "metadata": {},
   "outputs": [
    {
     "data": {
      "text/plain": [
       "1×9 Array{Int64,2}:\n",
       " 1  1  1  0  0  0  1  1  1"
      ]
     },
     "execution_count": 59,
     "metadata": {},
     "output_type": "execute_result"
    }
   ],
   "source": [
    "# synthesis-by-analysi\n",
    "chat_can1 = [1 1 1 0 1 1 0 0 0]\n",
    "chat_can2 = [1 1 1 0 0 0 1 1 1]"
   ]
  },
  {
   "cell_type": "code",
   "execution_count": 60,
   "metadata": {},
   "outputs": [
    {
     "name": "stdout",
     "output_type": "stream",
     "text": [
      "cor(shat_can1, S_val, dims = 2) = [0.8260925961736686]\n",
      "cor(shat_can2, S_val, dims = 2) = [0.9326808118255102]\n"
     ]
    }
   ],
   "source": [
    "shat_can1 = chat_can1 * F\n",
    "shat_can2 = chat_can2 * F\n",
    "\n",
    "@show cor(shat_can1, S_val, dims=2)\n",
    "@show cor(shat_can2, S_val, dims=2);\n",
    "\n",
    "# walked win\n",
    "# correct"
   ]
  },
  {
   "cell_type": "code",
   "execution_count": 61,
   "metadata": {},
   "outputs": [
    {
     "ename": "LoadError",
     "evalue": "\u001b[91mUndefVarError: Pkg not defined\u001b[39m",
     "output_type": "error",
     "traceback": [
      "\u001b[91mUndefVarError: Pkg not defined\u001b[39m",
      "",
      "Stacktrace:",
      " [1] top-level scope at In[61]:1",
      " [2] include_string(::Function, ::Module, ::String, ::String) at ./loading.jl:1091"
     ]
    }
   ],
   "source": []
  },
  {
   "cell_type": "code",
   "execution_count": 62,
   "metadata": {},
   "outputs": [
    {
     "data": {
      "text/html": [
       "# 1 method for generic function <b>test_combo</b>:<ul><li> test_combo(test_mode; <i>kwargs...</i>) in JudiLing at <a href=\"file:///Users/xuefeng/.julia/packages/JudiLing/qwgJX/src/test_combo.jl\" target=\"_blank\">/Users/xuefeng/.julia/packages/JudiLing/qwgJX/src/test_combo.jl:192</a></li> </ul>"
      ],
      "text/plain": [
       "# 1 method for generic function \"test_combo\":\n",
       "[1] test_combo(test_mode; kwargs...) in JudiLing at /Users/xuefeng/.julia/packages/JudiLing/qwgJX/src/test_combo.jl:192"
      ]
     },
     "execution_count": 62,
     "metadata": {},
     "output_type": "execute_result"
    }
   ],
   "source": [
    "using JudiLing\n",
    "methods(JudiLing.test_combo)"
   ]
  },
  {
   "cell_type": "code",
   "execution_count": 65,
   "metadata": {},
   "outputs": [
    {
     "name": "stdout",
     "output_type": "stream",
     "text": [
      "making adjacency matrix...\n",
      "Making S matrix...\n",
      "Auto mode: Sparsity: 1.0\n",
      "Returning a dense matrix format\n",
      "Auto mode: Sparsity: 1.0\n",
      "Returning a dense matrix format\n",
      "making adjacency matrix...\n",
      "Making fac C\n",
      "==========\n",
      "Timestep 1\n",
      "Calculating Yt...\n",
      "Calculating Mt...\n",
      "Auto mode: Sparsity: 0.03125\n",
      "Returning a sparse matrix format\n",
      "Calculating Ythat...\n",
      "Sparsity: 0.03125\n",
      "Finding paths...\n",
      "==========\n",
      "Timestep 2\n",
      "average 1.0 of paths currently\n",
      "Calculating Yt...\n",
      "Calculating Mt...\n",
      "Auto mode: Sparsity: 0.03515625\n",
      "Returning a sparse matrix format\n",
      "Calculating Ythat...\n",
      "Sparsity: 0.03515625\n",
      "Finding paths...\n",
      "==========\n",
      "Timestep 3\n",
      "average 1.1130952380952381 of paths currently\n",
      "Calculating Yt...\n",
      "Calculating Mt...\n",
      "Auto mode: Sparsity: 0.04296875\n",
      "Returning a sparse matrix format\n",
      "Calculating Ythat...\n",
      "Sparsity: 0.04296875\n",
      "Finding paths...\n",
      "==========\n",
      "Timestep 4\n",
      "average 1.2857142857142858 of paths currently\n",
      "Calculating Yt...\n",
      "Calculating Mt...\n",
      "Auto mode: Sparsity: 0.16015625\n",
      "Returning a dense matrix format\n",
      "Calculating Ythat...\n",
      "Sparsity: 0.16015625\n",
      "Finding paths...\n",
      "==========\n",
      "Timestep 5\n",
      "average 2.200892857142857 of paths currently\n",
      "Calculating Yt...\n",
      "Calculating Mt...\n",
      "Auto mode: Sparsity: 0.3671875\n",
      "Returning a dense matrix format\n",
      "Calculating Ythat...\n",
      "Sparsity: 0.3671875\n",
      "Finding paths...\n",
      "==========\n",
      "Timestep 6\n",
      "average 2.543154761904762 of paths currently\n",
      "Calculating Yt...\n",
      "Calculating Mt...\n",
      "Auto mode: Sparsity: 0.35546875\n",
      "Returning a dense matrix format\n",
      "Calculating Ythat...\n",
      "Sparsity: 0.35546875\n",
      "Finding paths...\n",
      "==========\n",
      "Timestep 7\n",
      "average 2.674107142857143 of paths currently\n",
      "Calculating Yt...\n",
      "Calculating Mt...\n",
      "Auto mode: Sparsity: 0.33984375\n",
      "Returning a dense matrix format\n",
      "Calculating Ythat...\n",
      "Sparsity: 0.33984375\n",
      "Finding paths...\n",
      "==========\n",
      "Timestep 8\n",
      "average 2.2217261904761907 of paths currently\n",
      "Calculating Yt...\n",
      "Calculating Mt...\n",
      "Auto mode: Sparsity: 0.3515625\n",
      "Returning a dense matrix format\n",
      "Calculating Ythat...\n",
      "Sparsity: 0.3515625\n",
      "Finding paths...\n",
      "==========\n",
      "Timestep 9\n",
      "average 1.6964285714285714 of paths currently\n",
      "Calculating Yt...\n",
      "Calculating Mt...\n",
      "Auto mode: Sparsity: 0.27734375\n",
      "Returning a dense matrix format\n",
      "Calculating Ythat...\n",
      "Sparsity: 0.27734375\n",
      "Finding paths...\n",
      "==========\n",
      "Timestep 10\n",
      "average 0.9970238095238095 of paths currently\n",
      "Calculating Yt...\n",
      "Calculating Mt...\n",
      "Auto mode: Sparsity: 0.23828125\n",
      "Returning a dense matrix format\n",
      "Calculating Ythat...\n",
      "Sparsity: 0.23828125\n",
      "Finding paths...\n",
      "==========\n",
      "Timestep 11\n",
      "average 0.5580357142857143 of paths currently\n",
      "Calculating Yt...\n",
      "Calculating Mt...\n",
      "Auto mode: Sparsity: 0.16796875\n",
      "Returning a dense matrix format\n",
      "Calculating Ythat...\n",
      "Sparsity: 0.16796875\n",
      "Finding paths...\n",
      "==========\n",
      "Timestep 12\n",
      "average 0.27380952380952384 of paths currently\n",
      "Calculating Yt...\n",
      "Calculating Mt...\n",
      "Auto mode: Sparsity: 0.0859375\n",
      "Returning a dense matrix format\n",
      "Calculating Ythat...\n",
      "Sparsity: 0.0859375\n",
      "Finding paths...\n",
      "==========\n",
      "Timestep 13\n",
      "average 0.07589285714285714 of paths currently\n",
      "Calculating Yt...\n",
      "Calculating Mt...\n",
      "Auto mode: Sparsity: 0.0390625\n",
      "Returning a sparse matrix format\n",
      "Calculating Ythat...\n",
      "Sparsity: 0.0390625\n",
      "Finding paths...\n",
      "==========\n",
      "Timestep 14\n",
      "average 0.03273809523809524 of paths currently\n",
      "Calculating Yt...\n",
      "Calculating Mt...\n",
      "Auto mode: Sparsity: 0.01953125\n",
      "Returning a sparse matrix format\n",
      "Calculating Ythat...\n",
      "Sparsity: 0.01953125\n",
      "Finding paths...\n",
      "==========\n",
      "Timestep 15\n",
      "average 0.0 of paths currently\n",
      "Calculating Yt...\n",
      "Calculating Mt...\n",
      "Auto mode: Sparsity: 0.0078125\n",
      "Returning a sparse matrix format\n",
      "Calculating Ythat...\n",
      "Sparsity: 0.0078125\n",
      "Finding paths...\n",
      "==========\n",
      "Timestep 16\n",
      "average 0.0 of paths currently\n",
      "Calculating Yt...\n",
      "Calculating Mt...\n",
      "Auto mode: Sparsity: 1.52587890625e-5\n",
      "Returning a sparse matrix format\n",
      "Calculating Ythat...\n",
      "Sparsity: 0.0\n",
      "Finding paths...\n",
      "Evaluating paths...\n",
      "average 1.3258928571428572 of paths to evaluate\n",
      "Making fac C\n",
      "==========\n",
      "Timestep 1\n",
      "Calculating Yt...\n",
      "Calculating Mt...\n",
      "Auto mode: Sparsity: 0.03125\n",
      "Returning a sparse matrix format\n",
      "Calculating Ythat...\n",
      "Sparsity: 0.03125\n",
      "Finding paths...\n",
      "==========\n",
      "Timestep 2\n",
      "average 1.0 of paths currently\n",
      "Calculating Yt...\n",
      "Calculating Mt...\n",
      "Auto mode: Sparsity: 0.03515625\n",
      "Returning a sparse matrix format\n",
      "Calculating Ythat...\n",
      "Sparsity: 0.03515625\n",
      "Finding paths...\n",
      "==========\n",
      "Timestep 3\n",
      "average 1.1 of paths currently\n",
      "Calculating Yt...\n",
      "Calculating Mt...\n",
      "Auto mode: Sparsity: 0.04296875\n",
      "Returning a sparse matrix format\n",
      "Calculating Ythat...\n",
      "Sparsity: 0.04296875\n",
      "Finding paths...\n",
      "==========\n",
      "Timestep 4\n",
      "average 1.32 of paths currently\n",
      "Calculating Yt...\n",
      "Calculating Mt...\n",
      "Auto mode: Sparsity: 0.16015625\n",
      "Returning a dense matrix format\n",
      "Calculating Ythat...\n",
      "Sparsity: 0.16015625\n",
      "Finding paths...\n",
      "==========\n",
      "Timestep 5\n",
      "average 2.18 of paths currently\n",
      "Calculating Yt...\n",
      "Calculating Mt...\n",
      "Auto mode: Sparsity: 0.3671875\n",
      "Returning a dense matrix format\n",
      "Calculating Ythat...\n",
      "Sparsity: 0.3671875\n",
      "Finding paths...\n",
      "==========\n",
      "Timestep 6\n",
      "average 2.54 of paths currently\n",
      "Calculating Yt...\n",
      "Calculating Mt...\n",
      "Auto mode: Sparsity: 0.35546875\n",
      "Returning a dense matrix format\n",
      "Calculating Ythat...\n",
      "Sparsity: 0.35546875\n",
      "Finding paths...\n",
      "==========\n",
      "Timestep 7\n",
      "average 2.28 of paths currently\n",
      "Calculating Yt...\n",
      "Calculating Mt...\n",
      "Auto mode: Sparsity: 0.33984375\n",
      "Returning a dense matrix format\n",
      "Calculating Ythat...\n",
      "Sparsity: 0.33984375\n",
      "Finding paths...\n",
      "==========\n",
      "Timestep 8\n",
      "average 1.74 of paths currently\n",
      "Calculating Yt...\n",
      "Calculating Mt...\n",
      "Auto mode: Sparsity: 0.3515625\n",
      "Returning a dense matrix format\n",
      "Calculating Ythat...\n",
      "Sparsity: 0.3515625\n",
      "Finding paths...\n",
      "==========\n",
      "Timestep 9\n",
      "average 1.25 of paths currently\n",
      "Calculating Yt...\n",
      "Calculating Mt...\n",
      "Auto mode: Sparsity: 0.27734375\n",
      "Returning a dense matrix format\n",
      "Calculating Ythat...\n",
      "Sparsity: 0.27734375\n",
      "Finding paths...\n",
      "==========\n",
      "Timestep 10\n",
      "average 0.67 of paths currently\n",
      "Calculating Yt...\n",
      "Calculating Mt...\n",
      "Auto mode: Sparsity: 0.23828125\n",
      "Returning a dense matrix format\n",
      "Calculating Ythat...\n",
      "Sparsity: 0.23828125\n",
      "Finding paths...\n",
      "==========\n",
      "Timestep 11\n",
      "average 0.39 of paths currently\n",
      "Calculating Yt...\n",
      "Calculating Mt...\n",
      "Auto mode: Sparsity: 0.16796875\n",
      "Returning a dense matrix format\n",
      "Calculating Ythat...\n",
      "Sparsity: 0.16796875\n",
      "Finding paths...\n",
      "==========\n",
      "Timestep 12\n",
      "average 0.26 of paths currently\n",
      "Calculating Yt...\n",
      "Calculating Mt...\n",
      "Auto mode: Sparsity: 0.0859375\n",
      "Returning a dense matrix format\n",
      "Calculating Ythat...\n",
      "Sparsity: 0.0859375\n",
      "Finding paths...\n",
      "==========\n",
      "Timestep 13\n",
      "average 0.0 of paths currently\n",
      "Calculating Yt...\n",
      "Calculating Mt...\n",
      "Auto mode: Sparsity: 0.0390625\n",
      "Returning a sparse matrix format\n",
      "Calculating Ythat...\n",
      "Sparsity: 0.0390625\n",
      "Finding paths...\n",
      "==========\n",
      "Timestep 14\n",
      "average 0.0 of paths currently\n",
      "Calculating Yt...\n",
      "Calculating Mt...\n",
      "Auto mode: Sparsity: 0.01953125\n",
      "Returning a sparse matrix format\n",
      "Calculating Ythat...\n",
      "Sparsity: 0.01953125\n",
      "Finding paths...\n",
      "==========\n",
      "Timestep 15\n",
      "average 0.0 of paths currently\n",
      "Calculating Yt...\n",
      "Calculating Mt...\n",
      "Auto mode: Sparsity: 0.0078125\n",
      "Returning a sparse matrix format\n",
      "Calculating Ythat...\n",
      "Sparsity: 0.0078125\n",
      "Finding paths...\n",
      "==========\n",
      "Timestep 16\n",
      "average 0.0 of paths currently\n",
      "Calculating Yt...\n",
      "Calculating Mt...\n",
      "Auto mode: Sparsity: 1.52587890625e-5\n",
      "Returning a sparse matrix format\n",
      "Calculating Ythat...\n",
      "Sparsity: 0.0\n",
      "Finding paths...\n",
      "Evaluating paths...\n",
      "average 1.37 of paths to evaluate\n",
      "Finding all top features..\n",
      "finding all n_neighbors features...\n",
      "Finding paths...\n"
     ]
    },
    {
     "name": "stderr",
     "output_type": "stream",
     "text": [
      "\u001b[32mProgress: 100%|█████████████████████████████████████████| Time: 0:00:00\u001b[39m\n"
     ]
    },
    {
     "name": "stdout",
     "output_type": "stream",
     "text": [
      "Evaluating paths...\n",
      "average 26.133928571428573 of paths to evaluate\n"
     ]
    },
    {
     "name": "stderr",
     "output_type": "stream",
     "text": [
      "\u001b[32mProgress: 100%|█████████████████████████████████████████| Time: 0:00:00\u001b[39m\n"
     ]
    },
    {
     "name": "stdout",
     "output_type": "stream",
     "text": [
      "Finding all top features..\n",
      "finding all n_neighbors features...\n",
      "Finding paths...\n"
     ]
    },
    {
     "name": "stderr",
     "output_type": "stream",
     "text": [
      "\u001b[32mProgress: 100%|█████████████████████████████████████████| Time: 0:00:00\u001b[39m\n"
     ]
    },
    {
     "name": "stdout",
     "output_type": "stream",
     "text": [
      "Evaluating paths...\n",
      "average 60.2 of paths to evaluate\n",
      "  1.872650 seconds (7.23 M allocations: 1.747 GiB, 22.61% gc time)\n"
     ]
    }
   ],
   "source": [
    "@time JudiLing.test_combo(\n",
    "    :train_only,\n",
    "    val_sample_size = 100,\n",
    "    data_path = joinpath(@__DIR__, \"latin.csv\"),\n",
    "    data_prefix = \"latin\",\n",
    "    output_dir_path = joinpath(@__DIR__, \"data\"),\n",
    "    n_features_columns = [\"Lexeme\",\"Person\",\"Number\",\"Tense\",\"Voice\",\"Mood\"],\n",
    "    n_grams_target_col = :Word,\n",
    "    n_grams_tokenized = false,\n",
    "    grams = 3,\n",
    "    n_features_base = [\"Lexeme\"],\n",
    "    n_features_inflections = [\"Person\",\"Number\",\"Tense\",\"Voice\",\"Mood\"],\n",
    "    verbose = true\n",
    "    )"
   ]
  },
  {
   "cell_type": "code",
   "execution_count": 67,
   "metadata": {},
   "outputs": [
    {
     "name": "stdout",
     "output_type": "stream",
     "text": [
      "making adjacency matrix...\n",
      "Making S matrix...\n",
      "Auto mode: Sparsity: 1.0\n",
      "Returning a dense matrix format\n",
      "Auto mode: Sparsity: 1.0\n",
      "Returning a dense matrix format\n",
      "Making fac C\n",
      "==========\n",
      "Timestep 1\n",
      "Calculating Yt...\n",
      "Calculating Mt...\n",
      "Auto mode: Sparsity: 0.07334273624823695\n",
      "Returning a dense matrix format\n",
      "Calculating Ythat...\n",
      "Sparsity: 0.07334273624823695\n",
      "Finding paths...\n"
     ]
    },
    {
     "name": "stderr",
     "output_type": "stream",
     "text": [
      "\u001b[32mProgress: 100%|█████████████████████████████████████████| Time: 0:00:00\u001b[39m\n"
     ]
    },
    {
     "name": "stdout",
     "output_type": "stream",
     "text": [
      "==========\n",
      "Timestep 2\n",
      "average 1.031437997283136 of paths currently\n",
      "Calculating Yt...\n",
      "Calculating Mt...\n",
      "Auto mode: Sparsity: 0.1755994358251058\n",
      "Returning a dense matrix format\n",
      "Calculating Ythat...\n",
      "Sparsity: 0.1755994358251058\n",
      "Finding paths...\n"
     ]
    },
    {
     "name": "stderr",
     "output_type": "stream",
     "text": [
      "\u001b[32mProgress: 100%|█████████████████████████████████████████| Time: 0:00:00\u001b[39m\n"
     ]
    },
    {
     "name": "stdout",
     "output_type": "stream",
     "text": [
      "==========\n",
      "Timestep 3\n",
      "average 1.114496409858335 of paths currently\n",
      "Calculating Yt...\n",
      "Calculating Mt...\n",
      "Auto mode: Sparsity: 0.2834978843441467\n",
      "Returning a dense matrix format\n",
      "Calculating Ythat...\n",
      "Sparsity: 0.2834978843441467\n",
      "Finding paths...\n"
     ]
    },
    {
     "name": "stderr",
     "output_type": "stream",
     "text": [
      "\u001b[32mProgress: 100%|█████████████████████████████████████████| Time: 0:00:00\u001b[39m\n"
     ]
    },
    {
     "name": "stdout",
     "output_type": "stream",
     "text": [
      "==========\n",
      "Timestep 4\n",
      "average 1.2941975548224336 of paths currently\n",
      "Calculating Yt...\n",
      "Calculating Mt...\n",
      "Auto mode: Sparsity: 0.383638928067701\n",
      "Returning a dense matrix format\n",
      "Calculating Ythat...\n",
      "Sparsity: 0.383638928067701\n",
      "Finding paths...\n"
     ]
    },
    {
     "name": "stderr",
     "output_type": "stream",
     "text": [
      "\u001b[32mProgress: 100%|█████████████████████████████████████████| Time: 0:00:00\u001b[39m\n"
     ]
    },
    {
     "name": "stdout",
     "output_type": "stream",
     "text": [
      "==========\n",
      "Timestep 5\n",
      "average 1.4628371822239472 of paths currently\n",
      "Calculating Yt...\n",
      "Calculating Mt...\n",
      "Auto mode: Sparsity: 0.32651622002820874\n",
      "Returning a dense matrix format\n",
      "Calculating Ythat...\n",
      "Sparsity: 0.32651622002820874\n",
      "Finding paths...\n"
     ]
    },
    {
     "name": "stderr",
     "output_type": "stream",
     "text": [
      "\u001b[32mProgress: 100%|█████████████████████████████████████████| Time: 0:00:00\u001b[39m\n"
     ]
    },
    {
     "name": "stdout",
     "output_type": "stream",
     "text": [
      "==========\n",
      "Timestep 6\n",
      "average 1.5123229186881428 of paths currently\n",
      "Calculating Yt...\n",
      "Calculating Mt...\n",
      "Auto mode: Sparsity: 0.17277856135401976\n",
      "Returning a dense matrix format\n",
      "Calculating Ythat...\n",
      "Sparsity: 0.17277856135401976\n",
      "Finding paths...\n"
     ]
    },
    {
     "name": "stderr",
     "output_type": "stream",
     "text": [
      "\u001b[32mProgress: 100%|█████████████████████████████████████████| Time: 0:00:00\u001b[39m\n"
     ]
    },
    {
     "name": "stdout",
     "output_type": "stream",
     "text": [
      "==========\n",
      "Timestep 7\n",
      "average 1.4050067921599068 of paths currently\n",
      "Calculating Yt...\n",
      "Calculating Mt...\n",
      "Auto mode: Sparsity: 0.12693935119887165\n",
      "Returning a dense matrix format\n",
      "Calculating Ythat...\n",
      "Sparsity: 0.12693935119887165\n",
      "Finding paths...\n"
     ]
    },
    {
     "name": "stderr",
     "output_type": "stream",
     "text": [
      "\u001b[32mProgress: 100%|█████████████████████████████████████████| Time: 0:00:00\u001b[39m\n"
     ]
    },
    {
     "name": "stdout",
     "output_type": "stream",
     "text": [
      "==========\n",
      "Timestep 8\n",
      "average 1.0551135261013003 of paths currently\n",
      "Calculating Yt...\n",
      "Calculating Mt...\n",
      "Auto mode: Sparsity: 0.1156558533145275\n",
      "Returning a dense matrix format\n",
      "Calculating Ythat...\n",
      "Sparsity: 0.1156558533145275\n",
      "Finding paths...\n"
     ]
    },
    {
     "name": "stderr",
     "output_type": "stream",
     "text": [
      "\u001b[32mProgress: 100%|█████████████████████████████████████████| Time: 0:00:00\u001b[39m\n"
     ]
    },
    {
     "name": "stdout",
     "output_type": "stream",
     "text": [
      "==========\n",
      "Timestep 9\n",
      "average 0.7374345041723268 of paths currently\n",
      "Calculating Yt...\n",
      "Calculating Mt...\n",
      "Auto mode: Sparsity: 0.10437235543018336\n",
      "Returning a dense matrix format\n",
      "Calculating Ythat...\n",
      "Sparsity: 0.10437235543018336\n",
      "Finding paths...\n"
     ]
    },
    {
     "name": "stderr",
     "output_type": "stream",
     "text": [
      "\u001b[32mProgress: 100%|█████████████████████████████████████████| Time: 0:00:00\u001b[39m\n"
     ]
    },
    {
     "name": "stdout",
     "output_type": "stream",
     "text": [
      "==========\n",
      "Timestep 10\n",
      "average 0.4017077430622938 of paths currently\n",
      "Calculating Yt...\n",
      "Calculating Mt...\n",
      "Auto mode: Sparsity: 0.06981664315937941\n",
      "Returning a dense matrix format\n",
      "Calculating Ythat...\n",
      "Sparsity: 0.06981664315937941\n",
      "Finding paths...\n"
     ]
    },
    {
     "name": "stderr",
     "output_type": "stream",
     "text": [
      "\u001b[32mProgress: 100%|█████████████████████████████████████████| Time: 0:00:00\u001b[39m\n"
     ]
    },
    {
     "name": "stdout",
     "output_type": "stream",
     "text": [
      "==========\n",
      "Timestep 11\n",
      "average 0.21405006792159906 of paths currently\n",
      "Calculating Yt...\n",
      "Calculating Mt...\n",
      "Auto mode: Sparsity: 0.05571227080394922\n",
      "Returning a dense matrix format\n",
      "Calculating Ythat...\n",
      "Sparsity: 0.05571227080394922\n",
      "Finding paths...\n"
     ]
    },
    {
     "name": "stderr",
     "output_type": "stream",
     "text": [
      "\u001b[32mProgress: 100%|█████████████████████████████████████████| Time: 0:00:00\u001b[39m\n"
     ]
    },
    {
     "name": "stdout",
     "output_type": "stream",
     "text": [
      "==========\n",
      "Timestep 12\n",
      "average 0.10848049679798176 of paths currently\n",
      "Calculating Yt...\n",
      "Calculating Mt...\n",
      "Auto mode: Sparsity: 0.04231311706629055\n",
      "Returning a sparse matrix format\n",
      "Calculating Ythat...\n",
      "Sparsity: 0.04231311706629055\n",
      "Finding paths...\n"
     ]
    },
    {
     "name": "stderr",
     "output_type": "stream",
     "text": [
      "\u001b[32mProgress: 100%|█████████████████████████████████████████| Time: 0:00:00\u001b[39m\n"
     ]
    },
    {
     "name": "stdout",
     "output_type": "stream",
     "text": [
      "==========\n",
      "Timestep 13\n",
      "average 0.033184552687754706 of paths currently\n",
      "Calculating Yt...\n",
      "Calculating Mt...\n",
      "Auto mode: Sparsity: 0.02538787023977433\n",
      "Returning a sparse matrix format\n",
      "Calculating Ythat...\n",
      "Sparsity: 0.02538787023977433\n",
      "Finding paths...\n"
     ]
    },
    {
     "name": "stderr",
     "output_type": "stream",
     "text": [
      "\u001b[32mProgress: 100%|█████████████████████████████████████████| Time: 0:00:00\u001b[39m\n"
     ]
    },
    {
     "name": "stdout",
     "output_type": "stream",
     "text": [
      "==========\n",
      "Timestep 14\n",
      "average 0.00504560450223171 of paths currently\n",
      "Calculating Yt...\n",
      "Calculating Mt...\n",
      "Auto mode: Sparsity: 0.012693935119887164\n",
      "Returning a sparse matrix format\n",
      "Calculating Ythat...\n",
      "Sparsity: 0.012693935119887164\n",
      "Finding paths...\n"
     ]
    },
    {
     "name": "stderr",
     "output_type": "stream",
     "text": [
      "\u001b[32mProgress: 100%|█████████████████████████████████████████| Time: 0:00:00\u001b[39m\n"
     ]
    },
    {
     "name": "stdout",
     "output_type": "stream",
     "text": [
      "==========\n",
      "Timestep 15\n",
      "average 0.004657481078983117 of paths currently\n",
      "Calculating Yt...\n",
      "Calculating Mt...\n",
      "Auto mode: Sparsity: 0.007757404795486601\n",
      "Returning a sparse matrix format\n",
      "Calculating Ythat...\n",
      "Sparsity: 0.007757404795486601\n",
      "Finding paths...\n"
     ]
    },
    {
     "name": "stderr",
     "output_type": "stream",
     "text": [
      "\u001b[32mProgress: 100%|█████████████████████████████████████████| Time: 0:00:00\u001b[39m\n"
     ]
    },
    {
     "name": "stdout",
     "output_type": "stream",
     "text": [
      "==========\n",
      "Timestep 16\n",
      "average 0.0 of paths currently\n",
      "Calculating Yt...\n",
      "Calculating Mt...\n",
      "Auto mode: Sparsity: 0.005641748942172073\n",
      "Returning a sparse matrix format\n",
      "Calculating Ythat...\n",
      "Sparsity: 0.005641748942172073\n",
      "Finding paths...\n"
     ]
    },
    {
     "name": "stderr",
     "output_type": "stream",
     "text": [
      "\u001b[32mProgress: 100%|█████████████████████████████████████████| Time: 0:00:00\u001b[39m\n"
     ]
    },
    {
     "name": "stdout",
     "output_type": "stream",
     "text": [
      "==========\n",
      "Timestep 17\n",
      "average 0.0 of paths currently\n",
      "Calculating Yt...\n",
      "Calculating Mt...\n",
      "Auto mode: Sparsity: 4.97333298851558e-7\n",
      "Returning a sparse matrix format\n",
      "Calculating Ythat...\n",
      "Sparsity: 0.0\n",
      "Finding paths...\n"
     ]
    },
    {
     "name": "stderr",
     "output_type": "stream",
     "text": [
      "\u001b[32mProgress: 100%|█████████████████████████████████████████| Time: 0:00:00\u001b[39m\n"
     ]
    },
    {
     "name": "stdout",
     "output_type": "stream",
     "text": [
      "==========\n",
      "Timestep 18\n",
      "average 0.0 of paths currently\n",
      "Calculating Yt...\n",
      "Calculating Mt...\n",
      "Auto mode: Sparsity: 4.97333298851558e-7\n",
      "Returning a sparse matrix format\n",
      "Calculating Ythat...\n",
      "Sparsity: 0.0\n",
      "Finding paths...\n"
     ]
    },
    {
     "name": "stderr",
     "output_type": "stream",
     "text": [
      "\u001b[32mProgress: 100%|█████████████████████████████████████████| Time: 0:00:00\u001b[39m\n"
     ]
    },
    {
     "name": "stdout",
     "output_type": "stream",
     "text": [
      "Evaluating paths...\n",
      "average 1.140694740927615 of paths to evaluate\n"
     ]
    },
    {
     "name": "stderr",
     "output_type": "stream",
     "text": [
      "\u001b[32mProgress: 100%|█████████████████████████████████████████| Time: 0:00:01\u001b[39m\n"
     ]
    },
    {
     "name": "stdout",
     "output_type": "stream",
     "text": [
      "Making fac C\n",
      "==========\n",
      "Timestep 1\n",
      "Calculating Yt...\n",
      "Calculating Mt...\n",
      "Auto mode: Sparsity: 0.07334273624823695\n",
      "Returning a dense matrix format\n",
      "Calculating Ythat...\n",
      "Sparsity: 0.07334273624823695\n",
      "Finding paths...\n"
     ]
    },
    {
     "name": "stderr",
     "output_type": "stream",
     "text": [
      "\u001b[32mProgress: 100%|█████████████████████████████████████████| Time: 0:00:01\u001b[39m\n"
     ]
    },
    {
     "name": "stdout",
     "output_type": "stream",
     "text": [
      "==========\n",
      "Timestep 2\n",
      "average 104.0 of paths currently\n",
      "Calculating Yt...\n",
      "Calculating Mt...\n",
      "Auto mode: Sparsity: 0.1755994358251058\n",
      "Returning a dense matrix format\n",
      "Calculating Ythat...\n",
      "Sparsity: 0.1755994358251058\n",
      "Finding paths...\n"
     ]
    },
    {
     "name": "stderr",
     "output_type": "stream",
     "text": [
      "\u001b[32mProgress: 100%|█████████████████████████████████████████| Time: 0:00:03\u001b[39m\n"
     ]
    },
    {
     "name": "stdout",
     "output_type": "stream",
     "text": [
      "==========\n",
      "Timestep 3\n",
      "average 247.0 of paths currently\n",
      "Calculating Yt...\n",
      "Calculating Mt...\n",
      "Auto mode: Sparsity: 0.2834978843441467\n",
      "Returning a dense matrix format\n",
      "Calculating Ythat...\n",
      "Sparsity: 0.2834978843441467\n",
      "Finding paths...\n"
     ]
    },
    {
     "name": "stderr",
     "output_type": "stream",
     "text": [
      "\u001b[32mProgress: 100%|█████████████████████████████████████████| Time: 0:00:10\u001b[39m\n"
     ]
    },
    {
     "name": "stdout",
     "output_type": "stream",
     "text": [
      "==========\n",
      "Timestep 4\n",
      "average 610.9891304347826 of paths currently\n",
      "Calculating Yt...\n",
      "Calculating Mt...\n",
      "Auto mode: Sparsity: 0.383638928067701\n",
      "Returning a dense matrix format\n",
      "Calculating Ythat...\n",
      "Sparsity: 0.383638928067701\n",
      "Finding paths...\n"
     ]
    },
    {
     "name": "stderr",
     "output_type": "stream",
     "text": [
      "\u001b[32mProgress: 100%|█████████████████████████████████████████| Time: 0:00:00\u001b[39m\n"
     ]
    },
    {
     "name": "stdout",
     "output_type": "stream",
     "text": [
      "==========\n",
      "Timestep 5\n",
      "average 29.627329192546583 of paths currently\n",
      "Calculating Yt...\n",
      "Calculating Mt...\n",
      "Auto mode: Sparsity: 0.32651622002820874\n",
      "Returning a dense matrix format\n",
      "Calculating Ythat...\n",
      "Sparsity: 0.32651622002820874\n",
      "Finding paths...\n"
     ]
    },
    {
     "name": "stderr",
     "output_type": "stream",
     "text": [
      "\u001b[32mProgress: 100%|█████████████████████████████████████████| Time: 0:00:00\u001b[39m\n"
     ]
    },
    {
     "name": "stdout",
     "output_type": "stream",
     "text": [
      "==========\n",
      "Timestep 6\n",
      "average 23.3944099378882 of paths currently\n",
      "Calculating Yt...\n",
      "Calculating Mt...\n",
      "Auto mode: Sparsity: 0.17277856135401976\n",
      "Returning a dense matrix format\n",
      "Calculating Ythat...\n",
      "Sparsity: 0.17277856135401976\n",
      "Finding paths...\n"
     ]
    },
    {
     "name": "stderr",
     "output_type": "stream",
     "text": [
      "\u001b[32mProgress: 100%|█████████████████████████████████████████| Time: 0:00:00\u001b[39m\n"
     ]
    },
    {
     "name": "stdout",
     "output_type": "stream",
     "text": [
      "==========\n",
      "Timestep 7\n",
      "average 29.305900621118013 of paths currently\n",
      "Calculating Yt...\n",
      "Calculating Mt...\n",
      "Auto mode: Sparsity: 0.12693935119887165\n",
      "Returning a dense matrix format\n",
      "Calculating Ythat...\n",
      "Sparsity: 0.12693935119887165\n",
      "Finding paths...\n"
     ]
    },
    {
     "name": "stderr",
     "output_type": "stream",
     "text": [
      "\u001b[32mProgress: 100%|█████████████████████████████████████████| Time: 0:00:00\u001b[39m\n"
     ]
    },
    {
     "name": "stdout",
     "output_type": "stream",
     "text": [
      "==========\n",
      "Timestep 8\n",
      "average 34.618788819875775 of paths currently\n",
      "Calculating Yt...\n",
      "Calculating Mt...\n",
      "Auto mode: Sparsity: 0.1156558533145275\n",
      "Returning a dense matrix format\n",
      "Calculating Ythat...\n",
      "Sparsity: 0.1156558533145275\n",
      "Finding paths...\n"
     ]
    },
    {
     "name": "stderr",
     "output_type": "stream",
     "text": [
      "\u001b[32mProgress: 100%|█████████████████████████████████████████| Time: 0:00:00\u001b[39m\n"
     ]
    },
    {
     "name": "stdout",
     "output_type": "stream",
     "text": [
      "==========\n",
      "Timestep 9\n",
      "average 38.09704968944099 of paths currently\n",
      "Calculating Yt...\n",
      "Calculating Mt...\n",
      "Auto mode: Sparsity: 0.10437235543018336\n",
      "Returning a dense matrix format\n",
      "Calculating Ythat...\n",
      "Sparsity: 0.10437235543018336\n",
      "Finding paths...\n"
     ]
    },
    {
     "name": "stderr",
     "output_type": "stream",
     "text": [
      "\u001b[32mProgress: 100%|█████████████████████████████████████████| Time: 0:00:00\u001b[39m\n"
     ]
    },
    {
     "name": "stdout",
     "output_type": "stream",
     "text": [
      "==========\n",
      "Timestep 10\n",
      "average 32.807453416149066 of paths currently\n",
      "Calculating Yt...\n",
      "Calculating Mt...\n",
      "Auto mode: Sparsity: 0.06981664315937941\n",
      "Returning a dense matrix format\n",
      "Calculating Ythat...\n",
      "Sparsity: 0.06981664315937941\n",
      "Finding paths...\n"
     ]
    },
    {
     "name": "stderr",
     "output_type": "stream",
     "text": [
      "\u001b[32mProgress: 100%|█████████████████████████████████████████| Time: 0:00:00\u001b[39m\n"
     ]
    },
    {
     "name": "stdout",
     "output_type": "stream",
     "text": [
      "==========\n",
      "Timestep 11\n",
      "average 20.781832298136646 of paths currently\n",
      "Calculating Yt...\n",
      "Calculating Mt...\n",
      "Auto mode: Sparsity: 0.05571227080394922\n",
      "Returning a dense matrix format\n",
      "Calculating Ythat...\n",
      "Sparsity: 0.05571227080394922\n",
      "Finding paths...\n"
     ]
    },
    {
     "name": "stderr",
     "output_type": "stream",
     "text": [
      "\u001b[32mProgress: 100%|█████████████████████████████████████████| Time: 0:00:00\u001b[39m\n"
     ]
    },
    {
     "name": "stdout",
     "output_type": "stream",
     "text": [
      "==========\n",
      "Timestep 12\n",
      "average 14.194099378881987 of paths currently\n",
      "Calculating Yt...\n",
      "Calculating Mt...\n",
      "Auto mode: Sparsity: 0.04231311706629055\n",
      "Returning a sparse matrix format\n",
      "Calculating Ythat...\n",
      "Sparsity: 0.04231311706629055\n",
      "Finding paths...\n"
     ]
    },
    {
     "name": "stderr",
     "output_type": "stream",
     "text": [
      "\u001b[32mProgress: 100%|█████████████████████████████████████████| Time: 0:00:00\u001b[39m\n"
     ]
    },
    {
     "name": "stdout",
     "output_type": "stream",
     "text": [
      "==========\n",
      "Timestep 13\n",
      "average 7.461956521739131 of paths currently\n",
      "Calculating Yt...\n",
      "Calculating Mt...\n",
      "Auto mode: Sparsity: 0.02538787023977433\n",
      "Returning a sparse matrix format\n",
      "Calculating Ythat...\n",
      "Sparsity: 0.02538787023977433\n",
      "Finding paths...\n"
     ]
    },
    {
     "name": "stderr",
     "output_type": "stream",
     "text": [
      "\u001b[32mProgress: 100%|█████████████████████████████████████████| Time: 0:00:00\u001b[39m\n"
     ]
    },
    {
     "name": "stdout",
     "output_type": "stream",
     "text": [
      "==========\n",
      "Timestep 14\n",
      "average 4.763975155279503 of paths currently\n",
      "Calculating Yt...\n",
      "Calculating Mt...\n",
      "Auto mode: Sparsity: 0.012693935119887164\n",
      "Returning a sparse matrix format\n",
      "Calculating Ythat...\n",
      "Sparsity: 0.012693935119887164\n",
      "Finding paths...\n",
      "==========\n",
      "Timestep 15\n",
      "average 2.4642857142857144 of paths currently\n",
      "Calculating Yt...\n",
      "Calculating Mt...\n",
      "Auto mode: Sparsity: 0.007757404795486601\n",
      "Returning a sparse matrix format\n",
      "Calculating Ythat...\n",
      "Sparsity: 0.007757404795486601\n",
      "Finding paths...\n",
      "==========\n",
      "Timestep 16\n",
      "average 0.7080745341614907 of paths currently\n",
      "Calculating Yt...\n",
      "Calculating Mt...\n",
      "Auto mode: Sparsity: 0.005641748942172073\n",
      "Returning a sparse matrix format\n",
      "Calculating Ythat...\n",
      "Sparsity: 0.005641748942172073\n",
      "Finding paths...\n",
      "==========\n",
      "Timestep 17\n",
      "average 0.062111801242236024 of paths currently\n",
      "Calculating Yt...\n",
      "Calculating Mt...\n",
      "Auto mode: Sparsity: 4.97333298851558e-7\n",
      "Returning a sparse matrix format\n",
      "Calculating Ythat...\n",
      "Sparsity: 0.0\n",
      "Finding paths...\n",
      "==========\n",
      "Timestep 18\n",
      "average 0.09006211180124224 of paths currently\n",
      "Calculating Yt...\n",
      "Calculating Mt...\n",
      "Auto mode: Sparsity: 4.97333298851558e-7\n",
      "Returning a sparse matrix format\n",
      "Calculating Ythat...\n",
      "Sparsity: 0.0\n",
      "Finding paths...\n",
      "Evaluating paths...\n",
      "average 138.027950310559 of paths to evaluate\n"
     ]
    },
    {
     "name": "stderr",
     "output_type": "stream",
     "text": [
      "\u001b[32mProgress: 100%|█████████████████████████████████████████| Time: 0:00:25\u001b[39m\n"
     ]
    },
    {
     "name": "stdout",
     "output_type": "stream",
     "text": [
      "Finding all top features..\n",
      "finding all n_neighbors features...\n"
     ]
    },
    {
     "name": "stderr",
     "output_type": "stream",
     "text": [
      "\u001b[32mProgress: 100%|█████████████████████████████████████████| Time: 0:00:02\u001b[39m\n"
     ]
    },
    {
     "name": "stdout",
     "output_type": "stream",
     "text": [
      "Finding paths...\n"
     ]
    },
    {
     "name": "stderr",
     "output_type": "stream",
     "text": [
      "\u001b[32mProgress: 100%|█████████████████████████████████████████| Time: 0:00:00\u001b[39m\n"
     ]
    },
    {
     "name": "stdout",
     "output_type": "stream",
     "text": [
      "Evaluating paths...\n",
      "average 30.64447894430429 of paths to evaluate\n"
     ]
    },
    {
     "name": "stderr",
     "output_type": "stream",
     "text": [
      "\u001b[32mProgress: 100%|█████████████████████████████████████████| Time: 0:00:29\u001b[39m\n"
     ]
    },
    {
     "name": "stdout",
     "output_type": "stream",
     "text": [
      "Finding all top features..\n",
      "finding all n_neighbors features...\n"
     ]
    },
    {
     "name": "stderr",
     "output_type": "stream",
     "text": [
      "\u001b[32mProgress: 100%|█████████████████████████████████████████| Time: 0:00:00\u001b[39m\n"
     ]
    },
    {
     "name": "stdout",
     "output_type": "stream",
     "text": [
      "Finding paths...\n"
     ]
    },
    {
     "name": "stderr",
     "output_type": "stream",
     "text": [
      "\u001b[32mProgress: 100%|█████████████████████████████████████████| Time: 0:00:00\u001b[39m\n"
     ]
    },
    {
     "name": "stdout",
     "output_type": "stream",
     "text": [
      "Evaluating paths...\n",
      "average 130.3416149068323 of paths to evaluate\n"
     ]
    },
    {
     "name": "stderr",
     "output_type": "stream",
     "text": [
      "\u001b[32mProgress: 100%|█████████████████████████████████████████| Time: 0:00:34\u001b[39m\n"
     ]
    },
    {
     "name": "stdout",
     "output_type": "stream",
     "text": [
      "153.258566 seconds (108.53 M allocations: 93.430 GiB, 8.58% gc time)\n"
     ]
    }
   ],
   "source": [
    "@time JudiLing.test_combo(\n",
    "    :pre_split,\n",
    "    data_dir_path=joinpath(@__DIR__),\n",
    "    data_prefix=\"estonian\",\n",
    "    n_features_columns=[\"Lexeme\",\"Case\",\"Number\"],\n",
    "    n_grams_target_col=:Word,\n",
    "    n_grams_tokenized=false,\n",
    "    grams=3,\n",
    "    n_features_base = [\"Lexeme\"],\n",
    "    n_features_inflections = [\"Lexeme\",\"Case\",\"Number\"],\n",
    "    if_combined = false,\n",
    "    A_mode = :train_only,\n",
    "    threshold_train = 0.1,\n",
    "    is_tolerant_train = false,\n",
    "    threshold_val = 0.1,\n",
    "    is_tolerant_val = true,\n",
    "    tolerance_val = -0.1,\n",
    "    max_tolerance_val = 3,\n",
    "    verbose = true)"
   ]
  },
  {
   "cell_type": "code",
   "execution_count": null,
   "metadata": {},
   "outputs": [],
   "source": []
  }
 ],
 "metadata": {
  "kernelspec": {
   "display_name": "Julia 1.5.3",
   "language": "julia",
   "name": "julia-1.5"
  },
  "language_info": {
   "file_extension": ".jl",
   "mimetype": "application/julia",
   "name": "julia",
   "version": "1.5.3"
  }
 },
 "nbformat": 4,
 "nbformat_minor": 4
}
