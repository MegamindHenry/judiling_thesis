{
 "cells": [
  {
   "cell_type": "markdown",
   "metadata": {},
   "source": [
    "Julia is a relatively new programming language."
   ]
  },
  {
   "cell_type": "code",
   "execution_count": 5,
   "metadata": {},
   "outputs": [
    {
     "data": {
      "text/plain": [
       "2"
      ]
     },
     "execution_count": 5,
     "metadata": {},
     "output_type": "execute_result"
    }
   ],
   "source": [
    "a = 1 + 1"
   ]
  },
  {
   "cell_type": "code",
   "execution_count": 6,
   "metadata": {},
   "outputs": [
    {
     "data": {
      "text/plain": [
       "3×3 Array{Int64,2}:\n",
       " 1  0  1\n",
       " 1  1  0\n",
       " 0  1  0"
      ]
     },
     "execution_count": 6,
     "metadata": {},
     "output_type": "execute_result"
    }
   ],
   "source": [
    "A = [\n",
    "1 0 1\n",
    "1 1 0\n",
    "0 1 0]"
   ]
  },
  {
   "cell_type": "code",
   "execution_count": 7,
   "metadata": {},
   "outputs": [
    {
     "data": {
      "text/plain": [
       "3×4 Array{Int64,2}:\n",
       " 0  0  1  1\n",
       " 1  1  0  0\n",
       " 1  0  1  0"
      ]
     },
     "execution_count": 7,
     "metadata": {},
     "output_type": "execute_result"
    }
   ],
   "source": [
    "B = [\n",
    "0 0 1 1\n",
    "1 1 0 0\n",
    "1 0 1 0]"
   ]
  },
  {
   "cell_type": "code",
   "execution_count": 8,
   "metadata": {},
   "outputs": [
    {
     "data": {
      "text/plain": [
       "3×4 Array{Int64,2}:\n",
       " 1  0  2  1\n",
       " 1  1  1  1\n",
       " 1  1  0  0"
      ]
     },
     "execution_count": 8,
     "metadata": {},
     "output_type": "execute_result"
    }
   ],
   "source": [
    "C = A * B"
   ]
  },
  {
   "cell_type": "markdown",
   "metadata": {},
   "source": [
    "Suppose we had a small corpus with four words. \\\n",
    "\"walk\", \"walks\", \"walked\"(past tense) and \"walked\" (past participle)"
   ]
  },
  {
   "cell_type": "code",
   "execution_count": 9,
   "metadata": {},
   "outputs": [],
   "source": [
    "# #wa wal alk lk# lks ks# lke ked ed#\n",
    "C = [\n",
    "1 1 1 1 0 0 0 0 0 # walk\n",
    "1 1 1 0 1 1 0 0 0 # walks\n",
    "1 1 1 0 0 0 1 1 1 # walked_past\n",
    "1 1 1 0 0 0 1 1 1 # walked_part\n",
    "];"
   ]
  },
  {
   "cell_type": "code",
   "execution_count": 10,
   "metadata": {},
   "outputs": [],
   "source": [
    "# WALK PRESENT PAST SINGULAR PARTICIPLE\n",
    "S_feature = [\n",
    "1 1 0 0 0\n",
    "1 1 0 1 0\n",
    "1 0 0 0 0\n",
    "1 0 1 0 0\n",
    "1 0 1 0 1\n",
    "];"
   ]
  },
  {
   "cell_type": "code",
   "execution_count": 11,
   "metadata": {},
   "outputs": [],
   "source": [
    "L = [\n",
    "-1.52  -0.69   0.05  -0.31   1.60   0.23 # WALK\n",
    "-0.92  -0.86   1.30   0.01   0.22  -0.58 # PRESENT\n",
    "-0.69   0.98   2.94  -0.06   1.10   2.10 # PAST\n",
    "-0.01   0.69  -0.26  -0.56  -0.89  -1.09 # SINGULAR\n",
    "-1.37  -0.98   0.81   0.01   0.56   0.31 # PARTICIPLE\n",
    "];"
   ]
  },
  {
   "cell_type": "code",
   "execution_count": 12,
   "metadata": {},
   "outputs": [
    {
     "data": {
      "text/plain": [
       "4×6 Array{Float64,2}:\n",
       " -2.44  -1.55  1.35  -0.3   1.82  -0.35\n",
       " -2.45  -0.86  1.09  -0.86  0.93  -1.44\n",
       " -2.21   0.29  2.99  -0.37  2.7    2.33\n",
       " -3.58  -0.69  3.8   -0.36  3.26   2.64"
      ]
     },
     "execution_count": 12,
     "metadata": {},
     "output_type": "execute_result"
    }
   ],
   "source": [
    "S1 = L[1:1,:] + L[2:2,:]                  # walk\n",
    "S2 = L[1:1,:] + L[2:2,:] + L[4:4,:]       # walks\n",
    "S3 = L[1:1,:] + L[3:3,:]                  # walked_past\n",
    "S4 = L[1:1,:] + L[3:3,:] + L[5:5,:]       # walked_part\n",
    "\n",
    "S = vcat(S1, S2, S3, S4)"
   ]
  },
  {
   "cell_type": "code",
   "execution_count": 13,
   "metadata": {},
   "outputs": [
    {
     "data": {
      "text/plain": [
       "9×6 Array{Float64,2}:\n",
       " -0.712308  -0.314872    0.465641   -0.131026     0.504359  -0.0371795\n",
       " -0.712308  -0.314872    0.465641   -0.131026     0.504359  -0.0371795\n",
       " -0.712308  -0.314872    0.465641   -0.131026     0.504359  -0.0371795\n",
       " -0.303077  -0.605385   -0.0469231   0.0930769    0.306923  -0.238462\n",
       " -0.156538   0.0423077  -0.153462   -0.233462    -0.291538  -0.664231\n",
       " -0.156538   0.0423077  -0.153462   -0.233462    -0.291538  -0.664231\n",
       " -0.252692   0.248205    0.666026    0.00935897   0.488974   0.865513\n",
       " -0.252692   0.248205    0.666026    0.00935897   0.488974   0.865513\n",
       " -0.252692   0.248205    0.666026    0.00935897   0.488974   0.865513"
      ]
     },
     "execution_count": 13,
     "metadata": {},
     "output_type": "execute_result"
    }
   ],
   "source": [
    "using LinearAlgebra\n",
    "F = pinv(C)*S"
   ]
  },
  {
   "cell_type": "code",
   "execution_count": 14,
   "metadata": {
    "scrolled": true
   },
   "outputs": [
    {
     "data": {
      "text/plain": [
       "6×9 Array{Float64,2}:\n",
       "  0.0735187   0.0735187   0.0735187  …  -0.0265705  -0.0265705  -0.0265705\n",
       "  0.186802    0.186802    0.186802       0.225962    0.225962    0.225962\n",
       "  0.0125078   0.0125078   0.0125078      0.153566    0.153566    0.153566\n",
       " -0.156934   -0.156934   -0.156934      -0.0817396  -0.0817396  -0.0817396\n",
       "  0.699641    0.699641    0.699641       0.0501479   0.0501479   0.0501479\n",
       " -0.376047   -0.376047   -0.376047   …   0.107702    0.107702    0.107702"
      ]
     },
     "execution_count": 14,
     "metadata": {},
     "output_type": "execute_result"
    }
   ],
   "source": [
    "G = pinv(S)*C"
   ]
  },
  {
   "cell_type": "code",
   "execution_count": 15,
   "metadata": {},
   "outputs": [
    {
     "data": {
      "text/plain": [
       "1×9 Array{Int64,2}:\n",
       " 1  1  1  1  0  0  0  0  0"
      ]
     },
     "execution_count": 15,
     "metadata": {},
     "output_type": "execute_result"
    }
   ],
   "source": [
    "# comprehension model\n",
    "# take \"WALK\"\n",
    "C_val = [1 1 1 1 0 0 0 0 0]"
   ]
  },
  {
   "cell_type": "code",
   "execution_count": 16,
   "metadata": {},
   "outputs": [
    {
     "data": {
      "text/plain": [
       "1×6 Array{Float64,2}:\n",
       " -2.44  -1.55  1.35  -0.3  1.82  -0.35"
      ]
     },
     "execution_count": 16,
     "metadata": {},
     "output_type": "execute_result"
    }
   ],
   "source": [
    "Shat_val = C_val * F"
   ]
  },
  {
   "cell_type": "code",
   "execution_count": 17,
   "metadata": {},
   "outputs": [
    {
     "data": {
      "text/plain": [
       "4×1 Array{Float64,2}:\n",
       " 1.0\n",
       " 0.9218760403270171\n",
       " 0.8657589393769567\n",
       " 0.9084650742003979"
      ]
     },
     "execution_count": 17,
     "metadata": {},
     "output_type": "execute_result"
    }
   ],
   "source": [
    "using Statistics\n",
    "# evaluation\n",
    "rS = cor(S, Shat_val, dims=2)"
   ]
  },
  {
   "cell_type": "code",
   "execution_count": 18,
   "metadata": {},
   "outputs": [
    {
     "data": {
      "text/plain": [
       "1×6 Array{Float64,2}:\n",
       " -2.44  -1.55  1.35  -0.3  1.82  -0.35"
      ]
     },
     "execution_count": 18,
     "metadata": {},
     "output_type": "execute_result"
    }
   ],
   "source": [
    "# production evaluation\n",
    "# take \"WALK\" again\n",
    "S_val = L[1:1,:] + L[2:2,:]"
   ]
  },
  {
   "cell_type": "code",
   "execution_count": 19,
   "metadata": {},
   "outputs": [
    {
     "data": {
      "text/plain": [
       "1×9 Array{Float64,2}:\n",
       " 1.0  1.0  1.0  1.0  -2.40912e-16  …  -5.24964e-16  -5.24964e-16"
      ]
     },
     "execution_count": 19,
     "metadata": {},
     "output_type": "execute_result"
    }
   ],
   "source": [
    "Chat_val = S_val * G"
   ]
  },
  {
   "cell_type": "code",
   "execution_count": 20,
   "metadata": {},
   "outputs": [
    {
     "data": {
      "text/plain": [
       "1×9 Array{Float64,2}:\n",
       " 1.0  1.0  1.0  1.0  -0.0  -0.0  -0.0  -0.0  -0.0"
      ]
     },
     "execution_count": 20,
     "metadata": {},
     "output_type": "execute_result"
    }
   ],
   "source": [
    "round.(Chat_val, digits=2)"
   ]
  },
  {
   "cell_type": "markdown",
   "metadata": {},
   "source": [
    "Basic numeric operations comparison "
   ]
  },
  {
   "cell_type": "code",
   "execution_count": 21,
   "metadata": {},
   "outputs": [
    {
     "name": "stdout",
     "output_type": "stream",
     "text": [
      "  0.723391 seconds (2 allocations: 305.176 MiB, 1.22% gc time)\n"
     ]
    }
   ],
   "source": [
    "# matrix multiplication\n",
    "A = randn(20000, 2000)\n",
    "B = randn(2000, 2000)\n",
    "@time C = A * B;\n",
    "\n",
    "# in R\n",
    "# 1.183169 mins"
   ]
  },
  {
   "cell_type": "code",
   "execution_count": 23,
   "metadata": {},
   "outputs": [
    {
     "name": "stdout",
     "output_type": "stream",
     "text": [
      " 11.521570 seconds (39 allocations: 3.577 GiB, 1.39% gc time)\n"
     ]
    }
   ],
   "source": [
    "# pair-wise correlation\n",
    "A = randn(20000, 2000)\n",
    "B = randn(20000, 2000)\n",
    "\n",
    "@time C = cor(A, B, dims=2);\n",
    "\n",
    "# in R\n",
    "# "
   ]
  },
  {
   "cell_type": "code",
   "execution_count": null,
   "metadata": {},
   "outputs": [],
   "source": []
  },
  {
   "cell_type": "code",
   "execution_count": 70,
   "metadata": {},
   "outputs": [
    {
     "name": "stdout",
     "output_type": "stream",
     "text": [
      "(length(A.nzval) / A.m) / A.n = 0.000299975\n",
      "  0.184816 seconds (2 allocations: 305.176 MiB, 15.56% gc time)\n",
      "  0.806342 seconds (2 allocations: 305.176 MiB, 3.60% gc time)\n",
      "(length(A.nzval) / A.m) / A.n = 0.029556875000000003\n",
      "  5.291147 seconds (2 allocations: 305.176 MiB, 0.54% gc time)\n",
      "  0.708202 seconds (2 allocations: 305.176 MiB, 0.15% gc time)\n"
     ]
    }
   ],
   "source": [
    "# sparse matrix multiplication\n",
    "using SparseArrays\n",
    "\n",
    "function sparseN(N, n)\n",
    "  sparse(\n",
    "    rand(1:N*10, n),\n",
    "    rand(1:N, n),\n",
    "    randn(Float64, n),\n",
    "    N*10,\n",
    "    N)\n",
    "end\n",
    "\n",
    "A = sparseN(2000, 12000)\n",
    "\n",
    "@show length(A.nzval) / A.m / A.n\n",
    "B = randn(2000, 2000)\n",
    "@time C = A * B\n",
    "\n",
    "A = Array(A)\n",
    "@time C = A * B\n",
    "\n",
    "A = sparseN(2000, 1200000)\n",
    "\n",
    "@show length(A.nzval) / A.m / A.n\n",
    "B = randn(2000, 2000)\n",
    "@time C = A * B\n",
    "\n",
    "A = Array(A)\n",
    "@time C = A * B;"
   ]
  },
  {
   "cell_type": "code",
   "execution_count": 82,
   "metadata": {},
   "outputs": [],
   "source": [
    "# inverse matrix\n",
    "function sparseNBit(N, n)\n",
    "  sparse(\n",
    "    rand(1:N*10, n),\n",
    "    rand(1:N, n),\n",
    "    ones(Int64, n),\n",
    "    N*10,\n",
    "    N)\n",
    "end\n",
    "\n",
    "C = sparseNBit(2000, 1200000)\n",
    "S = randn(20000, 2000);"
   ]
  },
  {
   "cell_type": "code",
   "execution_count": 80,
   "metadata": {},
   "outputs": [
    {
     "name": "stdout",
     "output_type": "stream",
     "text": [
      " 10.537358 seconds (37 allocations: 1.669 GiB, 3.01% gc time)\n"
     ]
    }
   ],
   "source": [
    "@time F = pinv(Array(C)) * S;\n",
    "\n",
    "# in R\n",
    "# "
   ]
  },
  {
   "cell_type": "code",
   "execution_count": 81,
   "metadata": {},
   "outputs": [
    {
     "name": "stdout",
     "output_type": "stream",
     "text": [
      " 64.161852 seconds (353 allocations: 1.669 GiB, 0.36% gc time)\n"
     ]
    }
   ],
   "source": [
    "@time G = pinv(S) * Array(C);\n",
    "\n",
    "# in R\n",
    "# "
   ]
  },
  {
   "cell_type": "code",
   "execution_count": 89,
   "metadata": {},
   "outputs": [
    {
     "name": "stdout",
     "output_type": "stream",
     "text": [
      " 94.764339 seconds (47 allocations: 610.652 MiB, 0.16% gc time)\n"
     ]
    }
   ],
   "source": [
    "# C * F = S\n",
    "# (CtC)' * Ct * C * F = (CtC)' * Ct * S\n",
    "# F = (CtC)' * Ct * S\n",
    "Ca = Array(C)\n",
    "@time F = pinv(Ca'Ca) * Ca' * S;"
   ]
  },
  {
   "cell_type": "code",
   "execution_count": 90,
   "metadata": {},
   "outputs": [
    {
     "name": "stdout",
     "output_type": "stream",
     "text": [
      " 24.568936 seconds (41 allocations: 610.652 MiB, 0.67% gc time)\n"
     ]
    }
   ],
   "source": [
    "@time G = pinv(S'S) * S' * C;"
   ]
  },
  {
   "cell_type": "code",
   "execution_count": 91,
   "metadata": {},
   "outputs": [
    {
     "name": "stdout",
     "output_type": "stream",
     "text": [
      "  3.406613 seconds (83 allocations: 650.188 MiB, 4.57% gc time)\n",
      "  3.709776 seconds (24 allocations: 244.157 MiB, 3.64% gc time)\n"
     ]
    }
   ],
   "source": [
    "using JudiLing\n",
    "\n",
    "@time F = JudiLing.make_transform_matrix(C, S);\n",
    "@time G = JudiLing.make_transform_matrix(S, C);"
   ]
  },
  {
   "cell_type": "markdown",
   "metadata": {},
   "source": [
    "Path finding algorithms \\\n",
    "learn_paths"
   ]
  },
  {
   "cell_type": "code",
   "execution_count": 100,
   "metadata": {},
   "outputs": [],
   "source": [
    "# #wa wal alk lk# lks ks# lke ked ed#\n",
    "C = [\n",
    "1 1 1 1 0 0 0 0 0 # walk\n",
    "1 1 1 0 1 1 0 0 0 # walks\n",
    "1 1 1 0 0 0 1 1 1 # walked_past\n",
    "1 1 1 0 0 0 1 1 1 # walked_part\n",
    "];"
   ]
  },
  {
   "cell_type": "code",
   "execution_count": 119,
   "metadata": {},
   "outputs": [],
   "source": [
    "L = [\n",
    "-1.52  -0.69   0.05  -0.31   1.60   0.23 # WALK\n",
    "-0.92  -0.86   1.30   0.01   0.22  -0.58 # PRESENT\n",
    "-0.69   0.98   2.94  -0.06   1.10   2.10 # PAST\n",
    "-0.01   0.69  -0.26  -0.56  -0.89  -1.09 # SINGULAR\n",
    "-1.37  -0.98   0.81   0.01   0.56   0.31 # PARTICIPLE\n",
    "]\n",
    "\n",
    "S1 = L[1:1,:] + L[2:2,:]                  # walk\n",
    "S2 = L[1:1,:] + L[2:2,:] + L[4:4,:]       # walks\n",
    "S3 = L[1:1,:] + L[3:3,:]                  # walked_past\n",
    "S4 = L[1:1,:] + L[3:3,:] + L[5:5,:]       # walked_part\n",
    "\n",
    "S = vcat(S1, S2, S3, S4);"
   ]
  },
  {
   "cell_type": "code",
   "execution_count": 120,
   "metadata": {},
   "outputs": [
    {
     "data": {
      "text/plain": [
       "9×6 Array{Float64,2}:\n",
       " -0.712308  -0.314872    0.465641   -0.131026     0.504359  -0.0371795\n",
       " -0.712308  -0.314872    0.465641   -0.131026     0.504359  -0.0371795\n",
       " -0.712308  -0.314872    0.465641   -0.131026     0.504359  -0.0371795\n",
       " -0.303077  -0.605385   -0.0469231   0.0930769    0.306923  -0.238462\n",
       " -0.156538   0.0423077  -0.153462   -0.233462    -0.291538  -0.664231\n",
       " -0.156538   0.0423077  -0.153462   -0.233462    -0.291538  -0.664231\n",
       " -0.252692   0.248205    0.666026    0.00935897   0.488974   0.865513\n",
       " -0.252692   0.248205    0.666026    0.00935897   0.488974   0.865513\n",
       " -0.252692   0.248205    0.666026    0.00935897   0.488974   0.865513"
      ]
     },
     "execution_count": 120,
     "metadata": {},
     "output_type": "execute_result"
    }
   ],
   "source": [
    "F = pinv(C) * S"
   ]
  },
  {
   "cell_type": "code",
   "execution_count": 110,
   "metadata": {},
   "outputs": [
    {
     "data": {
      "text/plain": [
       "6×9 Array{Float64,2}:\n",
       "  0.0735187   0.0735187   0.0735187  …  -0.0265705  -0.0265705  -0.0265705\n",
       "  0.186802    0.186802    0.186802       0.225962    0.225962    0.225962\n",
       "  0.0125078   0.0125078   0.0125078      0.153566    0.153566    0.153566\n",
       " -0.156934   -0.156934   -0.156934      -0.0817396  -0.0817396  -0.0817396\n",
       "  0.699641    0.699641    0.699641       0.0501479   0.0501479   0.0501479\n",
       " -0.376047   -0.376047   -0.376047   …   0.107702    0.107702    0.107702"
      ]
     },
     "execution_count": 110,
     "metadata": {},
     "output_type": "execute_result"
    }
   ],
   "source": [
    "G = pinv(S) * C"
   ]
  },
  {
   "cell_type": "code",
   "execution_count": null,
   "metadata": {},
   "outputs": [],
   "source": []
  },
  {
   "cell_type": "code",
   "execution_count": 104,
   "metadata": {},
   "outputs": [
    {
     "data": {
      "text/plain": [
       "9×9 Array{Float64,2}:\n",
       " 0.282051   0.0  0.0  0.0  0.0  0.0  0.0  0.0  0.0\n",
       " 0.282051   0.0  0.0  0.0  0.0  0.0  0.0  0.0  0.0\n",
       " 0.282051   0.0  0.0  0.0  0.0  0.0  0.0  0.0  0.0\n",
       " 0.153846   0.0  0.0  0.0  0.0  0.0  0.0  0.0  0.0\n",
       " 0.0769231  0.0  0.0  0.0  0.0  0.0  0.0  0.0  0.0\n",
       " 0.0769231  0.0  0.0  0.0  0.0  0.0  0.0  0.0  0.0\n",
       " 0.0512821  0.0  0.0  0.0  0.0  0.0  0.0  0.0  0.0\n",
       " 0.0512821  0.0  0.0  0.0  0.0  0.0  0.0  0.0  0.0\n",
       " 0.0512821  0.0  0.0  0.0  0.0  0.0  0.0  0.0  0.0"
      ]
     },
     "execution_count": 104,
     "metadata": {},
     "output_type": "execute_result"
    }
   ],
   "source": [
    "# t1\n",
    "Y1 = [\n",
    "1 0 0 0 0 0 0 0 0 # walk\n",
    "1 0 0 0 0 0 0 0 0 # walks\n",
    "1 0 0 0 0 0 0 0 0 # walked_past\n",
    "1 0 0 0 0 0 0 0 0 # walked_part\n",
    "]\n",
    "\n",
    "M1 = pinv(C) * Y1"
   ]
  },
  {
   "cell_type": "code",
   "execution_count": 107,
   "metadata": {},
   "outputs": [],
   "source": [
    "# t2-6\n",
    "Y2 = [\n",
    "0 1 0 0 0 0 0 0 0 # walk\n",
    "0 1 0 0 0 0 0 0 0 # walks\n",
    "0 1 0 0 0 0 0 0 0 # walked_past\n",
    "0 1 0 0 0 0 0 0 0 # walked_part\n",
    "]\n",
    "\n",
    "M2 = pinv(C) * Y2;\n",
    "\n",
    "Y3 = [\n",
    "0 0 1 0 0 0 0 0 0 # walk\n",
    "0 0 1 0 0 0 0 0 0 # walks\n",
    "0 0 1 0 0 0 0 0 0 # walked_past\n",
    "0 0 1 0 0 0 0 0 0 # walked_part\n",
    "]\n",
    "\n",
    "M3 = pinv(C) * Y3;\n",
    "\n",
    "Y4 = [\n",
    "0 0 0 1 0 0 0 0 0 # walk\n",
    "0 0 0 0 1 0 0 0 0 # walks\n",
    "0 0 0 0 0 0 1 0 0 # walked_past\n",
    "0 0 0 0 0 0 1 0 0 # walked_part\n",
    "]\n",
    "\n",
    "M4 = pinv(C) * Y4;\n",
    "\n",
    "Y5 = [\n",
    "0 0 0 0 0 0 0 0 0 # walk\n",
    "0 0 0 0 0 1 0 0 0 # walks\n",
    "0 0 0 0 0 0 0 1 0 # walked_past\n",
    "0 0 0 0 0 0 0 1 0 # walked_part\n",
    "]\n",
    "\n",
    "M5 = pinv(C) * Y5;\n",
    "\n",
    "Y6 = [\n",
    "0 0 0 0 0 0 0 0 0 # walk\n",
    "0 0 0 0 0 0 0 0 0 # walks\n",
    "0 0 0 0 0 0 0 0 1 # walked_past\n",
    "0 0 0 0 0 0 0 0 1 # walked_part\n",
    "]\n",
    "\n",
    "M6 = pinv(C) * Y6;"
   ]
  },
  {
   "cell_type": "code",
   "execution_count": 108,
   "metadata": {},
   "outputs": [
    {
     "data": {
      "text/plain": [
       "1×6 Array{Float64,2}:\n",
       " -2.22  0.98  2.73  -0.93  1.81  1.24"
      ]
     },
     "execution_count": 108,
     "metadata": {},
     "output_type": "execute_result"
    }
   ],
   "source": [
    "# WALK PAST SINGULAR\n",
    "S_val = L[1:1,:] + L[3:3,:] + L[4:4,:]"
   ]
  },
  {
   "cell_type": "code",
   "execution_count": 111,
   "metadata": {},
   "outputs": [
    {
     "data": {
      "text/plain": [
       "1×9 Array{Float64,2}:\n",
       " 1.0  1.0  1.0  -1.0  1.0  1.0  1.0  1.0  1.0"
      ]
     },
     "execution_count": 111,
     "metadata": {},
     "output_type": "execute_result"
    }
   ],
   "source": [
    "Chat = S_val * G"
   ]
  },
  {
   "cell_type": "code",
   "execution_count": 112,
   "metadata": {},
   "outputs": [
    {
     "data": {
      "text/plain": [
       "1×9 Array{Float64,2}:\n",
       " 1.0  0.0  0.0  0.0  0.0  0.0  0.0  0.0  0.0"
      ]
     },
     "execution_count": 112,
     "metadata": {},
     "output_type": "execute_result"
    }
   ],
   "source": [
    "Y1hat = Chat * M1\n",
    "# #wa\n",
    "\n",
    "## #wa"
   ]
  },
  {
   "cell_type": "code",
   "execution_count": 113,
   "metadata": {},
   "outputs": [
    {
     "data": {
      "text/plain": [
       "1×9 Array{Float64,2}:\n",
       " 0.0  1.0  0.0  0.0  0.0  0.0  0.0  0.0  0.0"
      ]
     },
     "execution_count": 113,
     "metadata": {},
     "output_type": "execute_result"
    }
   ],
   "source": [
    "Y2hat = Chat * M2\n",
    "# wal\n",
    "\n",
    "## #wa wal"
   ]
  },
  {
   "cell_type": "code",
   "execution_count": 114,
   "metadata": {},
   "outputs": [
    {
     "data": {
      "text/plain": [
       "1×9 Array{Float64,2}:\n",
       " 0.0  0.0  1.0  0.0  0.0  0.0  0.0  0.0  0.0"
      ]
     },
     "execution_count": 114,
     "metadata": {},
     "output_type": "execute_result"
    }
   ],
   "source": [
    "Y3hat = Chat * M3\n",
    "# alk\n",
    "\n",
    "## #wa wal alk"
   ]
  },
  {
   "cell_type": "code",
   "execution_count": 115,
   "metadata": {},
   "outputs": [
    {
     "data": {
      "text/plain": [
       "1×9 Array{Float64,2}:\n",
       " 0.0  0.0  0.0  -1.0  1.0  0.0  1.0  0.0  0.0"
      ]
     },
     "execution_count": 115,
     "metadata": {},
     "output_type": "execute_result"
    }
   ],
   "source": [
    "Y4hat = Chat * M4\n",
    "# lks lke\n",
    "\n",
    "## #wa wal alk lks\n",
    "## #wa wal alk lke"
   ]
  },
  {
   "cell_type": "code",
   "execution_count": 116,
   "metadata": {},
   "outputs": [
    {
     "data": {
      "text/plain": [
       "1×9 Array{Float64,2}:\n",
       " 0.0  0.0  0.0  0.0  0.0  1.0  0.0  1.0  0.0"
      ]
     },
     "execution_count": 116,
     "metadata": {},
     "output_type": "execute_result"
    }
   ],
   "source": [
    "Y5hat = Chat * M5\n",
    "# ks# ked\n",
    "\n",
    "## #wa wal alk lks lk#\n",
    "## #wa wal alk lke ked"
   ]
  },
  {
   "cell_type": "code",
   "execution_count": 117,
   "metadata": {},
   "outputs": [
    {
     "data": {
      "text/plain": [
       "1×9 Array{Float64,2}:\n",
       " 0.0  0.0  0.0  0.0  0.0  0.0  0.0  0.0  1.0"
      ]
     },
     "execution_count": 117,
     "metadata": {},
     "output_type": "execute_result"
    }
   ],
   "source": [
    "Y6hat = Chat * M6\n",
    "# ks# ked\n",
    "\n",
    "## #wa wal alk lks lk#\n",
    "## #wa wal alk lke ked ked#"
   ]
  },
  {
   "cell_type": "code",
   "execution_count": 122,
   "metadata": {},
   "outputs": [
    {
     "data": {
      "text/plain": [
       "1×6 Array{Float64,2}:\n",
       " -2.895  -0.2  3.395  -0.365  2.98  2.485"
      ]
     },
     "execution_count": 122,
     "metadata": {},
     "output_type": "execute_result"
    }
   ],
   "source": [
    "# synthesis-by-analysi\n",
    "chat_can1 = [1 1 1 0 1 1 0 0 0]\n",
    "chat_can2 = [1 1 1 0 0 0 1 1 1]"
   ]
  },
  {
   "cell_type": "code",
   "execution_count": 123,
   "metadata": {},
   "outputs": [
    {
     "data": {
      "text/plain": [
       "1×6 Array{Float64,2}:\n",
       " -2.45  -0.86  1.09  -0.86  0.93  -1.44"
      ]
     },
     "execution_count": 123,
     "metadata": {},
     "output_type": "execute_result"
    }
   ],
   "source": [
    "shat_can1 = chat_can1 * F"
   ]
  },
  {
   "cell_type": "code",
   "execution_count": null,
   "metadata": {},
   "outputs": [],
   "source": []
  },
  {
   "cell_type": "code",
   "execution_count": 124,
   "metadata": {},
   "outputs": [
    {
     "data": {
      "text/plain": [
       "1×6 Array{Float64,2}:\n",
       " -2.895  -0.2  3.395  -0.365  2.98  2.485"
      ]
     },
     "execution_count": 124,
     "metadata": {},
     "output_type": "execute_result"
    }
   ],
   "source": [
    "shat_can2 = chat_can2 * F"
   ]
  },
  {
   "cell_type": "code",
   "execution_count": 130,
   "metadata": {},
   "outputs": [
    {
     "data": {
      "text/plain": [
       "1×1 Array{Float64,2}:\n",
       " 0.8260925961736686"
      ]
     },
     "execution_count": 130,
     "metadata": {},
     "output_type": "execute_result"
    }
   ],
   "source": [
    "@show cor(shat_can1, S_val, dims=2)\n",
    "@show cor(shat_can2, S_val, dims=2)\n",
    "\n",
    "# walked win\n",
    "# corrected"
   ]
  },
  {
   "cell_type": "code",
   "execution_count": 129,
   "metadata": {},
   "outputs": [
    {
     "data": {
      "text/plain": [
       "1×1 Array{Float64,2}:\n",
       " 0.9326808118255102"
      ]
     },
     "execution_count": 129,
     "metadata": {},
     "output_type": "execute_result"
    }
   ],
   "source": []
  },
  {
   "cell_type": "code",
   "execution_count": null,
   "metadata": {},
   "outputs": [],
   "source": []
  },
  {
   "cell_type": "code",
   "execution_count": 47,
   "metadata": {},
   "outputs": [
    {
     "name": "stdout",
     "output_type": "stream",
     "text": [
      "  9.894719 seconds (33 allocations: 1.341 GiB, 1.67% gc time)\n",
      " 10.016799 seconds (33 allocations: 1.341 GiB, 0.42% gc time)\n"
     ]
    }
   ],
   "source": []
  },
  {
   "cell_type": "code",
   "execution_count": 48,
   "metadata": {},
   "outputs": [],
   "source": []
  },
  {
   "cell_type": "code",
   "execution_count": 49,
   "metadata": {},
   "outputs": [
    {
     "name": "stdout",
     "output_type": "stream",
     "text": [
      "  3.144818 seconds (33 allocations: 244.441 MiB)\n",
      "  3.282621 seconds (33 allocations: 244.441 MiB, 2.03% gc time)\n"
     ]
    }
   ],
   "source": []
  },
  {
   "cell_type": "code",
   "execution_count": 50,
   "metadata": {},
   "outputs": [
    {
     "name": "stdout",
     "output_type": "stream",
     "text": [
      " 11.214519 seconds (35 allocations: 1.371 GiB, 0.28% gc time)\n",
      " 70.357720 seconds (41 allocations: 1.371 GiB, 0.15% gc time)\n",
      " 58.931692 seconds (44 allocations: 580.135 MiB, 0.32% gc time)\n",
      " 64.083393 seconds (44 allocations: 580.135 MiB)\n"
     ]
    }
   ],
   "source": []
  },
  {
   "cell_type": "code",
   "execution_count": 51,
   "metadata": {},
   "outputs": [
    {
     "name": "stdout",
     "output_type": "stream",
     "text": [
      "\u001b[?25l"
     ]
    },
    {
     "name": "stderr",
     "output_type": "stream",
     "text": [
      "\u001b[32m\u001b[1m   Updating\u001b[22m\u001b[39m git-repo `https://github.com/MegamindHenry/JudiLing.jl.git`\n"
     ]
    },
    {
     "name": "stdout",
     "output_type": "stream",
     "text": [
      "\u001b[2K\u001b[?25h"
     ]
    },
    {
     "name": "stderr",
     "output_type": "stream",
     "text": [
      "\u001b[32m\u001b[1m  Resolving\u001b[22m\u001b[39m package versions...\n",
      "\u001b[32m\u001b[1m   Updating\u001b[22m\u001b[39m `C:\\Users\\hakun\\.julia\\environments\\v1.4\\Project.toml`\n",
      "\u001b[90m [no changes]\u001b[39m\n",
      "\u001b[32m\u001b[1m   Updating\u001b[22m\u001b[39m `C:\\Users\\hakun\\.julia\\environments\\v1.4\\Manifest.toml`\n",
      "\u001b[90m [no changes]\u001b[39m\n"
     ]
    }
   ],
   "source": []
  },
  {
   "cell_type": "code",
   "execution_count": 52,
   "metadata": {},
   "outputs": [],
   "source": []
  },
  {
   "cell_type": "code",
   "execution_count": 54,
   "metadata": {},
   "outputs": [
    {
     "name": "stdout",
     "output_type": "stream",
     "text": [
      "106.648334 seconds (1.52 M allocations: 315.828 MiB)\n",
      " 63.959567 seconds (23 allocations: 244.157 MiB)\n"
     ]
    }
   ],
   "source": []
  },
  {
   "cell_type": "code",
   "execution_count": null,
   "metadata": {},
   "outputs": [],
   "source": []
  },
  {
   "cell_type": "code",
   "execution_count": null,
   "metadata": {},
   "outputs": [],
   "source": []
  }
 ],
 "metadata": {
  "kernelspec": {
   "display_name": "Julia 1.4.2",
   "language": "julia",
   "name": "julia-1.4"
  },
  "language_info": {
   "file_extension": ".jl",
   "mimetype": "application/julia",
   "name": "julia",
   "version": "1.4.2"
  }
 },
 "nbformat": 4,
 "nbformat_minor": 4
}
