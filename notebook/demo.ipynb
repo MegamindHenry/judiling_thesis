{
 "cells": [
  {
   "cell_type": "code",
   "execution_count": 27,
   "metadata": {},
   "outputs": [
    {
     "data": {
      "text/plain": [
       "2"
      ]
     },
     "execution_count": 27,
     "metadata": {},
     "output_type": "execute_result"
    }
   ],
   "source": [
    "a = 1+1"
   ]
  },
  {
   "cell_type": "code",
   "execution_count": 28,
   "metadata": {},
   "outputs": [],
   "source": [
    "using JudiLing\n",
    "using CSV # read CSV file\n",
    "using DataFrames # load CSV file into DataFrames"
   ]
  },
  {
   "cell_type": "code",
   "execution_count": 29,
   "metadata": {},
   "outputs": [],
   "source": [
    "estonian_train = DataFrame(CSV.File(joinpath(@__DIR__, \"estonian_train.csv\")))\n",
    "estonian_val = DataFrame(CSV.File(joinpath(@__DIR__, \"estonian_val.csv\")));"
   ]
  },
  {
   "cell_type": "code",
   "execution_count": 4,
   "metadata": {},
   "outputs": [
    {
     "data": {
      "text/html": [
       "<table class=\"data-frame\"><thead><tr><th></th><th>Word</th><th>Lexeme</th><th>Case</th><th>Number</th><th>Translation</th><th>pos</th></tr><tr><th></th><th>String</th><th>String</th><th>String</th><th>String</th><th>String</th><th>String</th></tr></thead><tbody><p>5,153 rows × 6 columns</p><tr><th>1</th><td>ümbrikul</td><td>ümbrik</td><td>ad</td><td>sg</td><td>envelope</td><td>6000</td></tr><tr><th>2</th><td>rüüdele</td><td>rüü</td><td>all</td><td>pl</td><td>robe</td><td>6293</td></tr><tr><th>3</th><td>jõesse</td><td>jõgi</td><td>ill</td><td>sg</td><td>river</td><td>4988</td></tr><tr><th>4</th><td>koer</td><td>koer</td><td>nom</td><td>sg</td><td>dog</td><td>5433</td></tr><tr><th>5</th><td>seenega</td><td>seen</td><td>kom</td><td>sg</td><td>mushroom</td><td>3290</td></tr><tr><th>6</th><td>olulisest</td><td>oluline</td><td>el</td><td>sg</td><td>important</td><td>2946</td></tr><tr><th>7</th><td>sohvadena</td><td>sohva</td><td>es</td><td>pl</td><td>couch</td><td>3694</td></tr><tr><th>8</th><td>vari</td><td>vari</td><td>nom</td><td>sg</td><td>shadow</td><td>5825</td></tr><tr><th>9</th><td>mitmena</td><td>mitu</td><td>es</td><td>sg</td><td>many</td><td>1328</td></tr><tr><th>10</th><td>õilsas</td><td>õilis</td><td>in</td><td>sg</td><td>noble</td><td>677</td></tr><tr><th>11</th><td>realistlikud</td><td>realistlik</td><td>nom</td><td>pl</td><td>realistic</td><td>5923</td></tr><tr><th>12</th><td>kaantena</td><td>kaas</td><td>es</td><td>pl</td><td>lid</td><td>3414</td></tr><tr><th>13</th><td>kaedena</td><td>kae</td><td>es</td><td>pl</td><td>cataract</td><td>6214</td></tr><tr><th>14</th><td>kerata</td><td>kera</td><td>abes</td><td>sg</td><td>ball</td><td>4017</td></tr><tr><th>15</th><td>vahtrast</td><td>vaher</td><td>el</td><td>sg</td><td>maple</td><td>566</td></tr><tr><th>16</th><td>püksi</td><td>püks</td><td>gen</td><td>sg</td><td>trouser</td><td>5406</td></tr><tr><th>17</th><td>väeti</td><td>väeti</td><td>nom</td><td>sg</td><td>weak</td><td>113</td></tr><tr><th>18</th><td>papagoiks</td><td>papagoi</td><td>tr</td><td>sg</td><td>parrot</td><td>6338</td></tr><tr><th>19</th><td>tantsijataril</td><td>tantsijatar</td><td>ad</td><td>sg</td><td>female dancer</td><td>4572</td></tr><tr><th>20</th><td>juukseta</td><td>juus</td><td>abes</td><td>sg</td><td>hair</td><td>2281</td></tr><tr><th>21</th><td>nukker</td><td>nukker</td><td>nom</td><td>sg</td><td>dismal</td><td>477</td></tr><tr><th>22</th><td>kaltsiumilt</td><td>kaltsium</td><td>abl</td><td>sg</td><td>calcium</td><td>4629</td></tr><tr><th>23</th><td>armsana</td><td>armas</td><td>es</td><td>sg</td><td>sweet</td><td>628</td></tr><tr><th>24</th><td>kevade</td><td>kevad</td><td>gen</td><td>sg</td><td>spring</td><td>394</td></tr><tr><th>25</th><td>kodade</td><td>koda</td><td>gen</td><td>pl</td><td>chamber</td><td>4272</td></tr><tr><th>26</th><td>vahtratele</td><td>vaher</td><td>all</td><td>pl</td><td>maple</td><td>581</td></tr><tr><th>27</th><td>sõstraid</td><td>sõstar</td><td>part</td><td>pl</td><td>currant</td><td>2005</td></tr><tr><th>28</th><td>kerale</td><td>kera</td><td>all</td><td>sg</td><td>ball</td><td>4011</td></tr><tr><th>29</th><td>õuntele</td><td>õun</td><td>all</td><td>pl</td><td>apple</td><td>5565</td></tr><tr><th>30</th><td>tublil</td><td>tubli</td><td>ad</td><td>sg</td><td>good</td><td>3760</td></tr><tr><th>&vellip;</th><td>&vellip;</td><td>&vellip;</td><td>&vellip;</td><td>&vellip;</td><td>&vellip;</td><td>&vellip;</td></tr></tbody></table>"
      ],
      "text/latex": [
       "\\begin{tabular}{r|cccccc}\n",
       "\t& Word & Lexeme & Case & Number & Translation & pos\\\\\n",
       "\t\\hline\n",
       "\t& String & String & String & String & String & String\\\\\n",
       "\t\\hline\n",
       "\t1 & ümbrikul & ümbrik & ad & sg & envelope & 6000 \\\\\n",
       "\t2 & rüüdele & rüü & all & pl & robe & 6293 \\\\\n",
       "\t3 & jõesse & jõgi & ill & sg & river & 4988 \\\\\n",
       "\t4 & koer & koer & nom & sg & dog & 5433 \\\\\n",
       "\t5 & seenega & seen & kom & sg & mushroom & 3290 \\\\\n",
       "\t6 & olulisest & oluline & el & sg & important & 2946 \\\\\n",
       "\t7 & sohvadena & sohva & es & pl & couch & 3694 \\\\\n",
       "\t8 & vari & vari & nom & sg & shadow & 5825 \\\\\n",
       "\t9 & mitmena & mitu & es & sg & many & 1328 \\\\\n",
       "\t10 & õilsas & õilis & in & sg & noble & 677 \\\\\n",
       "\t11 & realistlikud & realistlik & nom & pl & realistic & 5923 \\\\\n",
       "\t12 & kaantena & kaas & es & pl & lid & 3414 \\\\\n",
       "\t13 & kaedena & kae & es & pl & cataract & 6214 \\\\\n",
       "\t14 & kerata & kera & abes & sg & ball & 4017 \\\\\n",
       "\t15 & vahtrast & vaher & el & sg & maple & 566 \\\\\n",
       "\t16 & püksi & püks & gen & sg & trouser & 5406 \\\\\n",
       "\t17 & väeti & väeti & nom & sg & weak & 113 \\\\\n",
       "\t18 & papagoiks & papagoi & tr & sg & parrot & 6338 \\\\\n",
       "\t19 & tantsijataril & tantsijatar & ad & sg & female dancer & 4572 \\\\\n",
       "\t20 & juukseta & juus & abes & sg & hair & 2281 \\\\\n",
       "\t21 & nukker & nukker & nom & sg & dismal & 477 \\\\\n",
       "\t22 & kaltsiumilt & kaltsium & abl & sg & calcium & 4629 \\\\\n",
       "\t23 & armsana & armas & es & sg & sweet & 628 \\\\\n",
       "\t24 & kevade & kevad & gen & sg & spring & 394 \\\\\n",
       "\t25 & kodade & koda & gen & pl & chamber & 4272 \\\\\n",
       "\t26 & vahtratele & vaher & all & pl & maple & 581 \\\\\n",
       "\t27 & sõstraid & sõstar & part & pl & currant & 2005 \\\\\n",
       "\t28 & kerale & kera & all & sg & ball & 4011 \\\\\n",
       "\t29 & õuntele & õun & all & pl & apple & 5565 \\\\\n",
       "\t30 & tublil & tubli & ad & sg & good & 3760 \\\\\n",
       "\t$\\dots$ & $\\dots$ & $\\dots$ & $\\dots$ & $\\dots$ & $\\dots$ & $\\dots$ \\\\\n",
       "\\end{tabular}\n"
      ],
      "text/plain": [
       "\u001b[1m5153×6 DataFrame\u001b[0m\n",
       "\u001b[1m  Row \u001b[0m│\u001b[1m Word         \u001b[0m\u001b[1m Lexeme     \u001b[0m\u001b[1m Case   \u001b[0m\u001b[1m Number \u001b[0m\u001b[1m Translation \u001b[0m\u001b[1m pos    \u001b[0m\n",
       "\u001b[1m      \u001b[0m│\u001b[90m String       \u001b[0m\u001b[90m String     \u001b[0m\u001b[90m String \u001b[0m\u001b[90m String \u001b[0m\u001b[90m String      \u001b[0m\u001b[90m String \u001b[0m\n",
       "──────┼───────────────────────────────────────────────────────────────\n",
       "    1 │ ümbrikul      ümbrik      ad      sg      envelope     6000\n",
       "    2 │ rüüdele       rüü         all     pl      robe         6293\n",
       "    3 │ jõesse        jõgi        ill     sg      river        4988\n",
       "    4 │ koer          koer        nom     sg      dog          5433\n",
       "    5 │ seenega       seen        kom     sg      mushroom     3290\n",
       "    6 │ olulisest     oluline     el      sg      important    2946\n",
       "    7 │ sohvadena     sohva       es      pl      couch        3694\n",
       "    8 │ vari          vari        nom     sg      shadow       5825\n",
       "    9 │ mitmena       mitu        es      sg      many         1328\n",
       "   10 │ õilsas        õilis       in      sg      noble        677\n",
       "   11 │ realistlikud  realistlik  nom     pl      realistic    5923\n",
       "  ⋮   │      ⋮            ⋮         ⋮       ⋮          ⋮         ⋮\n",
       " 5144 │ ohutuid       ohutu       part    pl      safe         45\n",
       " 5145 │ luterlasi     luterlane   part    pl      Lutheran     3013\n",
       " 5146 │ õunteks       õun         tr      pl      apple        5568\n",
       " 5147 │ naeriga       naeris      kom     sg      turnip       1834\n",
       " 5148 │ küünaldesse   küünal      ill     pl      candle       1978\n",
       " 5149 │ eurooplases   eurooplane  in      sg      European     3169\n",
       " 5150 │ aluseks       alus        tr      sg      base         2250\n",
       " 5151 │ kõnena        kõne        es      sg      speech       3708\n",
       " 5152 │ kanuudes      kanuu       in      pl      canoe        6319\n",
       " 5153 │ katet         kate        part    sg      cover        1655\n",
       "\u001b[36m                                                     5132 rows omitted\u001b[0m"
      ]
     },
     "execution_count": 4,
     "metadata": {},
     "output_type": "execute_result"
    }
   ],
   "source": [
    "estonian_train"
   ]
  },
  {
   "cell_type": "code",
   "execution_count": 30,
   "metadata": {},
   "outputs": [
    {
     "data": {
      "text/html": [
       "<table class=\"data-frame\"><thead><tr><th></th><th>Word</th><th>Lexeme</th><th>Case</th><th>Number</th><th>Translation</th><th>pos</th></tr><tr><th></th><th>String</th><th>String</th><th>String</th><th>String</th><th>String</th><th>Int64</th></tr></thead><tbody><p>1,288 rows × 6 columns</p><tr><th>1</th><td>asemetes</td><td>ase</td><td>in</td><td>pl</td><td>stead</td><td>859</td></tr><tr><th>2</th><td>asemeteta</td><td>ase</td><td>abes</td><td>pl</td><td>stead</td><td>867</td></tr><tr><th>3</th><td>sugudena</td><td>sugu</td><td>es</td><td>pl</td><td>gender</td><td>4338</td></tr><tr><th>4</th><td>tuvi</td><td>tuvi</td><td>nom</td><td>sg</td><td>pidgeon</td><td>4033</td></tr><tr><th>5</th><td>ümbrikutele</td><td>ümbrik</td><td>all</td><td>pl</td><td>envelope</td><td>6013</td></tr><tr><th>6</th><td>varteni</td><td>vars</td><td>term</td><td>pl</td><td>shaft</td><td>3469</td></tr><tr><th>7</th><td>varrelt</td><td>vars</td><td>abl</td><td>sg</td><td>shaft</td><td>3453</td></tr><tr><th>8</th><td>ronimiseni</td><td>ronimine</td><td>term</td><td>sg</td><td>climbing</td><td>3203</td></tr><tr><th>9</th><td>koerteni</td><td>koer</td><td>term</td><td>pl</td><td>dog</td><td>5457</td></tr><tr><th>10</th><td>tantsijatar</td><td>tantsijatar</td><td>nom</td><td>sg</td><td>female dancer</td><td>4565</td></tr><tr><th>11</th><td>numbriteta</td><td>number</td><td>abes</td><td>pl</td><td>number</td><td>335</td></tr><tr><th>12</th><td>oksaks</td><td>oks</td><td>tr</td><td>sg</td><td>branch</td><td>5470</td></tr><tr><th>13</th><td>tulistest</td><td>tuline</td><td>el</td><td>pl</td><td>hot</td><td>2568</td></tr><tr><th>14</th><td>ahnelt</td><td>ahne</td><td>abl</td><td>sg</td><td>greedy</td><td>1577</td></tr><tr><th>15</th><td>tõvedeta</td><td>tõbi</td><td>abes</td><td>pl</td><td>disease</td><td>5067</td></tr><tr><th>16</th><td>toalt</td><td>tuba</td><td>abl</td><td>sg</td><td>room</td><td>4349</td></tr><tr><th>17</th><td>soovitustesse</td><td>soovitus</td><td>ill</td><td>pl</td><td>recommendation</td><td>2930</td></tr><tr><th>18</th><td>õilsata</td><td>õilis</td><td>abes</td><td>sg</td><td>noble</td><td>685</td></tr><tr><th>19</th><td>tundelisele</td><td>tundeline</td><td>all</td><td>sg</td><td>emotional</td><td>2975</td></tr><tr><th>20</th><td>lauljataris</td><td>lauljatar</td><td>in</td><td>sg</td><td>female singer</td><td>4737</td></tr><tr><th>21</th><td>loengusse</td><td>loeng</td><td>ill</td><td>sg</td><td>lecture</td><td>340</td></tr><tr><th>22</th><td>varje</td><td>vari</td><td>part</td><td>pl</td><td>shadow</td><td>5841</td></tr><tr><th>23</th><td>soole</td><td>sugu</td><td>all</td><td>sg</td><td>gender</td><td>4319</td></tr><tr><th>24</th><td>veteni</td><td>vesi</td><td>term</td><td>pl</td><td>water</td><td>3553</td></tr><tr><th>25</th><td>kümnetena</td><td>kümme</td><td>es</td><td>pl</td><td>ten</td><td>1202</td></tr><tr><th>26</th><td>sõstrana</td><td>sõstar</td><td>es</td><td>sg</td><td>currant</td><td>2000</td></tr><tr><th>27</th><td>erksates</td><td>ergas</td><td>in</td><td>pl</td><td>cheerful</td><td>663</td></tr><tr><th>28</th><td>majandustena</td><td>majandus</td><td>es</td><td>pl</td><td>economy</td><td>2798</td></tr><tr><th>29</th><td>liikmeta</td><td>liige</td><td>abes</td><td>sg</td><td>member</td><td>1133</td></tr><tr><th>30</th><td>veskitele</td><td>veski</td><td>all</td><td>pl</td><td>mill</td><td>105</td></tr><tr><th>&vellip;</th><td>&vellip;</td><td>&vellip;</td><td>&vellip;</td><td>&vellip;</td><td>&vellip;</td><td>&vellip;</td></tr></tbody></table>"
      ],
      "text/latex": [
       "\\begin{tabular}{r|cccccc}\n",
       "\t& Word & Lexeme & Case & Number & Translation & pos\\\\\n",
       "\t\\hline\n",
       "\t& String & String & String & String & String & Int64\\\\\n",
       "\t\\hline\n",
       "\t1 & asemetes & ase & in & pl & stead & 859 \\\\\n",
       "\t2 & asemeteta & ase & abes & pl & stead & 867 \\\\\n",
       "\t3 & sugudena & sugu & es & pl & gender & 4338 \\\\\n",
       "\t4 & tuvi & tuvi & nom & sg & pidgeon & 4033 \\\\\n",
       "\t5 & ümbrikutele & ümbrik & all & pl & envelope & 6013 \\\\\n",
       "\t6 & varteni & vars & term & pl & shaft & 3469 \\\\\n",
       "\t7 & varrelt & vars & abl & sg & shaft & 3453 \\\\\n",
       "\t8 & ronimiseni & ronimine & term & sg & climbing & 3203 \\\\\n",
       "\t9 & koerteni & koer & term & pl & dog & 5457 \\\\\n",
       "\t10 & tantsijatar & tantsijatar & nom & sg & female dancer & 4565 \\\\\n",
       "\t11 & numbriteta & number & abes & pl & number & 335 \\\\\n",
       "\t12 & oksaks & oks & tr & sg & branch & 5470 \\\\\n",
       "\t13 & tulistest & tuline & el & pl & hot & 2568 \\\\\n",
       "\t14 & ahnelt & ahne & abl & sg & greedy & 1577 \\\\\n",
       "\t15 & tõvedeta & tõbi & abes & pl & disease & 5067 \\\\\n",
       "\t16 & toalt & tuba & abl & sg & room & 4349 \\\\\n",
       "\t17 & soovitustesse & soovitus & ill & pl & recommendation & 2930 \\\\\n",
       "\t18 & õilsata & õilis & abes & sg & noble & 685 \\\\\n",
       "\t19 & tundelisele & tundeline & all & sg & emotional & 2975 \\\\\n",
       "\t20 & lauljataris & lauljatar & in & sg & female singer & 4737 \\\\\n",
       "\t21 & loengusse & loeng & ill & sg & lecture & 340 \\\\\n",
       "\t22 & varje & vari & part & pl & shadow & 5841 \\\\\n",
       "\t23 & soole & sugu & all & sg & gender & 4319 \\\\\n",
       "\t24 & veteni & vesi & term & pl & water & 3553 \\\\\n",
       "\t25 & kümnetena & kümme & es & pl & ten & 1202 \\\\\n",
       "\t26 & sõstrana & sõstar & es & sg & currant & 2000 \\\\\n",
       "\t27 & erksates & ergas & in & pl & cheerful & 663 \\\\\n",
       "\t28 & majandustena & majandus & es & pl & economy & 2798 \\\\\n",
       "\t29 & liikmeta & liige & abes & sg & member & 1133 \\\\\n",
       "\t30 & veskitele & veski & all & pl & mill & 105 \\\\\n",
       "\t$\\dots$ & $\\dots$ & $\\dots$ & $\\dots$ & $\\dots$ & $\\dots$ & $\\dots$ \\\\\n",
       "\\end{tabular}\n"
      ],
      "text/plain": [
       "\u001b[1m1288×6 DataFrame\u001b[0m\n",
       "\u001b[1m  Row \u001b[0m│\u001b[1m Word              \u001b[0m\u001b[1m Lexeme      \u001b[0m\u001b[1m Case   \u001b[0m\u001b[1m Number \u001b[0m\u001b[1m Translation   \u001b[0m\u001b[1m pos   \u001b[0m\n",
       "\u001b[1m      \u001b[0m│\u001b[90m String            \u001b[0m\u001b[90m String      \u001b[0m\u001b[90m String \u001b[0m\u001b[90m String \u001b[0m\u001b[90m String        \u001b[0m\u001b[90m Int64 \u001b[0m\n",
       "──────┼──────────────────────────────────────────────────────────────────────\n",
       "    1 │ asemetes           ase          in      pl      stead            859\n",
       "    2 │ asemeteta          ase          abes    pl      stead            867\n",
       "    3 │ sugudena           sugu         es      pl      gender          4338\n",
       "    4 │ tuvi               tuvi         nom     sg      pidgeon         4033\n",
       "    5 │ ümbrikutele        ümbrik       all     pl      envelope        6013\n",
       "    6 │ varteni            vars         term    pl      shaft           3469\n",
       "    7 │ varrelt            vars         abl     sg      shaft           3453\n",
       "    8 │ ronimiseni         ronimine     term    sg      climbing        3203\n",
       "    9 │ koerteni           koer         term    pl      dog             5457\n",
       "   10 │ tantsijatar        tantsijatar  nom     sg      female dancer   4565\n",
       "   11 │ numbriteta         number       abes    pl      number           335\n",
       "  ⋮   │         ⋮               ⋮         ⋮       ⋮           ⋮          ⋮\n",
       " 1279 │ kordusel           kordus       ad      sg      repetition      2332\n",
       " 1280 │ naljadesse         nali         ill     pl      joke            5646\n",
       " 1281 │ ausale             aus          all     sg      honest           371\n",
       " 1282 │ sugudel            sugu         ad      pl      gender          4334\n",
       " 1283 │ püksisse           püks         ill     sg      trouser         5408\n",
       " 1284 │ sõstrast           sõstar       el      sg      currant         1994\n",
       " 1285 │ tandriks           tander       tr      sg      battlefield      822\n",
       " 1286 │ riigiks            riik         tr      sg      country         5218\n",
       " 1287 │ kanuusid           kanuu        part    pl      canoe           6317\n",
       " 1288 │ helbe              helves       gen     sg      flake           1794\n",
       "\u001b[36m                                                            1267 rows omitted\u001b[0m"
      ]
     },
     "execution_count": 30,
     "metadata": {},
     "output_type": "execute_result"
    }
   ],
   "source": [
    "estonian_val"
   ]
  },
  {
   "cell_type": "code",
   "execution_count": 35,
   "metadata": {},
   "outputs": [
    {
     "name": "stdout",
     "output_type": "stream",
     "text": [
      "  0.053405 seconds (928.31 k allocations: 55.206 MiB)\n"
     ]
    }
   ],
   "source": [
    "@time cue_obj_train, cue_obj_val = JudiLing.make_cue_matrix(\n",
    "    estonian_train,\n",
    "    estonian_val,\n",
    "    grams=3,\n",
    "    target_col=:Word,\n",
    "    tokenized=false\n",
    "    );"
   ]
  },
  {
   "cell_type": "code",
   "execution_count": 32,
   "metadata": {},
   "outputs": [
    {
     "data": {
      "text/html": [
       "<table class=\"data-frame\"><thead><tr><th></th><th>Data</th><th>#üm</th><th>ümb</th><th>mbr</th><th>bri</th><th>rik</th><th>iku</th></tr><tr><th></th><th>String</th><th>Int64</th><th>Int64</th><th>Int64</th><th>Int64</th><th>Int64</th><th>Int64</th></tr></thead><tbody><p>6 rows × 7 columns</p><tr><th>1</th><td>ümbrikul</td><td>1</td><td>1</td><td>1</td><td>1</td><td>1</td><td>1</td></tr><tr><th>2</th><td>rüüdele</td><td>0</td><td>0</td><td>0</td><td>0</td><td>0</td><td>0</td></tr><tr><th>3</th><td>jõesse</td><td>0</td><td>0</td><td>0</td><td>0</td><td>0</td><td>0</td></tr><tr><th>4</th><td>koer</td><td>0</td><td>0</td><td>0</td><td>0</td><td>0</td><td>0</td></tr><tr><th>5</th><td>seenega</td><td>0</td><td>0</td><td>0</td><td>0</td><td>0</td><td>0</td></tr><tr><th>6</th><td>olulisest</td><td>0</td><td>0</td><td>0</td><td>0</td><td>0</td><td>0</td></tr></tbody></table>"
      ],
      "text/latex": [
       "\\begin{tabular}{r|ccccccc}\n",
       "\t& Data & \\#üm & ümb & mbr & bri & rik & iku\\\\\n",
       "\t\\hline\n",
       "\t& String & Int64 & Int64 & Int64 & Int64 & Int64 & Int64\\\\\n",
       "\t\\hline\n",
       "\t1 & ümbrikul & 1 & 1 & 1 & 1 & 1 & 1 \\\\\n",
       "\t2 & rüüdele & 0 & 0 & 0 & 0 & 0 & 0 \\\\\n",
       "\t3 & jõesse & 0 & 0 & 0 & 0 & 0 & 0 \\\\\n",
       "\t4 & koer & 0 & 0 & 0 & 0 & 0 & 0 \\\\\n",
       "\t5 & seenega & 0 & 0 & 0 & 0 & 0 & 0 \\\\\n",
       "\t6 & olulisest & 0 & 0 & 0 & 0 & 0 & 0 \\\\\n",
       "\\end{tabular}\n"
      ],
      "text/plain": [
       "\u001b[1m6×7 DataFrame\u001b[0m\n",
       "\u001b[1m Row \u001b[0m│\u001b[1m Data      \u001b[0m\u001b[1m #üm   \u001b[0m\u001b[1m ümb   \u001b[0m\u001b[1m mbr   \u001b[0m\u001b[1m bri   \u001b[0m\u001b[1m rik   \u001b[0m\u001b[1m iku   \u001b[0m\n",
       "\u001b[1m     \u001b[0m│\u001b[90m String    \u001b[0m\u001b[90m Int64 \u001b[0m\u001b[90m Int64 \u001b[0m\u001b[90m Int64 \u001b[0m\u001b[90m Int64 \u001b[0m\u001b[90m Int64 \u001b[0m\u001b[90m Int64 \u001b[0m\n",
       "─────┼─────────────────────────────────────────────────────\n",
       "   1 │ ümbrikul       1      1      1      1      1      1\n",
       "   2 │ rüüdele        0      0      0      0      0      0\n",
       "   3 │ jõesse         0      0      0      0      0      0\n",
       "   4 │ koer           0      0      0      0      0      0\n",
       "   5 │ seenega        0      0      0      0      0      0\n",
       "   6 │ olulisest      0      0      0      0      0      0"
      ]
     },
     "metadata": {},
     "output_type": "display_data"
    }
   ],
   "source": [
    "JudiLing.display_SC(estonian_train[:,:Word], cue_obj_train)"
   ]
  },
  {
   "cell_type": "code",
   "execution_count": 36,
   "metadata": {},
   "outputs": [
    {
     "name": "stdout",
     "output_type": "stream",
     "text": [
      "  0.437050 seconds (236.61 k allocations: 581.938 MiB, 15.41% gc time)\n"
     ]
    }
   ],
   "source": [
    "n_features = size(cue_obj_train.C, 2)\n",
    "@time S_train, S_val = JudiLing.make_S_matrix(\n",
    "    estonian_train,\n",
    "    estonian_val,\n",
    "    [\"Lexeme\"],\n",
    "    [\"Case\",\"Number\"],\n",
    "    ncol=n_features,\n",
    "    add_noise=true\n",
    "    );"
   ]
  },
  {
   "cell_type": "code",
   "execution_count": 34,
   "metadata": {},
   "outputs": [
    {
     "data": {
      "text/html": [
       "<table class=\"data-frame\"><thead><tr><th></th><th>Data</th><th>S1</th><th>S2</th><th>S3</th><th>S4</th><th>S5</th><th>S6</th></tr><tr><th></th><th>String</th><th>Float64</th><th>Float64</th><th>Float64</th><th>Float64</th><th>Float64</th><th>Float64</th></tr></thead><tbody><p>6 rows × 7 columns</p><tr><th>1</th><td>ümbrikul</td><td>10.4098</td><td>-12.4237</td><td>4.70806</td><td>4.87667</td><td>7.05879</td><td>-5.67645</td></tr><tr><th>2</th><td>rüüdele</td><td>-0.727067</td><td>-8.46497</td><td>-0.590723</td><td>-0.931539</td><td>12.83</td><td>1.44924</td></tr><tr><th>3</th><td>jõesse</td><td>-4.4627</td><td>6.07277</td><td>-9.73858</td><td>11.0912</td><td>6.63827</td><td>-0.615547</td></tr><tr><th>4</th><td>koer</td><td>-12.4006</td><td>-11.3757</td><td>-0.433701</td><td>3.60604</td><td>7.77946</td><td>-6.87679</td></tr><tr><th>5</th><td>seenega</td><td>2.50122</td><td>-6.69969</td><td>14.548</td><td>-1.01514</td><td>1.2776</td><td>-5.03294</td></tr><tr><th>6</th><td>olulisest</td><td>-5.6412</td><td>-5.4344</td><td>3.76818</td><td>15.0093</td><td>13.8653</td><td>-14.3231</td></tr></tbody></table>"
      ],
      "text/latex": [
       "\\begin{tabular}{r|ccccccc}\n",
       "\t& Data & S1 & S2 & S3 & S4 & S5 & S6\\\\\n",
       "\t\\hline\n",
       "\t& String & Float64 & Float64 & Float64 & Float64 & Float64 & Float64\\\\\n",
       "\t\\hline\n",
       "\t1 & ümbrikul & 10.4098 & -12.4237 & 4.70806 & 4.87667 & 7.05879 & -5.67645 \\\\\n",
       "\t2 & rüüdele & -0.727067 & -8.46497 & -0.590723 & -0.931539 & 12.83 & 1.44924 \\\\\n",
       "\t3 & jõesse & -4.4627 & 6.07277 & -9.73858 & 11.0912 & 6.63827 & -0.615547 \\\\\n",
       "\t4 & koer & -12.4006 & -11.3757 & -0.433701 & 3.60604 & 7.77946 & -6.87679 \\\\\n",
       "\t5 & seenega & 2.50122 & -6.69969 & 14.548 & -1.01514 & 1.2776 & -5.03294 \\\\\n",
       "\t6 & olulisest & -5.6412 & -5.4344 & 3.76818 & 15.0093 & 13.8653 & -14.3231 \\\\\n",
       "\\end{tabular}\n"
      ],
      "text/plain": [
       "\u001b[1m6×7 DataFrame\u001b[0m\n",
       "\u001b[1m Row \u001b[0m│\u001b[1m Data      \u001b[0m\u001b[1m S1         \u001b[0m\u001b[1m S2        \u001b[0m\u001b[1m S3        \u001b[0m\u001b[1m S4        \u001b[0m\u001b[1m S5       \u001b[0m\u001b[1m S6   \u001b[0m ⋯\n",
       "\u001b[1m     \u001b[0m│\u001b[90m String    \u001b[0m\u001b[90m Float64    \u001b[0m\u001b[90m Float64   \u001b[0m\u001b[90m Float64   \u001b[0m\u001b[90m Float64   \u001b[0m\u001b[90m Float64  \u001b[0m\u001b[90m Float\u001b[0m ⋯\n",
       "─────┼──────────────────────────────────────────────────────────────────────────\n",
       "   1 │ ümbrikul    10.4098    -12.4237    4.70806    4.87667    7.05879   -5.6 ⋯\n",
       "   2 │ rüüdele     -0.727067   -8.46497  -0.590723  -0.931539  12.83       1.4\n",
       "   3 │ jõesse      -4.4627      6.07277  -9.73858   11.0912     6.63827   -0.6\n",
       "   4 │ koer       -12.4006    -11.3757   -0.433701   3.60604    7.77946   -6.8\n",
       "   5 │ seenega      2.50122    -6.69969  14.548     -1.01514    1.2776    -5.0 ⋯\n",
       "   6 │ olulisest   -5.6412     -5.4344    3.76818   15.0093    13.8653   -14.3\n",
       "\u001b[36m                                                                1 column omitted\u001b[0m"
      ]
     },
     "metadata": {},
     "output_type": "display_data"
    }
   ],
   "source": [
    "JudiLing.display_SC(estonian_train[:,:Word], S_train)"
   ]
  },
  {
   "cell_type": "code",
   "execution_count": 40,
   "metadata": {},
   "outputs": [
    {
     "name": "stdout",
     "output_type": "stream",
     "text": [
      "  0.333925 seconds (81 allocations: 138.420 MiB)\n"
     ]
    },
    {
     "data": {
      "text/plain": [
       "1418×1418 Array{Float64,2}:\n",
       "  0.075295   -1.53387   -0.376434    …   1.10242     5.12444     1.50063\n",
       "  0.075295   -1.53387   -0.376434        1.10242     5.12444     1.50063\n",
       "  5.09693    -1.12226    0.207173        0.81646     2.20127    -1.67911\n",
       "  2.51339    -1.48637   -0.00742256     -0.0747007   1.01625    -0.512721\n",
       "  1.20928    -0.420672   1.47649         0.771718    0.611372   -0.276218\n",
       "  1.79374     0.366472  -0.376242    …  -0.470863   -1.1305     -1.09491\n",
       "  0.529348   -0.739404   1.24749         0.742485   -0.452001    0.962457\n",
       "  0.74393    -6.32098    2.61241         2.21226    -1.90816    -3.69313\n",
       "  0.408837   -3.61282    0.706432       -1.06063    -0.44103     2.25795\n",
       "  0.408837   -3.61282    0.706432       -1.06063    -0.44103     2.25795\n",
       " -3.00055     0.176644   1.98796     …   1.99747     4.29569     1.18051\n",
       "  1.35035     1.12934   -1.36923        -1.22444     0.0128092  -1.84215\n",
       "  0.547951   -0.349804  -1.19915        -0.343105   -2.02398    -3.19108\n",
       "  ⋮                                  ⋱   ⋮                      \n",
       "  1.47364     0.904645  -0.435726        0.703096   -1.03945    -1.86858\n",
       " -1.73419     0.321941   2.69152        -0.933734    1.66109    -1.62509\n",
       "  0.257934    1.7616     3.49946        -1.23576    -0.444845   -1.63199\n",
       " -1.13682    -7.26183   -3.18394         7.67547     1.78499     4.21279\n",
       "  1.14688     2.26498   -0.680483    …  -1.79112     0.558142    0.00920419\n",
       " -0.22735    -0.799612   0.258672        1.91625     0.0991403   0.512081\n",
       " -0.0433648   0.374951   1.38991        -0.79099    -0.25169     0.0106329\n",
       "  0.973868    3.72014    3.3198         -2.7456     -2.12242    -0.355019\n",
       " -1.7146     -4.72776    4.30886         2.06188     2.42344     4.19913\n",
       " -0.899988    1.09969    1.71146     …   0.250918    1.38821    -0.0181666\n",
       "  0.42554    -0.384632   0.082069        0.775687    1.76736    -1.10252\n",
       "  0.42554    -0.384632   0.082069        0.775687    1.76736    -1.10252"
      ]
     },
     "execution_count": 40,
     "metadata": {},
     "output_type": "execute_result"
    }
   ],
   "source": [
    "@time F_train = JudiLing.make_transform_matrix(cue_obj_train.C, S_train)"
   ]
  },
  {
   "cell_type": "code",
   "execution_count": 42,
   "metadata": {},
   "outputs": [
    {
     "name": "stdout",
     "output_type": "stream",
     "text": [
      "  0.097001 seconds (3 allocations: 55.748 MiB)\n",
      "  0.069083 seconds (3 allocations: 13.934 MiB, 41.25% gc time)\n"
     ]
    }
   ],
   "source": [
    "@time Shat_train = cue_obj_train.C * F_train\n",
    "@time Shat_val = cue_obj_val.C * F_train;"
   ]
  },
  {
   "cell_type": "code",
   "execution_count": 43,
   "metadata": {},
   "outputs": [
    {
     "name": "stdout",
     "output_type": "stream",
     "text": [
      "JudiLing.eval_SC(Shat_train, S_train, estonian_train, :Word) = 0.9920434698234039\n",
      "JudiLing.eval_SC(Shat_val, S_val, estonian_val, :Word) = 0.9836956521739131\n"
     ]
    }
   ],
   "source": [
    "@show JudiLing.eval_SC(Shat_train, S_train, estonian_train, :Word)\n",
    "@show JudiLing.eval_SC(Shat_val, S_val, estonian_val, :Word);"
   ]
  },
  {
   "cell_type": "code",
   "execution_count": 44,
   "metadata": {},
   "outputs": [
    {
     "name": "stdout",
     "output_type": "stream",
     "text": [
      "  0.319681 seconds (20 allocations: 122.737 MiB)\n"
     ]
    }
   ],
   "source": [
    "@time G_train = JudiLing.make_transform_matrix(S_train, cue_obj_train.C);"
   ]
  },
  {
   "cell_type": "code",
   "execution_count": 45,
   "metadata": {},
   "outputs": [],
   "source": [
    "Chat_train = S_train * G_train\n",
    "Chat_val = S_val * G_train;"
   ]
  },
  {
   "cell_type": "code",
   "execution_count": 15,
   "metadata": {},
   "outputs": [],
   "source": [
    "A = cue_obj_train.A\n",
    "\n",
    "max_t = JudiLing.cal_max_timestep(estonian_train, estonian_val, :Word);"
   ]
  },
  {
   "cell_type": "code",
   "execution_count": 46,
   "metadata": {},
   "outputs": [
    {
     "name": "stdout",
     "output_type": "stream",
     "text": [
      "Making fac C\n",
      "==========\n",
      "Timestep 1\n",
      "Calculating Yt...\n",
      "Calculating Mt...\n",
      "Auto mode: Sparsity: 0.07334273624823695\n",
      "Returning a sparse matrix format\n",
      "Calculating Ythat...\n",
      "Sparsity: 0.07334273624823695\n",
      "Finding paths...\n"
     ]
    },
    {
     "name": "stderr",
     "output_type": "stream",
     "text": [
      "\u001b[32mProgress: 100%|█████████████████████████████████████████| Time: 0:00:00\u001b[39m\n"
     ]
    },
    {
     "name": "stdout",
     "output_type": "stream",
     "text": [
      "==========\n",
      "Timestep 2\n",
      "average 1.0890743256355522 of paths currently\n",
      "Calculating Yt...\n",
      "Calculating Mt...\n",
      "Auto mode: Sparsity: 0.1755994358251058\n",
      "Returning a sparse matrix format\n",
      "Calculating Ythat...\n",
      "Sparsity: 0.1755994358251058\n",
      "Finding paths...\n"
     ]
    },
    {
     "name": "stderr",
     "output_type": "stream",
     "text": [
      "\u001b[32mProgress: 100%|█████████████████████████████████████████| Time: 0:00:00\u001b[39m\n"
     ]
    },
    {
     "name": "stdout",
     "output_type": "stream",
     "text": [
      "==========\n",
      "Timestep 3\n",
      "average 1.1542790607413158 of paths currently\n",
      "Calculating Yt...\n",
      "Calculating Mt...\n",
      "Auto mode: Sparsity: 0.2834978843441467\n",
      "Returning a dense matrix format\n",
      "Calculating Ythat...\n",
      "Sparsity: 0.2834978843441467\n",
      "Finding paths...\n"
     ]
    },
    {
     "name": "stderr",
     "output_type": "stream",
     "text": [
      "\u001b[32mProgress: 100%|█████████████████████████████████████████| Time: 0:00:00\u001b[39m\n"
     ]
    },
    {
     "name": "stdout",
     "output_type": "stream",
     "text": [
      "==========\n",
      "Timestep 4\n",
      "average 1.5637492722685815 of paths currently\n",
      "Calculating Yt...\n",
      "Calculating Mt...\n",
      "Auto mode: Sparsity: 0.383638928067701\n",
      "Returning a dense matrix format\n",
      "Calculating Ythat...\n",
      "Sparsity: 0.383638928067701\n",
      "Finding paths...\n"
     ]
    },
    {
     "name": "stderr",
     "output_type": "stream",
     "text": [
      "\u001b[32mProgress: 100%|█████████████████████████████████████████| Time: 0:00:00\u001b[39m\n"
     ]
    },
    {
     "name": "stdout",
     "output_type": "stream",
     "text": [
      "==========\n",
      "Timestep 5\n",
      "average 1.9431399184940812 of paths currently\n",
      "Calculating Yt...\n",
      "Calculating Mt...\n",
      "Auto mode: Sparsity: 0.32651622002820874\n",
      "Returning a dense matrix format\n",
      "Calculating Ythat...\n",
      "Sparsity: 0.32651622002820874\n",
      "Finding paths...\n"
     ]
    },
    {
     "name": "stderr",
     "output_type": "stream",
     "text": [
      "\u001b[32mProgress: 100%|█████████████████████████████████████████| Time: 0:00:00\u001b[39m\n"
     ]
    },
    {
     "name": "stdout",
     "output_type": "stream",
     "text": [
      "==========\n",
      "Timestep 6\n",
      "average 2.545701533087522 of paths currently\n",
      "Calculating Yt...\n",
      "Calculating Mt...\n",
      "Auto mode: Sparsity: 0.17277856135401976\n",
      "Returning a sparse matrix format\n",
      "Calculating Ythat...\n",
      "Sparsity: 0.17277856135401976\n",
      "Finding paths...\n"
     ]
    },
    {
     "name": "stderr",
     "output_type": "stream",
     "text": [
      "\u001b[32mProgress: 100%|█████████████████████████████████████████| Time: 0:00:00\u001b[39m\n"
     ]
    },
    {
     "name": "stdout",
     "output_type": "stream",
     "text": [
      "==========\n",
      "Timestep 7\n",
      "average 2.79448864738987 of paths currently\n",
      "Calculating Yt...\n",
      "Calculating Mt...\n",
      "Auto mode: Sparsity: 0.12693935119887165\n",
      "Returning a sparse matrix format\n",
      "Calculating Ythat...\n",
      "Sparsity: 0.12693935119887165\n",
      "Finding paths...\n"
     ]
    },
    {
     "name": "stderr",
     "output_type": "stream",
     "text": [
      "\u001b[32mProgress: 100%|█████████████████████████████████████████| Time: 0:00:00\u001b[39m\n"
     ]
    },
    {
     "name": "stdout",
     "output_type": "stream",
     "text": [
      "==========\n",
      "Timestep 8\n",
      "average 2.310886862022123 of paths currently\n",
      "Calculating Yt...\n",
      "Calculating Mt...\n",
      "Auto mode: Sparsity: 0.1156558533145275\n",
      "Returning a sparse matrix format\n",
      "Calculating Ythat...\n",
      "Sparsity: 0.1156558533145275\n",
      "Finding paths...\n"
     ]
    },
    {
     "name": "stderr",
     "output_type": "stream",
     "text": [
      "\u001b[32mProgress: 100%|█████████████████████████████████████████| Time: 0:00:00\u001b[39m\n"
     ]
    },
    {
     "name": "stdout",
     "output_type": "stream",
     "text": [
      "==========\n",
      "Timestep 9\n",
      "average 1.6801862992431593 of paths currently\n",
      "Calculating Yt...\n",
      "Calculating Mt...\n",
      "Auto mode: Sparsity: 0.10437235543018336\n",
      "Returning a sparse matrix format\n",
      "Calculating Ythat...\n",
      "Sparsity: 0.10437235543018336\n",
      "Finding paths...\n"
     ]
    },
    {
     "name": "stderr",
     "output_type": "stream",
     "text": [
      "\u001b[32mProgress: 100%|█████████████████████████████████████████| Time: 0:00:00\u001b[39m\n"
     ]
    },
    {
     "name": "stdout",
     "output_type": "stream",
     "text": [
      "==========\n",
      "Timestep 10\n",
      "average 0.9833106928003105 of paths currently\n",
      "Calculating Yt...\n",
      "Calculating Mt...\n",
      "Auto mode: Sparsity: 0.06981664315937941\n",
      "Returning a sparse matrix format\n",
      "Calculating Ythat...\n",
      "Sparsity: 0.06981664315937941\n",
      "Finding paths...\n"
     ]
    },
    {
     "name": "stderr",
     "output_type": "stream",
     "text": [
      "\u001b[32mProgress: 100%|█████████████████████████████████████████| Time: 0:00:00\u001b[39m\n"
     ]
    },
    {
     "name": "stdout",
     "output_type": "stream",
     "text": [
      "==========\n",
      "Timestep 11\n",
      "average 0.5115466718416456 of paths currently\n",
      "Calculating Yt...\n",
      "Calculating Mt...\n",
      "Auto mode: Sparsity: 0.05571227080394922\n",
      "Returning a sparse matrix format\n",
      "Calculating Ythat...\n",
      "Sparsity: 0.05571227080394922\n",
      "Finding paths...\n"
     ]
    },
    {
     "name": "stderr",
     "output_type": "stream",
     "text": [
      "\u001b[32mProgress: 100%|█████████████████████████████████████████| Time: 0:00:00\u001b[39m\n"
     ]
    },
    {
     "name": "stdout",
     "output_type": "stream",
     "text": [
      "==========\n",
      "Timestep 12\n",
      "average 0.33223365030079566 of paths currently\n",
      "Calculating Yt...\n",
      "Calculating Mt...\n",
      "Auto mode: Sparsity: 0.04231311706629055\n",
      "Returning a sparse matrix format\n",
      "Calculating Ythat...\n",
      "Sparsity: 0.04231311706629055\n",
      "Finding paths...\n"
     ]
    },
    {
     "name": "stderr",
     "output_type": "stream",
     "text": [
      "\u001b[32mProgress: 100%|█████████████████████████████████████████| Time: 0:00:00\u001b[39m\n"
     ]
    },
    {
     "name": "stdout",
     "output_type": "stream",
     "text": [
      "==========\n",
      "Timestep 13\n",
      "average 0.1560256161459344 of paths currently\n",
      "Calculating Yt...\n",
      "Calculating Mt...\n",
      "Auto mode: Sparsity: 0.02538787023977433\n",
      "Returning a sparse matrix format\n",
      "Calculating Ythat...\n",
      "Sparsity: 0.02538787023977433\n",
      "Finding paths...\n"
     ]
    },
    {
     "name": "stderr",
     "output_type": "stream",
     "text": [
      "\u001b[32mProgress: 100%|█████████████████████████████████████████| Time: 0:00:00\u001b[39m\n"
     ]
    },
    {
     "name": "stdout",
     "output_type": "stream",
     "text": [
      "==========\n",
      "Timestep 14\n",
      "average 0.050067921599068504 of paths currently\n",
      "Calculating Yt...\n",
      "Calculating Mt...\n",
      "Auto mode: Sparsity: 0.012693935119887164\n",
      "Returning a sparse matrix format\n",
      "Calculating Ythat...\n",
      "Sparsity: 0.012693935119887164\n",
      "Finding paths...\n"
     ]
    },
    {
     "name": "stderr",
     "output_type": "stream",
     "text": [
      "\u001b[32mProgress: 100%|█████████████████████████████████████████| Time: 0:00:00\u001b[39m\n"
     ]
    },
    {
     "name": "stdout",
     "output_type": "stream",
     "text": [
      "==========\n",
      "Timestep 15\n",
      "average 0.015524936929943722 of paths currently\n",
      "Calculating Yt...\n",
      "Calculating Mt...\n",
      "Auto mode: Sparsity: 0.007757404795486601\n",
      "Returning a sparse matrix format\n",
      "Calculating Ythat...\n",
      "Sparsity: 0.007757404795486601\n",
      "Finding paths...\n"
     ]
    },
    {
     "name": "stderr",
     "output_type": "stream",
     "text": [
      "\u001b[32mProgress: 100%|█████████████████████████████████████████| Time: 0:00:00\u001b[39m\n"
     ]
    },
    {
     "name": "stdout",
     "output_type": "stream",
     "text": [
      "==========\n",
      "Timestep 16\n",
      "average 0.00038812342324859306 of paths currently\n",
      "Calculating Yt...\n",
      "Calculating Mt...\n",
      "Auto mode: Sparsity: 0.005641748942172073\n",
      "Returning a sparse matrix format\n",
      "Calculating Ythat...\n",
      "Sparsity: 0.005641748942172073\n",
      "Finding paths...\n"
     ]
    },
    {
     "name": "stderr",
     "output_type": "stream",
     "text": [
      "\u001b[32mProgress: 100%|█████████████████████████████████████████| Time: 0:00:00\u001b[39m\n"
     ]
    },
    {
     "name": "stdout",
     "output_type": "stream",
     "text": [
      "==========\n",
      "Timestep 17\n",
      "average 0.0 of paths currently\n",
      "Calculating Yt...\n",
      "Calculating Mt...\n",
      "Auto mode: Sparsity: 4.97333298851558e-7\n",
      "Returning a sparse matrix format\n",
      "Calculating Ythat...\n",
      "Sparsity: 0.0\n",
      "Finding paths...\n"
     ]
    },
    {
     "name": "stderr",
     "output_type": "stream",
     "text": [
      "\u001b[32mProgress: 100%|█████████████████████████████████████████| Time: 0:00:00\u001b[39m\n"
     ]
    },
    {
     "name": "stdout",
     "output_type": "stream",
     "text": [
      "==========\n",
      "Timestep 18\n",
      "average 0.0 of paths currently\n",
      "Calculating Yt...\n",
      "Calculating Mt...\n",
      "Auto mode: Sparsity: 4.97333298851558e-7\n",
      "Returning a sparse matrix format\n",
      "Calculating Ythat...\n",
      "Sparsity: 0.0\n",
      "Finding paths...\n"
     ]
    },
    {
     "name": "stderr",
     "output_type": "stream",
     "text": [
      "\u001b[32mProgress: 100%|█████████████████████████████████████████| Time: 0:00:00\u001b[39m\n"
     ]
    },
    {
     "name": "stdout",
     "output_type": "stream",
     "text": [
      "Evaluating paths...\n",
      "average 4.157772171550553 of paths to evaluate\n"
     ]
    },
    {
     "name": "stderr",
     "output_type": "stream",
     "text": [
      "\u001b[32mProgress: 100%|█████████████████████████████████████████| Time: 0:00:04\u001b[39m\n"
     ]
    },
    {
     "name": "stdout",
     "output_type": "stream",
     "text": [
      " 35.753492 seconds (13.42 M allocations: 10.813 GiB, 4.48% gc time)\n"
     ]
    }
   ],
   "source": [
    "@time res_learn_train = JudiLing.learn_paths(\n",
    "    estonian_train,\n",
    "    estonian_train,\n",
    "    cue_obj_train.C,\n",
    "    S_train,\n",
    "    F_train,\n",
    "    Chat_train,\n",
    "    A,\n",
    "    cue_obj_train.i2f,\n",
    "    cue_obj_train.f2i,\n",
    "    max_t=max_t,\n",
    "    max_can=10,\n",
    "    grams=3,\n",
    "    threshold=0.05,\n",
    "    tokenized=false,\n",
    "    keep_sep=false,\n",
    "    target_col=:Word,\n",
    "    verbose=true);"
   ]
  },
  {
   "cell_type": "code",
   "execution_count": 47,
   "metadata": {},
   "outputs": [
    {
     "name": "stdout",
     "output_type": "stream",
     "text": [
      "Making fac C\n",
      "==========\n",
      "Timestep 1\n",
      "Calculating Yt...\n",
      "Calculating Mt...\n",
      "Auto mode: Sparsity: 0.07334273624823695\n",
      "Returning a sparse matrix format\n",
      "Calculating Ythat...\n",
      "Sparsity: 0.07334273624823695\n",
      "Finding paths...\n"
     ]
    },
    {
     "name": "stderr",
     "output_type": "stream",
     "text": [
      "\u001b[32mProgress: 100%|█████████████████████████████████████████| Time: 0:00:01\u001b[39m\n"
     ]
    },
    {
     "name": "stdout",
     "output_type": "stream",
     "text": [
      "==========\n",
      "Timestep 2\n",
      "average 103.99767080745342 of paths currently\n",
      "Calculating Yt...\n",
      "Calculating Mt...\n",
      "Auto mode: Sparsity: 0.1755994358251058\n",
      "Returning a sparse matrix format\n",
      "Calculating Ythat...\n",
      "Sparsity: 0.1755994358251058\n",
      "Finding paths...\n"
     ]
    },
    {
     "name": "stderr",
     "output_type": "stream",
     "text": [
      "\u001b[32mProgress: 100%|█████████████████████████████████████████| Time: 0:00:03\u001b[39m\n"
     ]
    },
    {
     "name": "stdout",
     "output_type": "stream",
     "text": [
      "==========\n",
      "Timestep 3\n",
      "average 246.97903726708074 of paths currently\n",
      "Calculating Yt...\n",
      "Calculating Mt...\n",
      "Auto mode: Sparsity: 0.2834978843441467\n",
      "Returning a dense matrix format\n",
      "Calculating Ythat...\n",
      "Sparsity: 0.2834978843441467\n",
      "Finding paths...\n"
     ]
    },
    {
     "name": "stderr",
     "output_type": "stream",
     "text": [
      "\u001b[32mProgress: 100%|█████████████████████████████████████████| Time: 0:00:09\u001b[39m\n"
     ]
    },
    {
     "name": "stdout",
     "output_type": "stream",
     "text": [
      "==========\n",
      "Timestep 4\n",
      "average 610.8905279503106 of paths currently\n",
      "Calculating Yt...\n",
      "Calculating Mt...\n",
      "Auto mode: Sparsity: 0.383638928067701\n",
      "Returning a dense matrix format\n",
      "Calculating Ythat...\n",
      "Sparsity: 0.383638928067701\n",
      "Finding paths...\n"
     ]
    },
    {
     "name": "stderr",
     "output_type": "stream",
     "text": [
      "\u001b[32mProgress: 100%|█████████████████████████████████████████| Time: 0:00:00\u001b[39m\n"
     ]
    },
    {
     "name": "stdout",
     "output_type": "stream",
     "text": [
      "==========\n",
      "Timestep 5\n",
      "average 63.97903726708075 of paths currently\n",
      "Calculating Yt...\n",
      "Calculating Mt...\n",
      "Auto mode: Sparsity: 0.32651622002820874\n",
      "Returning a dense matrix format\n",
      "Calculating Ythat...\n",
      "Sparsity: 0.32651622002820874\n",
      "Finding paths...\n"
     ]
    },
    {
     "name": "stderr",
     "output_type": "stream",
     "text": [
      "\u001b[32mProgress: 100%|█████████████████████████████████████████| Time: 0:00:00\u001b[39m\n"
     ]
    },
    {
     "name": "stdout",
     "output_type": "stream",
     "text": [
      "==========\n",
      "Timestep 6\n",
      "average 40.62888198757764 of paths currently\n",
      "Calculating Yt...\n",
      "Calculating Mt...\n",
      "Auto mode: Sparsity: 0.17277856135401976\n",
      "Returning a sparse matrix format\n",
      "Calculating Ythat...\n",
      "Sparsity: 0.17277856135401976\n",
      "Finding paths...\n"
     ]
    },
    {
     "name": "stderr",
     "output_type": "stream",
     "text": [
      "\u001b[32mProgress: 100%|█████████████████████████████████████████| Time: 0:00:00\u001b[39m\n"
     ]
    },
    {
     "name": "stdout",
     "output_type": "stream",
     "text": [
      "==========\n",
      "Timestep 7\n",
      "average 48.495341614906835 of paths currently\n",
      "Calculating Yt...\n",
      "Calculating Mt...\n",
      "Auto mode: Sparsity: 0.12693935119887165\n",
      "Returning a sparse matrix format\n",
      "Calculating Ythat...\n",
      "Sparsity: 0.12693935119887165\n",
      "Finding paths...\n"
     ]
    },
    {
     "name": "stderr",
     "output_type": "stream",
     "text": [
      "\u001b[32mProgress: 100%|█████████████████████████████████████████| Time: 0:00:00\u001b[39m\n"
     ]
    },
    {
     "name": "stdout",
     "output_type": "stream",
     "text": [
      "==========\n",
      "Timestep 8\n",
      "average 58.19642857142857 of paths currently\n",
      "Calculating Yt...\n",
      "Calculating Mt...\n",
      "Auto mode: Sparsity: 0.1156558533145275\n",
      "Returning a sparse matrix format\n",
      "Calculating Ythat...\n",
      "Sparsity: 0.1156558533145275\n",
      "Finding paths...\n"
     ]
    },
    {
     "name": "stderr",
     "output_type": "stream",
     "text": [
      "\u001b[32mProgress: 100%|█████████████████████████████████████████| Time: 0:00:01\u001b[39m\n"
     ]
    },
    {
     "name": "stdout",
     "output_type": "stream",
     "text": [
      "==========\n",
      "Timestep 9\n",
      "average 66.3082298136646 of paths currently\n",
      "Calculating Yt...\n",
      "Calculating Mt...\n",
      "Auto mode: Sparsity: 0.10437235543018336\n",
      "Returning a sparse matrix format\n",
      "Calculating Ythat...\n",
      "Sparsity: 0.10437235543018336\n",
      "Finding paths...\n"
     ]
    },
    {
     "name": "stderr",
     "output_type": "stream",
     "text": [
      "\u001b[32mProgress: 100%|█████████████████████████████████████████| Time: 0:00:00\u001b[39m\n"
     ]
    },
    {
     "name": "stdout",
     "output_type": "stream",
     "text": [
      "==========\n",
      "Timestep 10\n",
      "average 64.55046583850931 of paths currently\n",
      "Calculating Yt...\n",
      "Calculating Mt...\n",
      "Auto mode: Sparsity: 0.06981664315937941\n",
      "Returning a sparse matrix format\n",
      "Calculating Ythat...\n",
      "Sparsity: 0.06981664315937941\n",
      "Finding paths...\n"
     ]
    },
    {
     "name": "stderr",
     "output_type": "stream",
     "text": [
      "\u001b[32mProgress: 100%|█████████████████████████████████████████| Time: 0:00:00\u001b[39m\n"
     ]
    },
    {
     "name": "stdout",
     "output_type": "stream",
     "text": [
      "==========\n",
      "Timestep 11\n",
      "average 43.65139751552795 of paths currently\n",
      "Calculating Yt...\n",
      "Calculating Mt...\n",
      "Auto mode: Sparsity: 0.05571227080394922\n",
      "Returning a sparse matrix format\n",
      "Calculating Ythat...\n",
      "Sparsity: 0.05571227080394922\n",
      "Finding paths...\n"
     ]
    },
    {
     "name": "stderr",
     "output_type": "stream",
     "text": [
      "\u001b[32mProgress: 100%|█████████████████████████████████████████| Time: 0:00:00\u001b[39m\n"
     ]
    },
    {
     "name": "stdout",
     "output_type": "stream",
     "text": [
      "==========\n",
      "Timestep 12\n",
      "average 28.559782608695652 of paths currently\n",
      "Calculating Yt...\n",
      "Calculating Mt...\n",
      "Auto mode: Sparsity: 0.04231311706629055\n",
      "Returning a sparse matrix format\n",
      "Calculating Ythat...\n",
      "Sparsity: 0.04231311706629055\n",
      "Finding paths...\n"
     ]
    },
    {
     "name": "stderr",
     "output_type": "stream",
     "text": [
      "\u001b[32mProgress: 100%|█████████████████████████████████████████| Time: 0:00:00\u001b[39m\n"
     ]
    },
    {
     "name": "stdout",
     "output_type": "stream",
     "text": [
      "==========\n",
      "Timestep 13\n",
      "average 16.581521739130434 of paths currently\n",
      "Calculating Yt...\n",
      "Calculating Mt...\n",
      "Auto mode: Sparsity: 0.02538787023977433\n",
      "Returning a sparse matrix format\n",
      "Calculating Ythat...\n",
      "Sparsity: 0.02538787023977433\n",
      "Finding paths...\n"
     ]
    },
    {
     "name": "stderr",
     "output_type": "stream",
     "text": [
      "\u001b[32mProgress: 100%|█████████████████████████████████████████| Time: 0:00:00\u001b[39m\n"
     ]
    },
    {
     "name": "stdout",
     "output_type": "stream",
     "text": [
      "==========\n",
      "Timestep 14\n",
      "average 9.362577639751553 of paths currently\n",
      "Calculating Yt...\n",
      "Calculating Mt...\n",
      "Auto mode: Sparsity: 0.012693935119887164\n",
      "Returning a sparse matrix format\n",
      "Calculating Ythat...\n",
      "Sparsity: 0.012693935119887164\n",
      "Finding paths...\n"
     ]
    },
    {
     "name": "stderr",
     "output_type": "stream",
     "text": [
      "\u001b[32mProgress: 100%|█████████████████████████████████████████| Time: 0:00:00\u001b[39m\n"
     ]
    },
    {
     "name": "stdout",
     "output_type": "stream",
     "text": [
      "==========\n",
      "Timestep 15\n",
      "average 5.71972049689441 of paths currently\n",
      "Calculating Yt...\n",
      "Calculating Mt...\n",
      "Auto mode: Sparsity: 0.007757404795486601\n",
      "Returning a sparse matrix format\n",
      "Calculating Ythat...\n",
      "Sparsity: 0.007757404795486601\n",
      "Finding paths...\n",
      "==========\n",
      "Timestep 16\n",
      "average 1.9821428571428572 of paths currently\n",
      "Calculating Yt...\n",
      "Calculating Mt...\n",
      "Auto mode: Sparsity: 0.005641748942172073\n",
      "Returning a sparse matrix format\n",
      "Calculating Ythat...\n",
      "Sparsity: 0.005641748942172073\n",
      "Finding paths...\n",
      "==========\n",
      "Timestep 17\n",
      "average 0.5551242236024845 of paths currently\n",
      "Calculating Yt...\n",
      "Calculating Mt...\n",
      "Auto mode: Sparsity: 4.97333298851558e-7\n",
      "Returning a sparse matrix format\n",
      "Calculating Ythat...\n",
      "Sparsity: 0.0\n",
      "Finding paths...\n",
      "==========\n",
      "Timestep 18\n",
      "average 0.12111801242236025 of paths currently\n",
      "Calculating Yt...\n",
      "Calculating Mt...\n",
      "Auto mode: Sparsity: 4.97333298851558e-7\n",
      "Returning a sparse matrix format\n",
      "Calculating Ythat...\n",
      "Sparsity: 0.0\n",
      "Finding paths...\n",
      "Evaluating paths...\n",
      "average 209.85170807453417 of paths to evaluate\n"
     ]
    },
    {
     "name": "stderr",
     "output_type": "stream",
     "text": [
      "\u001b[32mProgress: 100%|█████████████████████████████████████████| Time: 0:00:36\u001b[39m\n"
     ]
    },
    {
     "name": "stdout",
     "output_type": "stream",
     "text": [
      " 66.813921 seconds (66.64 M allocations: 34.088 GiB, 6.60% gc time)\n"
     ]
    }
   ],
   "source": [
    "@time res_learn_val = JudiLing.learn_paths(\n",
    "    estonian_train,\n",
    "    estonian_val,\n",
    "    cue_obj_train.C,\n",
    "    S_val,\n",
    "    F_train,\n",
    "    Chat_val,\n",
    "    A,\n",
    "    cue_obj_train.i2f,\n",
    "    cue_obj_train.f2i,\n",
    "    max_t=max_t,\n",
    "    max_can=10,\n",
    "    grams=3,\n",
    "    threshold=0.05,\n",
    "    is_tolerant=true,\n",
    "    tolerance=-0.1,\n",
    "    max_tolerance=3,\n",
    "    tokenized=false,\n",
    "    keep_sep=false,\n",
    "    target_col=:Word,\n",
    "    verbose=true);"
   ]
  },
  {
   "cell_type": "code",
   "execution_count": 48,
   "metadata": {},
   "outputs": [
    {
     "name": "stdout",
     "output_type": "stream",
     "text": [
      "acc_learn_train = 0.9881622355909179\n",
      "acc_learn_val = 0.8027950310559007\n"
     ]
    }
   ],
   "source": [
    "acc_learn_train = JudiLing.eval_acc(\n",
    "  res_learn_train,\n",
    "  cue_obj_train.gold_ind,\n",
    "  verbose=false\n",
    ")\n",
    "\n",
    "acc_learn_val = JudiLing.eval_acc(\n",
    "  res_learn_val,\n",
    "  cue_obj_val.gold_ind,\n",
    "  verbose=false\n",
    ")\n",
    "\n",
    "@show acc_learn_train\n",
    "@show acc_learn_val\n",
    ";"
   ]
  },
  {
   "cell_type": "code",
   "execution_count": 51,
   "metadata": {},
   "outputs": [],
   "source": [
    "A = JudiLing.make_combined_adjacency_matrix(\n",
    "    estonian_train[:,[:Word]],\n",
    "    estonian_val[:,[:Word]],\n",
    "    grams=3,\n",
    "    target_col=:Word,\n",
    "    tokenized=false,\n",
    "    keep_sep=false\n",
    "    );"
   ]
  },
  {
   "cell_type": "code",
   "execution_count": 52,
   "metadata": {},
   "outputs": [
    {
     "name": "stdout",
     "output_type": "stream",
     "text": [
      "Making fac C\n",
      "==========\n",
      "Timestep 1\n",
      "Calculating Yt...\n",
      "Calculating Mt...\n",
      "Auto mode: Sparsity: 0.07334273624823695\n",
      "Returning a sparse matrix format\n",
      "Calculating Ythat...\n",
      "Sparsity: 0.07334273624823695\n",
      "Finding paths...\n"
     ]
    },
    {
     "name": "stderr",
     "output_type": "stream",
     "text": [
      "\u001b[32mProgress: 100%|█████████████████████████████████████████| Time: 0:00:01\u001b[39m\n"
     ]
    },
    {
     "name": "stdout",
     "output_type": "stream",
     "text": [
      "==========\n",
      "Timestep 2\n",
      "average 103.99767080745342 of paths currently\n",
      "Calculating Yt...\n",
      "Calculating Mt...\n",
      "Auto mode: Sparsity: 0.1755994358251058\n",
      "Returning a sparse matrix format\n",
      "Calculating Ythat...\n",
      "Sparsity: 0.1755994358251058\n",
      "Finding paths...\n"
     ]
    },
    {
     "name": "stderr",
     "output_type": "stream",
     "text": [
      "\u001b[32mProgress: 100%|█████████████████████████████████████████| Time: 0:00:03\u001b[39m\n"
     ]
    },
    {
     "name": "stdout",
     "output_type": "stream",
     "text": [
      "==========\n",
      "Timestep 3\n",
      "average 246.97903726708074 of paths currently\n",
      "Calculating Yt...\n",
      "Calculating Mt...\n",
      "Auto mode: Sparsity: 0.2834978843441467\n",
      "Returning a dense matrix format\n",
      "Calculating Ythat...\n",
      "Sparsity: 0.2834978843441467\n",
      "Finding paths...\n"
     ]
    },
    {
     "name": "stderr",
     "output_type": "stream",
     "text": [
      "\u001b[32mProgress: 100%|█████████████████████████████████████████| Time: 0:00:09\u001b[39m\n"
     ]
    },
    {
     "name": "stdout",
     "output_type": "stream",
     "text": [
      "==========\n",
      "Timestep 4\n",
      "average 621.8905279503106 of paths currently\n",
      "Calculating Yt...\n",
      "Calculating Mt...\n",
      "Auto mode: Sparsity: 0.383638928067701\n",
      "Returning a dense matrix format\n",
      "Calculating Ythat...\n",
      "Sparsity: 0.383638928067701\n",
      "Finding paths...\n"
     ]
    },
    {
     "name": "stderr",
     "output_type": "stream",
     "text": [
      "\u001b[32mProgress: 100%|█████████████████████████████████████████| Time: 0:00:00\u001b[39m\n"
     ]
    },
    {
     "name": "stdout",
     "output_type": "stream",
     "text": [
      "==========\n",
      "Timestep 5\n",
      "average 66.46894409937889 of paths currently\n",
      "Calculating Yt...\n",
      "Calculating Mt...\n",
      "Auto mode: Sparsity: 0.32651622002820874\n",
      "Returning a dense matrix format\n",
      "Calculating Ythat...\n",
      "Sparsity: 0.32651622002820874\n",
      "Finding paths...\n"
     ]
    },
    {
     "name": "stderr",
     "output_type": "stream",
     "text": [
      "\u001b[32mProgress: 100%|█████████████████████████████████████████| Time: 0:00:00\u001b[39m\n"
     ]
    },
    {
     "name": "stdout",
     "output_type": "stream",
     "text": [
      "==========\n",
      "Timestep 6\n",
      "average 43.28105590062112 of paths currently\n",
      "Calculating Yt...\n",
      "Calculating Mt...\n",
      "Auto mode: Sparsity: 0.17277856135401976\n",
      "Returning a sparse matrix format\n",
      "Calculating Ythat...\n",
      "Sparsity: 0.17277856135401976\n",
      "Finding paths...\n"
     ]
    },
    {
     "name": "stderr",
     "output_type": "stream",
     "text": [
      "\u001b[32mProgress: 100%|█████████████████████████████████████████| Time: 0:00:00\u001b[39m\n"
     ]
    },
    {
     "name": "stdout",
     "output_type": "stream",
     "text": [
      "==========\n",
      "Timestep 7\n",
      "average 52.12267080745342 of paths currently\n",
      "Calculating Yt...\n",
      "Calculating Mt...\n",
      "Auto mode: Sparsity: 0.12693935119887165\n",
      "Returning a sparse matrix format\n",
      "Calculating Ythat...\n",
      "Sparsity: 0.12693935119887165\n",
      "Finding paths...\n"
     ]
    },
    {
     "name": "stderr",
     "output_type": "stream",
     "text": [
      "\u001b[32mProgress: 100%|█████████████████████████████████████████| Time: 0:00:01\u001b[39m\n"
     ]
    },
    {
     "name": "stdout",
     "output_type": "stream",
     "text": [
      "==========\n",
      "Timestep 8\n",
      "average 62.60170807453416 of paths currently\n",
      "Calculating Yt...\n",
      "Calculating Mt...\n",
      "Auto mode: Sparsity: 0.1156558533145275\n",
      "Returning a sparse matrix format\n",
      "Calculating Ythat...\n",
      "Sparsity: 0.1156558533145275\n",
      "Finding paths...\n"
     ]
    },
    {
     "name": "stderr",
     "output_type": "stream",
     "text": [
      "\u001b[32mProgress: 100%|█████████████████████████████████████████| Time: 0:00:01\u001b[39m\n"
     ]
    },
    {
     "name": "stdout",
     "output_type": "stream",
     "text": [
      "==========\n",
      "Timestep 9\n",
      "average 70.77096273291926 of paths currently\n",
      "Calculating Yt...\n",
      "Calculating Mt...\n",
      "Auto mode: Sparsity: 0.10437235543018336\n",
      "Returning a sparse matrix format\n",
      "Calculating Ythat...\n",
      "Sparsity: 0.10437235543018336\n",
      "Finding paths...\n"
     ]
    },
    {
     "name": "stderr",
     "output_type": "stream",
     "text": [
      "\u001b[32mProgress: 100%|█████████████████████████████████████████| Time: 0:00:01\u001b[39m\n"
     ]
    },
    {
     "name": "stdout",
     "output_type": "stream",
     "text": [
      "==========\n",
      "Timestep 10\n",
      "average 68.18711180124224 of paths currently\n",
      "Calculating Yt...\n",
      "Calculating Mt...\n",
      "Auto mode: Sparsity: 0.06981664315937941\n",
      "Returning a sparse matrix format\n",
      "Calculating Ythat...\n",
      "Sparsity: 0.06981664315937941\n",
      "Finding paths...\n"
     ]
    },
    {
     "name": "stderr",
     "output_type": "stream",
     "text": [
      "\u001b[32mProgress: 100%|█████████████████████████████████████████| Time: 0:00:01\u001b[39m\n"
     ]
    },
    {
     "name": "stdout",
     "output_type": "stream",
     "text": [
      "==========\n",
      "Timestep 11\n",
      "average 46.44565217391305 of paths currently\n",
      "Calculating Yt...\n",
      "Calculating Mt...\n",
      "Auto mode: Sparsity: 0.05571227080394922\n",
      "Returning a sparse matrix format\n",
      "Calculating Ythat...\n",
      "Sparsity: 0.05571227080394922\n",
      "Finding paths...\n"
     ]
    },
    {
     "name": "stderr",
     "output_type": "stream",
     "text": [
      "\u001b[32mProgress: 100%|█████████████████████████████████████████| Time: 0:00:00\u001b[39m\n"
     ]
    },
    {
     "name": "stdout",
     "output_type": "stream",
     "text": [
      "==========\n",
      "Timestep 12\n",
      "average 29.918478260869566 of paths currently\n",
      "Calculating Yt...\n",
      "Calculating Mt...\n",
      "Auto mode: Sparsity: 0.04231311706629055\n",
      "Returning a sparse matrix format\n",
      "Calculating Ythat...\n",
      "Sparsity: 0.04231311706629055\n",
      "Finding paths...\n"
     ]
    },
    {
     "name": "stderr",
     "output_type": "stream",
     "text": [
      "\u001b[32mProgress: 100%|█████████████████████████████████████████| Time: 0:00:00\u001b[39m\n"
     ]
    },
    {
     "name": "stdout",
     "output_type": "stream",
     "text": [
      "==========\n",
      "Timestep 13\n",
      "average 17.365683229813666 of paths currently\n",
      "Calculating Yt...\n",
      "Calculating Mt...\n",
      "Auto mode: Sparsity: 0.02538787023977433\n",
      "Returning a sparse matrix format\n",
      "Calculating Ythat...\n",
      "Sparsity: 0.02538787023977433\n",
      "Finding paths...\n"
     ]
    },
    {
     "name": "stderr",
     "output_type": "stream",
     "text": [
      "\u001b[32mProgress: 100%|█████████████████████████████████████████| Time: 0:00:00\u001b[39m\n"
     ]
    },
    {
     "name": "stdout",
     "output_type": "stream",
     "text": [
      "==========\n",
      "Timestep 14\n",
      "average 9.796583850931677 of paths currently\n",
      "Calculating Yt...\n",
      "Calculating Mt...\n",
      "Auto mode: Sparsity: 0.012693935119887164\n",
      "Returning a sparse matrix format\n",
      "Calculating Ythat...\n",
      "Sparsity: 0.012693935119887164\n",
      "Finding paths...\n"
     ]
    },
    {
     "name": "stderr",
     "output_type": "stream",
     "text": [
      "\u001b[32mProgress: 100%|█████████████████████████████████████████| Time: 0:00:00\u001b[39m\n"
     ]
    },
    {
     "name": "stdout",
     "output_type": "stream",
     "text": [
      "==========\n",
      "Timestep 15\n",
      "average 6.008540372670807 of paths currently\n",
      "Calculating Yt...\n",
      "Calculating Mt...\n",
      "Auto mode: Sparsity: 0.007757404795486601\n",
      "Returning a sparse matrix format\n",
      "Calculating Ythat...\n",
      "Sparsity: 0.007757404795486601\n",
      "Finding paths...\n",
      "==========\n",
      "Timestep 16\n",
      "average 2.073757763975155 of paths currently\n",
      "Calculating Yt...\n",
      "Calculating Mt...\n",
      "Auto mode: Sparsity: 0.005641748942172073\n",
      "Returning a sparse matrix format\n",
      "Calculating Ythat...\n",
      "Sparsity: 0.005641748942172073\n",
      "Finding paths...\n",
      "==========\n",
      "Timestep 17\n",
      "average 0.5768633540372671 of paths currently\n",
      "Calculating Yt...\n",
      "Calculating Mt...\n",
      "Auto mode: Sparsity: 4.97333298851558e-7\n",
      "Returning a sparse matrix format\n",
      "Calculating Ythat...\n",
      "Sparsity: 0.0\n",
      "Finding paths...\n",
      "==========\n",
      "Timestep 18\n",
      "average 0.12732919254658384 of paths currently\n",
      "Calculating Yt...\n",
      "Calculating Mt...\n",
      "Auto mode: Sparsity: 4.97333298851558e-7\n",
      "Returning a sparse matrix format\n",
      "Calculating Ythat...\n",
      "Sparsity: 0.0\n",
      "Finding paths...\n",
      "Evaluating paths...\n",
      "average 218.13509316770185 of paths to evaluate\n"
     ]
    },
    {
     "name": "stderr",
     "output_type": "stream",
     "text": [
      "\u001b[32mProgress: 100%|█████████████████████████████████████████| Time: 0:00:38\u001b[39m\n"
     ]
    },
    {
     "name": "stdout",
     "output_type": "stream",
     "text": [
      " 71.975897 seconds (67.68 M allocations: 35.242 GiB, 6.32% gc time)\n",
      "acc_learn_val = 0.9013975155279503\n"
     ]
    }
   ],
   "source": [
    "@time res_learn_val = JudiLing.learn_paths(\n",
    "    estonian_train,\n",
    "    estonian_val,\n",
    "    cue_obj_train.C,\n",
    "    S_val,\n",
    "    F_train,\n",
    "    Chat_val,\n",
    "    A,\n",
    "    cue_obj_train.i2f,\n",
    "    cue_obj_train.f2i,\n",
    "    max_t=max_t,\n",
    "    max_can=10,\n",
    "    grams=3,\n",
    "    threshold=0.05,\n",
    "    is_tolerant=true,\n",
    "    tolerance=-0.1,\n",
    "    max_tolerance=3,\n",
    "    tokenized=false,\n",
    "    keep_sep=false,\n",
    "    target_col=:Word,\n",
    "    verbose=true)\n",
    "\n",
    "acc_learn_val = JudiLing.eval_acc(\n",
    "  res_learn_val,\n",
    "  cue_obj_val.gold_ind,\n",
    "  verbose=false\n",
    ")\n",
    "\n",
    "@show acc_learn_val\n",
    ";"
   ]
  },
  {
   "cell_type": "code",
   "execution_count": 53,
   "metadata": {},
   "outputs": [
    {
     "name": "stdout",
     "output_type": "stream",
     "text": [
      "Finding all top features..\n",
      "finding all n_neighbors features...\n"
     ]
    },
    {
     "name": "stderr",
     "output_type": "stream",
     "text": [
      "\u001b[32mProgress: 100%|█████████████████████████████████████████| Time: 0:00:02\u001b[39m\n"
     ]
    },
    {
     "name": "stdout",
     "output_type": "stream",
     "text": [
      "Finding paths...\n"
     ]
    },
    {
     "name": "stderr",
     "output_type": "stream",
     "text": [
      "\u001b[32mProgress: 100%|█████████████████████████████████████████| Time: 0:00:00\u001b[39m\n"
     ]
    },
    {
     "name": "stdout",
     "output_type": "stream",
     "text": [
      "Evaluating paths...\n",
      "average 4.272850766543761 of paths to evaluate\n"
     ]
    },
    {
     "name": "stderr",
     "output_type": "stream",
     "text": [
      "\u001b[32mProgress: 100%|█████████████████████████████████████████| Time: 0:00:03\u001b[39m\n"
     ]
    },
    {
     "name": "stdout",
     "output_type": "stream",
     "text": [
      "  7.180390 seconds (2.93 M allocations: 4.582 GiB, 12.90% gc time)\n",
      "Finding all top features..\n",
      "finding all n_neighbors features...\n"
     ]
    },
    {
     "name": "stderr",
     "output_type": "stream",
     "text": [
      "\u001b[32mProgress: 100%|█████████████████████████████████████████| Time: 0:00:00\u001b[39m\n"
     ]
    },
    {
     "name": "stdout",
     "output_type": "stream",
     "text": [
      "Finding paths...\n"
     ]
    },
    {
     "name": "stderr",
     "output_type": "stream",
     "text": [
      "\u001b[32mProgress: 100%|█████████████████████████████████████████| Time: 0:00:00\u001b[39m\n"
     ]
    },
    {
     "name": "stdout",
     "output_type": "stream",
     "text": [
      "Evaluating paths...\n",
      "average 119.5194099378882 of paths to evaluate\n"
     ]
    },
    {
     "name": "stderr",
     "output_type": "stream",
     "text": [
      "\u001b[32mProgress: 100%|█████████████████████████████████████████| Time: 0:00:25\u001b[39m\n"
     ]
    },
    {
     "name": "stdout",
     "output_type": "stream",
     "text": [
      " 26.838898 seconds (9.10 M allocations: 27.607 GiB, 9.21% gc time)\n"
     ]
    }
   ],
   "source": [
    "@time res_build_train = JudiLing.build_paths(\n",
    "    estonian_train,\n",
    "    cue_obj_train.C,\n",
    "    S_train,\n",
    "    F_train,\n",
    "    Chat_train,\n",
    "    A,\n",
    "    cue_obj_train.i2f,\n",
    "    cue_obj_train.gold_ind,\n",
    "    max_t=max_t,\n",
    "    n_neighbors=3,\n",
    "    verbose=true\n",
    "    )\n",
    "\n",
    "@time res_build_val = JudiLing.build_paths(\n",
    "    estonian_val,\n",
    "    cue_obj_train.C,\n",
    "    S_val,\n",
    "    F_train,\n",
    "    Chat_val,\n",
    "    A,\n",
    "    cue_obj_train.i2f,\n",
    "    cue_obj_train.gold_ind,\n",
    "    max_t=max_t,\n",
    "    n_neighbors=20,\n",
    "    verbose=true\n",
    "    );"
   ]
  },
  {
   "cell_type": "code",
   "execution_count": 54,
   "metadata": {},
   "outputs": [
    {
     "name": "stdout",
     "output_type": "stream",
     "text": [
      "acc_build_train = 0.9749660392004658\n",
      "acc_build_val = 0.406055900621118\n"
     ]
    }
   ],
   "source": [
    "acc_build_train = JudiLing.eval_acc(\n",
    "  res_build_train,\n",
    "  cue_obj_train.gold_ind,\n",
    "  verbose=false\n",
    ")\n",
    "\n",
    "acc_build_val = JudiLing.eval_acc(\n",
    "  res_build_val,\n",
    "  cue_obj_val.gold_ind,\n",
    "  verbose=false\n",
    ")\n",
    "\n",
    "@show acc_build_train\n",
    "@show acc_build_val\n",
    ";"
   ]
  },
  {
   "cell_type": "code",
   "execution_count": 55,
   "metadata": {},
   "outputs": [
    {
     "name": "stdout",
     "output_type": "stream",
     "text": [
      "making adjacency matrix...\n",
      "Making S matrix...\n",
      "Auto mode: Sparsity: 1.0\n",
      "Returning a dense matrix format\n",
      "Auto mode: Sparsity: 1.0\n",
      "Returning a dense matrix format\n",
      "Making fac C\n",
      "==========\n",
      "Timestep 1\n",
      "Calculating Yt...\n",
      "Calculating Mt...\n",
      "Auto mode: Sparsity: 0.07334273624823695\n",
      "Returning a dense matrix format\n",
      "Calculating Ythat...\n",
      "Sparsity: 0.07334273624823695\n",
      "Finding paths...\n"
     ]
    },
    {
     "name": "stderr",
     "output_type": "stream",
     "text": [
      "\u001b[32mProgress: 100%|█████████████████████████████████████████| Time: 0:00:00\u001b[39m\n"
     ]
    },
    {
     "name": "stdout",
     "output_type": "stream",
     "text": [
      "==========\n",
      "Timestep 2\n",
      "average 1.0397826508829808 of paths currently\n",
      "Calculating Yt...\n",
      "Calculating Mt...\n",
      "Auto mode: Sparsity: 0.1755994358251058\n",
      "Returning a dense matrix format\n",
      "Calculating Ythat...\n",
      "Sparsity: 0.1755994358251058\n",
      "Finding paths...\n"
     ]
    },
    {
     "name": "stderr",
     "output_type": "stream",
     "text": [
      "\u001b[32mProgress: 100%|█████████████████████████████████████████| Time: 0:00:00\u001b[39m\n"
     ]
    },
    {
     "name": "stdout",
     "output_type": "stream",
     "text": [
      "==========\n",
      "Timestep 3\n",
      "average 1.1538909373180672 of paths currently\n",
      "Calculating Yt...\n",
      "Calculating Mt...\n",
      "Auto mode: Sparsity: 0.2834978843441467\n",
      "Returning a dense matrix format\n",
      "Calculating Ythat...\n",
      "Sparsity: 0.2834978843441467\n",
      "Finding paths...\n"
     ]
    },
    {
     "name": "stderr",
     "output_type": "stream",
     "text": [
      "\u001b[32mProgress: 100%|█████████████████████████████████████████| Time: 0:00:00\u001b[39m\n"
     ]
    },
    {
     "name": "stdout",
     "output_type": "stream",
     "text": [
      "==========\n",
      "Timestep 4\n",
      "average 1.5623908402872113 of paths currently\n",
      "Calculating Yt...\n",
      "Calculating Mt...\n",
      "Auto mode: Sparsity: 0.383638928067701\n",
      "Returning a dense matrix format\n",
      "Calculating Ythat...\n",
      "Sparsity: 0.383638928067701\n",
      "Finding paths...\n"
     ]
    },
    {
     "name": "stderr",
     "output_type": "stream",
     "text": [
      "\u001b[32mProgress: 100%|█████████████████████████████████████████| Time: 0:00:00\u001b[39m\n"
     ]
    },
    {
     "name": "stdout",
     "output_type": "stream",
     "text": [
      "==========\n",
      "Timestep 5\n",
      "average 1.9454686590335726 of paths currently\n",
      "Calculating Yt...\n",
      "Calculating Mt...\n",
      "Auto mode: Sparsity: 0.32651622002820874\n",
      "Returning a dense matrix format\n",
      "Calculating Ythat...\n",
      "Sparsity: 0.32651622002820874\n",
      "Finding paths...\n"
     ]
    },
    {
     "name": "stderr",
     "output_type": "stream",
     "text": [
      "\u001b[32mProgress: 100%|█████████████████████████████████████████| Time: 0:00:00\u001b[39m\n"
     ]
    },
    {
     "name": "stdout",
     "output_type": "stream",
     "text": [
      "==========\n",
      "Timestep 6\n",
      "average 2.5620027168639625 of paths currently\n",
      "Calculating Yt...\n",
      "Calculating Mt...\n",
      "Auto mode: Sparsity: 0.17277856135401976\n",
      "Returning a dense matrix format\n",
      "Calculating Ythat...\n",
      "Sparsity: 0.17277856135401976\n",
      "Finding paths...\n"
     ]
    },
    {
     "name": "stderr",
     "output_type": "stream",
     "text": [
      "\u001b[32mProgress: 100%|█████████████████████████████████████████| Time: 0:00:00\u001b[39m\n"
     ]
    },
    {
     "name": "stdout",
     "output_type": "stream",
     "text": [
      "==========\n",
      "Timestep 7\n",
      "average 2.792548030273627 of paths currently\n",
      "Calculating Yt...\n",
      "Calculating Mt...\n",
      "Auto mode: Sparsity: 0.12693935119887165\n",
      "Returning a dense matrix format\n",
      "Calculating Ythat...\n",
      "Sparsity: 0.12693935119887165\n",
      "Finding paths...\n"
     ]
    },
    {
     "name": "stderr",
     "output_type": "stream",
     "text": [
      "\u001b[32mProgress: 100%|█████████████████████████████████████████| Time: 0:00:00\u001b[39m\n"
     ]
    },
    {
     "name": "stdout",
     "output_type": "stream",
     "text": [
      "==========\n",
      "Timestep 8\n",
      "average 2.3378614399379 of paths currently\n",
      "Calculating Yt...\n",
      "Calculating Mt...\n",
      "Auto mode: Sparsity: 0.1156558533145275\n",
      "Returning a dense matrix format\n",
      "Calculating Ythat...\n",
      "Sparsity: 0.1156558533145275\n",
      "Finding paths...\n"
     ]
    },
    {
     "name": "stderr",
     "output_type": "stream",
     "text": [
      "\u001b[32mProgress: 100%|█████████████████████████████████████████| Time: 0:00:00\u001b[39m\n"
     ]
    },
    {
     "name": "stdout",
     "output_type": "stream",
     "text": [
      "==========\n",
      "Timestep 9\n",
      "average 1.706772753735688 of paths currently\n",
      "Calculating Yt...\n",
      "Calculating Mt...\n",
      "Auto mode: Sparsity: 0.10437235543018336\n",
      "Returning a dense matrix format\n",
      "Calculating Ythat...\n",
      "Sparsity: 0.10437235543018336\n",
      "Finding paths...\n"
     ]
    },
    {
     "name": "stderr",
     "output_type": "stream",
     "text": [
      "\u001b[32mProgress: 100%|█████████████████████████████████████████| Time: 0:00:00\u001b[39m\n"
     ]
    },
    {
     "name": "stdout",
     "output_type": "stream",
     "text": [
      "==========\n",
      "Timestep 10\n",
      "average 1.0075684067533475 of paths currently\n",
      "Calculating Yt...\n",
      "Calculating Mt...\n",
      "Auto mode: Sparsity: 0.06981664315937941\n",
      "Returning a dense matrix format\n",
      "Calculating Ythat...\n",
      "Sparsity: 0.06981664315937941\n",
      "Finding paths...\n"
     ]
    },
    {
     "name": "stderr",
     "output_type": "stream",
     "text": [
      "\u001b[32mProgress: 100%|█████████████████████████████████████████| Time: 0:00:00\u001b[39m\n"
     ]
    },
    {
     "name": "stdout",
     "output_type": "stream",
     "text": [
      "==========\n",
      "Timestep 11\n",
      "average 0.5216378808461091 of paths currently\n",
      "Calculating Yt...\n",
      "Calculating Mt...\n",
      "Auto mode: Sparsity: 0.05571227080394922\n",
      "Returning a dense matrix format\n",
      "Calculating Ythat...\n",
      "Sparsity: 0.05571227080394922\n",
      "Finding paths...\n"
     ]
    },
    {
     "name": "stderr",
     "output_type": "stream",
     "text": [
      "\u001b[32mProgress: 100%|█████████████████████████████████████████| Time: 0:00:00\u001b[39m\n"
     ]
    },
    {
     "name": "stdout",
     "output_type": "stream",
     "text": [
      "==========\n",
      "Timestep 12\n",
      "average 0.3413545507471376 of paths currently\n",
      "Calculating Yt...\n",
      "Calculating Mt...\n",
      "Auto mode: Sparsity: 0.04231311706629055\n",
      "Returning a sparse matrix format\n",
      "Calculating Ythat...\n",
      "Sparsity: 0.04231311706629055\n",
      "Finding paths...\n"
     ]
    },
    {
     "name": "stderr",
     "output_type": "stream",
     "text": [
      "\u001b[32mProgress: 100%|█████████████████████████████████████████| Time: 0:00:00\u001b[39m\n"
     ]
    },
    {
     "name": "stdout",
     "output_type": "stream",
     "text": [
      "==========\n",
      "Timestep 13\n",
      "average 0.16301183776440908 of paths currently\n",
      "Calculating Yt...\n",
      "Calculating Mt...\n",
      "Auto mode: Sparsity: 0.02538787023977433\n",
      "Returning a sparse matrix format\n",
      "Calculating Ythat...\n",
      "Sparsity: 0.02538787023977433\n",
      "Finding paths...\n"
     ]
    },
    {
     "name": "stderr",
     "output_type": "stream",
     "text": [
      "\u001b[32mProgress: 100%|█████████████████████████████████████████| Time: 0:00:00\u001b[39m\n"
     ]
    },
    {
     "name": "stdout",
     "output_type": "stream",
     "text": [
      "==========\n",
      "Timestep 14\n",
      "average 0.05414321754317873 of paths currently\n",
      "Calculating Yt...\n",
      "Calculating Mt...\n",
      "Auto mode: Sparsity: 0.012693935119887164\n",
      "Returning a sparse matrix format\n",
      "Calculating Ythat...\n",
      "Sparsity: 0.012693935119887164\n",
      "Finding paths...\n"
     ]
    },
    {
     "name": "stderr",
     "output_type": "stream",
     "text": [
      "\u001b[32mProgress: 100%|█████████████████████████████████████████| Time: 0:00:00\u001b[39m\n"
     ]
    },
    {
     "name": "stdout",
     "output_type": "stream",
     "text": [
      "==========\n",
      "Timestep 15\n",
      "average 0.016495245488065205 of paths currently\n",
      "Calculating Yt...\n",
      "Calculating Mt...\n",
      "Auto mode: Sparsity: 0.007757404795486601\n",
      "Returning a sparse matrix format\n",
      "Calculating Ythat...\n",
      "Sparsity: 0.007757404795486601\n",
      "Finding paths...\n"
     ]
    },
    {
     "name": "stderr",
     "output_type": "stream",
     "text": [
      "\u001b[32mProgress: 100%|█████████████████████████████████████████| Time: 0:00:00\u001b[39m\n"
     ]
    },
    {
     "name": "stdout",
     "output_type": "stream",
     "text": [
      "==========\n",
      "Timestep 16\n",
      "average 0.00038812342324859306 of paths currently\n",
      "Calculating Yt...\n",
      "Calculating Mt...\n",
      "Auto mode: Sparsity: 0.005641748942172073\n",
      "Returning a sparse matrix format\n",
      "Calculating Ythat...\n",
      "Sparsity: 0.005641748942172073\n",
      "Finding paths...\n"
     ]
    },
    {
     "name": "stderr",
     "output_type": "stream",
     "text": [
      "\u001b[32mProgress: 100%|█████████████████████████████████████████| Time: 0:00:00\u001b[39m\n"
     ]
    },
    {
     "name": "stdout",
     "output_type": "stream",
     "text": [
      "==========\n",
      "Timestep 17\n",
      "average 0.0 of paths currently\n",
      "Calculating Yt...\n",
      "Calculating Mt...\n",
      "Auto mode: Sparsity: 4.97333298851558e-7\n",
      "Returning a sparse matrix format\n",
      "Calculating Ythat...\n",
      "Sparsity: 0.0\n",
      "Finding paths...\n"
     ]
    },
    {
     "name": "stderr",
     "output_type": "stream",
     "text": [
      "\u001b[32mProgress: 100%|█████████████████████████████████████████| Time: 0:00:00\u001b[39m\n"
     ]
    },
    {
     "name": "stdout",
     "output_type": "stream",
     "text": [
      "==========\n",
      "Timestep 18\n",
      "average 0.0 of paths currently\n",
      "Calculating Yt...\n",
      "Calculating Mt...\n",
      "Auto mode: Sparsity: 4.97333298851558e-7\n",
      "Returning a sparse matrix format\n",
      "Calculating Ythat...\n",
      "Sparsity: 0.0\n",
      "Finding paths...\n"
     ]
    },
    {
     "name": "stderr",
     "output_type": "stream",
     "text": [
      "\u001b[32mProgress: 100%|█████████████████████████████████████████| Time: 0:00:00\u001b[39m\n"
     ]
    },
    {
     "name": "stdout",
     "output_type": "stream",
     "text": [
      "Evaluating paths...\n",
      "average 4.225887832330681 of paths to evaluate\n"
     ]
    },
    {
     "name": "stderr",
     "output_type": "stream",
     "text": [
      "\u001b[32mProgress: 100%|█████████████████████████████████████████| Time: 0:00:03\u001b[39m\n"
     ]
    },
    {
     "name": "stdout",
     "output_type": "stream",
     "text": [
      "Making fac C\n",
      "==========\n",
      "Timestep 1\n",
      "Calculating Yt...\n",
      "Calculating Mt...\n",
      "Auto mode: Sparsity: 0.07334273624823695\n",
      "Returning a dense matrix format\n",
      "Calculating Ythat...\n",
      "Sparsity: 0.07334273624823695\n",
      "Finding paths...\n"
     ]
    },
    {
     "name": "stderr",
     "output_type": "stream",
     "text": [
      "\u001b[32mProgress: 100%|█████████████████████████████████████████| Time: 0:00:01\u001b[39m\n"
     ]
    },
    {
     "name": "stdout",
     "output_type": "stream",
     "text": [
      "==========\n",
      "Timestep 2\n",
      "average 104.0 of paths currently\n",
      "Calculating Yt...\n",
      "Calculating Mt...\n",
      "Auto mode: Sparsity: 0.1755994358251058\n",
      "Returning a dense matrix format\n",
      "Calculating Ythat...\n",
      "Sparsity: 0.1755994358251058\n",
      "Finding paths...\n"
     ]
    },
    {
     "name": "stderr",
     "output_type": "stream",
     "text": [
      "\u001b[32mProgress: 100%|█████████████████████████████████████████| Time: 0:00:03\u001b[39m\n"
     ]
    },
    {
     "name": "stdout",
     "output_type": "stream",
     "text": [
      "==========\n",
      "Timestep 3\n",
      "average 247.0 of paths currently\n",
      "Calculating Yt...\n",
      "Calculating Mt...\n",
      "Auto mode: Sparsity: 0.2834978843441467\n",
      "Returning a dense matrix format\n",
      "Calculating Ythat...\n",
      "Sparsity: 0.2834978843441467\n",
      "Finding paths...\n"
     ]
    },
    {
     "name": "stderr",
     "output_type": "stream",
     "text": [
      "\u001b[32mProgress: 100%|█████████████████████████████████████████| Time: 0:00:09\u001b[39m\n"
     ]
    },
    {
     "name": "stdout",
     "output_type": "stream",
     "text": [
      "==========\n",
      "Timestep 4\n",
      "average 610.9891304347826 of paths currently\n",
      "Calculating Yt...\n",
      "Calculating Mt...\n",
      "Auto mode: Sparsity: 0.383638928067701\n",
      "Returning a dense matrix format\n",
      "Calculating Ythat...\n",
      "Sparsity: 0.383638928067701\n",
      "Finding paths...\n"
     ]
    },
    {
     "name": "stderr",
     "output_type": "stream",
     "text": [
      "\u001b[32mProgress: 100%|█████████████████████████████████████████| Time: 0:00:00\u001b[39m\n"
     ]
    },
    {
     "name": "stdout",
     "output_type": "stream",
     "text": [
      "==========\n",
      "Timestep 5\n",
      "average 29.627329192546583 of paths currently\n",
      "Calculating Yt...\n",
      "Calculating Mt...\n",
      "Auto mode: Sparsity: 0.32651622002820874\n",
      "Returning a dense matrix format\n",
      "Calculating Ythat...\n",
      "Sparsity: 0.32651622002820874\n",
      "Finding paths...\n"
     ]
    },
    {
     "name": "stderr",
     "output_type": "stream",
     "text": [
      "\u001b[32mProgress: 100%|█████████████████████████████████████████| Time: 0:00:00\u001b[39m\n"
     ]
    },
    {
     "name": "stdout",
     "output_type": "stream",
     "text": [
      "==========\n",
      "Timestep 6\n",
      "average 23.3944099378882 of paths currently\n",
      "Calculating Yt...\n",
      "Calculating Mt...\n",
      "Auto mode: Sparsity: 0.17277856135401976\n",
      "Returning a dense matrix format\n",
      "Calculating Ythat...\n",
      "Sparsity: 0.17277856135401976\n",
      "Finding paths...\n"
     ]
    },
    {
     "name": "stderr",
     "output_type": "stream",
     "text": [
      "\u001b[32mProgress: 100%|█████████████████████████████████████████| Time: 0:00:00\u001b[39m\n"
     ]
    },
    {
     "name": "stdout",
     "output_type": "stream",
     "text": [
      "==========\n",
      "Timestep 7\n",
      "average 29.305900621118013 of paths currently\n",
      "Calculating Yt...\n",
      "Calculating Mt...\n",
      "Auto mode: Sparsity: 0.12693935119887165\n",
      "Returning a dense matrix format\n",
      "Calculating Ythat...\n",
      "Sparsity: 0.12693935119887165\n",
      "Finding paths...\n"
     ]
    },
    {
     "name": "stderr",
     "output_type": "stream",
     "text": [
      "\u001b[32mProgress: 100%|█████████████████████████████████████████| Time: 0:00:00\u001b[39m\n"
     ]
    },
    {
     "name": "stdout",
     "output_type": "stream",
     "text": [
      "==========\n",
      "Timestep 8\n",
      "average 34.618788819875775 of paths currently\n",
      "Calculating Yt...\n",
      "Calculating Mt...\n",
      "Auto mode: Sparsity: 0.1156558533145275\n",
      "Returning a dense matrix format\n",
      "Calculating Ythat...\n",
      "Sparsity: 0.1156558533145275\n",
      "Finding paths...\n"
     ]
    },
    {
     "name": "stderr",
     "output_type": "stream",
     "text": [
      "\u001b[32mProgress: 100%|█████████████████████████████████████████| Time: 0:00:00\u001b[39m\n"
     ]
    },
    {
     "name": "stdout",
     "output_type": "stream",
     "text": [
      "==========\n",
      "Timestep 9\n",
      "average 38.09704968944099 of paths currently\n",
      "Calculating Yt...\n",
      "Calculating Mt...\n",
      "Auto mode: Sparsity: 0.10437235543018336\n",
      "Returning a dense matrix format\n",
      "Calculating Ythat...\n",
      "Sparsity: 0.10437235543018336\n",
      "Finding paths...\n"
     ]
    },
    {
     "name": "stderr",
     "output_type": "stream",
     "text": [
      "\u001b[32mProgress: 100%|█████████████████████████████████████████| Time: 0:00:00\u001b[39m\n"
     ]
    },
    {
     "name": "stdout",
     "output_type": "stream",
     "text": [
      "==========\n",
      "Timestep 10\n",
      "average 32.807453416149066 of paths currently\n",
      "Calculating Yt...\n",
      "Calculating Mt...\n",
      "Auto mode: Sparsity: 0.06981664315937941\n",
      "Returning a dense matrix format\n",
      "Calculating Ythat...\n",
      "Sparsity: 0.06981664315937941\n",
      "Finding paths...\n"
     ]
    },
    {
     "name": "stderr",
     "output_type": "stream",
     "text": [
      "\u001b[32mProgress: 100%|█████████████████████████████████████████| Time: 0:00:00\u001b[39m\n"
     ]
    },
    {
     "name": "stdout",
     "output_type": "stream",
     "text": [
      "==========\n",
      "Timestep 11\n",
      "average 20.781832298136646 of paths currently\n",
      "Calculating Yt...\n",
      "Calculating Mt...\n",
      "Auto mode: Sparsity: 0.05571227080394922\n",
      "Returning a dense matrix format\n",
      "Calculating Ythat...\n",
      "Sparsity: 0.05571227080394922\n",
      "Finding paths...\n"
     ]
    },
    {
     "name": "stderr",
     "output_type": "stream",
     "text": [
      "\u001b[32mProgress: 100%|█████████████████████████████████████████| Time: 0:00:00\u001b[39m\n"
     ]
    },
    {
     "name": "stdout",
     "output_type": "stream",
     "text": [
      "==========\n",
      "Timestep 12\n",
      "average 14.194099378881987 of paths currently\n",
      "Calculating Yt...\n",
      "Calculating Mt...\n",
      "Auto mode: Sparsity: 0.04231311706629055\n",
      "Returning a sparse matrix format\n",
      "Calculating Ythat...\n",
      "Sparsity: 0.04231311706629055\n",
      "Finding paths...\n"
     ]
    },
    {
     "name": "stderr",
     "output_type": "stream",
     "text": [
      "\u001b[32mProgress: 100%|█████████████████████████████████████████| Time: 0:00:00\u001b[39m\n"
     ]
    },
    {
     "name": "stdout",
     "output_type": "stream",
     "text": [
      "==========\n",
      "Timestep 13\n",
      "average 7.461956521739131 of paths currently\n",
      "Calculating Yt...\n",
      "Calculating Mt...\n",
      "Auto mode: Sparsity: 0.02538787023977433\n",
      "Returning a sparse matrix format\n",
      "Calculating Ythat...\n",
      "Sparsity: 0.02538787023977433\n",
      "Finding paths...\n"
     ]
    },
    {
     "name": "stderr",
     "output_type": "stream",
     "text": [
      "\u001b[32mProgress: 100%|█████████████████████████████████████████| Time: 0:00:00\u001b[39m\n"
     ]
    },
    {
     "name": "stdout",
     "output_type": "stream",
     "text": [
      "==========\n",
      "Timestep 14\n",
      "average 4.763975155279503 of paths currently\n",
      "Calculating Yt...\n",
      "Calculating Mt...\n",
      "Auto mode: Sparsity: 0.012693935119887164\n",
      "Returning a sparse matrix format\n",
      "Calculating Ythat...\n",
      "Sparsity: 0.012693935119887164\n",
      "Finding paths...\n"
     ]
    },
    {
     "name": "stderr",
     "output_type": "stream",
     "text": [
      "\u001b[32mProgress: 100%|█████████████████████████████████████████| Time: 0:00:00\u001b[39m\n"
     ]
    },
    {
     "name": "stdout",
     "output_type": "stream",
     "text": [
      "==========\n",
      "Timestep 15\n",
      "average 2.4642857142857144 of paths currently\n",
      "Calculating Yt...\n",
      "Calculating Mt...\n",
      "Auto mode: Sparsity: 0.007757404795486601\n",
      "Returning a sparse matrix format\n",
      "Calculating Ythat...\n",
      "Sparsity: 0.007757404795486601\n",
      "Finding paths...\n",
      "==========\n",
      "Timestep 16\n",
      "average 0.7080745341614907 of paths currently\n",
      "Calculating Yt...\n",
      "Calculating Mt...\n",
      "Auto mode: Sparsity: 0.005641748942172073\n",
      "Returning a sparse matrix format\n",
      "Calculating Ythat...\n",
      "Sparsity: 0.005641748942172073\n",
      "Finding paths...\n",
      "==========\n",
      "Timestep 17\n",
      "average 0.062111801242236024 of paths currently\n",
      "Calculating Yt...\n",
      "Calculating Mt...\n",
      "Auto mode: Sparsity: 4.97333298851558e-7\n",
      "Returning a sparse matrix format\n",
      "Calculating Ythat...\n",
      "Sparsity: 0.0\n",
      "Finding paths...\n",
      "==========\n",
      "Timestep 18\n",
      "average 0.09006211180124224 of paths currently\n",
      "Calculating Yt...\n",
      "Calculating Mt...\n",
      "Auto mode: Sparsity: 4.97333298851558e-7\n",
      "Returning a sparse matrix format\n",
      "Calculating Ythat...\n",
      "Sparsity: 0.0\n",
      "Finding paths...\n",
      "Evaluating paths...\n",
      "average 138.027950310559 of paths to evaluate\n"
     ]
    },
    {
     "name": "stderr",
     "output_type": "stream",
     "text": [
      "\u001b[32mProgress: 100%|█████████████████████████████████████████| Time: 0:00:22\u001b[39m\n"
     ]
    },
    {
     "name": "stdout",
     "output_type": "stream",
     "text": [
      "Finding all top features..\n",
      "finding all n_neighbors features...\n"
     ]
    },
    {
     "name": "stderr",
     "output_type": "stream",
     "text": [
      "\u001b[32mProgress: 100%|█████████████████████████████████████████| Time: 0:00:01\u001b[39m\n"
     ]
    },
    {
     "name": "stdout",
     "output_type": "stream",
     "text": [
      "Finding paths...\n"
     ]
    },
    {
     "name": "stderr",
     "output_type": "stream",
     "text": [
      "\u001b[32mProgress: 100%|█████████████████████████████████████████| Time: 0:00:01\u001b[39m\n"
     ]
    },
    {
     "name": "stdout",
     "output_type": "stream",
     "text": [
      "Evaluating paths...\n",
      "average 30.64447894430429 of paths to evaluate\n"
     ]
    },
    {
     "name": "stderr",
     "output_type": "stream",
     "text": [
      "\u001b[32mProgress: 100%|█████████████████████████████████████████| Time: 0:00:24\u001b[39m\n"
     ]
    },
    {
     "name": "stdout",
     "output_type": "stream",
     "text": [
      "Finding all top features..\n",
      "finding all n_neighbors features...\n"
     ]
    },
    {
     "name": "stderr",
     "output_type": "stream",
     "text": [
      "\u001b[32mProgress: 100%|█████████████████████████████████████████| Time: 0:00:00\u001b[39m\n"
     ]
    },
    {
     "name": "stdout",
     "output_type": "stream",
     "text": [
      "Finding paths...\n"
     ]
    },
    {
     "name": "stderr",
     "output_type": "stream",
     "text": [
      "\u001b[32mProgress: 100%|█████████████████████████████████████████| Time: 0:00:00\u001b[39m\n"
     ]
    },
    {
     "name": "stdout",
     "output_type": "stream",
     "text": [
      "Evaluating paths...\n",
      "average 130.3416149068323 of paths to evaluate\n"
     ]
    },
    {
     "name": "stderr",
     "output_type": "stream",
     "text": [
      "\u001b[32mProgress: 100%|█████████████████████████████████████████| Time: 0:00:27\u001b[39m\n"
     ]
    },
    {
     "name": "stdout",
     "output_type": "stream",
     "text": [
      "127.739193 seconds (111.36 M allocations: 95.446 GiB, 8.61% gc time)\n"
     ]
    }
   ],
   "source": [
    "@time JudiLing.test_combo(\n",
    "    :pre_split,\n",
    "    data_dir_path=joinpath(@__DIR__),\n",
    "    data_prefix=\"estonian\",\n",
    "    n_features_columns=[\"Lexeme\",\"Case\",\"Number\"],\n",
    "    n_grams_target_col=:Word,\n",
    "    n_grams_tokenized=false,\n",
    "    grams=3,\n",
    "    n_features_base = [\"Lexeme\"],\n",
    "    n_features_inflections = [\"Lexeme\",\"Case\",\"Number\"],\n",
    "    if_combined = false,\n",
    "    A_mode = :train_only,\n",
    "    threshold_train = 0.05,\n",
    "    is_tolerant_train = false,\n",
    "    threshold_val = 0.1,\n",
    "    is_tolerant_val = true,\n",
    "    tolerance_val = -0.1,\n",
    "    max_tolerance_val = 3,\n",
    "    verbose = true)"
   ]
  },
  {
   "cell_type": "code",
   "execution_count": 56,
   "metadata": {},
   "outputs": [
    {
     "name": "stdout",
     "output_type": "stream",
     "text": [
      "readline(f) = \"Acc for Chat train: 0.9126722297690666\"\n",
      "readline(f) = \"Acc for Shat train: 0.9749660392004658\"\n",
      "readline(f) = \"Acc for Shat train homophones: 0.9912672229769066\"\n",
      "readline(f) = \"Acc for Chat val: 0.8260869565217391\"\n",
      "readline(f) = \"Acc for Shat val: 0.9798136645962733\"\n",
      "readline(f) = \"Acc for Shat val homophones: 0.9860248447204969\"\n",
      "readline(f) = \"Acc for learn_path train: 0.9827285076654376\"\n",
      "readline(f) = \"Acc for learn_path val: 0.7919254658385093\"\n",
      "readline(f) = \"Acc for build_path train: 0.9780710265864545\"\n",
      "readline(f) = \"Acc for build_path val: 0.38742236024844723\"\n"
     ]
    }
   ],
   "source": [
    "f = open(\"out/acc.out\")\n",
    "for i in 1:10\n",
    "    @show readline(f)\n",
    "end"
   ]
  },
  {
   "cell_type": "code",
   "execution_count": null,
   "metadata": {},
   "outputs": [],
   "source": []
  }
 ],
 "metadata": {
  "kernelspec": {
   "display_name": "Julia 1.5.3",
   "language": "julia",
   "name": "julia-1.5"
  },
  "language_info": {
   "file_extension": ".jl",
   "mimetype": "application/julia",
   "name": "julia",
   "version": "1.5.3"
  }
 },
 "nbformat": 4,
 "nbformat_minor": 4
}
